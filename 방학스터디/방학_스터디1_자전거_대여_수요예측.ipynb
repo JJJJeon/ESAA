{
  "nbformat": 4,
  "nbformat_minor": 0,
  "metadata": {
    "colab": {
      "provenance": [],
      "mount_file_id": "16WpLsZrcjl6zsDdwgHbiW_7yzRCFSKjY",
      "authorship_tag": "ABX9TyPdWzgpVwVEWgGIb1LPtTvb",
      "include_colab_link": true
    },
    "kernelspec": {
      "name": "python3",
      "display_name": "Python 3"
    },
    "language_info": {
      "name": "python"
    }
  },
  "cells": [
    {
      "cell_type": "markdown",
      "metadata": {
        "id": "view-in-github",
        "colab_type": "text"
      },
      "source": [
        "<a href=\"https://colab.research.google.com/github/JJJJeon/ESAA/blob/main/%EB%B0%A9%ED%95%99_%EC%8A%A4%ED%84%B0%EB%94%941_%EC%9E%90%EC%A0%84%EA%B1%B0_%EB%8C%80%EC%97%AC_%EC%88%98%EC%9A%94%EC%98%88%EC%B8%A1.ipynb\" target=\"_parent\"><img src=\"https://colab.research.google.com/assets/colab-badge.svg\" alt=\"Open In Colab\"/></a>"
      ]
    },
    {
      "cell_type": "markdown",
      "source": [
        "## 자전거 대여 수요 예측 경진대회\n",
        "* 날짜, 계절, 근무일 여부, 날씨, 온도, 체감 온도, 풍속 데이터를 활용하여 자전거 대여 수량 예측\n",
        "* 유형: 회귀\n",
        "* 평가지표: RMSLE\n",
        "* 학습 목표: 머신러닝 모델링 프로세스와 기본적인 회귀 모델 학습\n",
        "* 피처: 대여 날짜, 시간, 요일, 계절, 날씨, 온도 / 타깃값: 대여 수량"
      ],
      "metadata": {
        "id": "aX7vl0lj5IKM"
      }
    },
    {
      "cell_type": "markdown",
      "source": [
        "> 피처 의미\n",
        " + datetime: 기록 일시(한시간 간격)\n",
        " + season: 계절(1: 봄, 2: 여름, 3: 가을, 4: 겨울)\n",
        " + holiday: 공휴일 여부(0: 공휴일 아님, 1: 공휴일)\n",
        " + workingday: 근무일 여부(0: 근무일 아님(주말, 공휴일), 1: 근무일)\n",
        " + weather: 날씨(1: 맑음, 2: 옅은 안개, 약간 흐림, 3: 약간의 눈, 약간의 비와 천둥 번개, 흐림, 4: 폭우와 천둥 번개, 눈과 짙은 안개)\n",
        " + temp: 실제 온도\n",
        " + atemp: 체감 온도\n",
        " + humidity: 상대 습도\n",
        " + windspeed: 풍속\n",
        " + casual: 등록되지 않은 사용자(비회원) 수\n",
        " + registered: 등록된 사용자(회원) 수\n",
        " + count: 자전거 대여 수량"
      ],
      "metadata": {
        "id": "vvHQrT6GBRQJ"
      }
    },
    {
      "cell_type": "markdown",
      "source": [
        "### 1. 데이터 둘러보기"
      ],
      "metadata": {
        "id": "lFGTjABcABc4"
      }
    },
    {
      "cell_type": "code",
      "execution_count": 125,
      "metadata": {
        "id": "svvxS3uD5CTF"
      },
      "outputs": [],
      "source": [
        "import numpy as np\n",
        "import pandas as pd   # 판다스 임포트\n",
        "\n",
        "train=pd.read_csv('/content/drive/MyDrive/readcsv/bikesharing/train.csv') # 훈련 데이터\n",
        "test=pd.read_csv('/content/drive/MyDrive/readcsv/bikesharing/test.csv') # 테스트 데이터\n",
        "submission=pd.read_csv('/content/drive/MyDrive/readcsv/bikesharing/sampleSubmission.csv') # 제출 샘플 데이터"
      ]
    },
    {
      "cell_type": "code",
      "source": [
        "train.shape, test.shape # 피처 개수가 서로 다름"
      ],
      "metadata": {
        "colab": {
          "base_uri": "https://localhost:8080/"
        },
        "id": "MVRDXxHa6blm",
        "outputId": "9cd80be8-2223-4f66-e355-a420702c68c5"
      },
      "execution_count": 126,
      "outputs": [
        {
          "output_type": "execute_result",
          "data": {
            "text/plain": [
              "((10886, 12), (6493, 9))"
            ]
          },
          "metadata": {},
          "execution_count": 126
        }
      ]
    },
    {
      "cell_type": "code",
      "source": [
        "train.head()"
      ],
      "metadata": {
        "colab": {
          "base_uri": "https://localhost:8080/",
          "height": 206
        },
        "id": "MQPviKF86bjl",
        "outputId": "f6e61222-9585-4c7f-e3ff-ec08dafcfeb4"
      },
      "execution_count": 127,
      "outputs": [
        {
          "output_type": "execute_result",
          "data": {
            "text/plain": [
              "              datetime  season  holiday  workingday  weather  temp   atemp  \\\n",
              "0  2011-01-01 00:00:00       1        0           0        1  9.84  14.395   \n",
              "1  2011-01-01 01:00:00       1        0           0        1  9.02  13.635   \n",
              "2  2011-01-01 02:00:00       1        0           0        1  9.02  13.635   \n",
              "3  2011-01-01 03:00:00       1        0           0        1  9.84  14.395   \n",
              "4  2011-01-01 04:00:00       1        0           0        1  9.84  14.395   \n",
              "\n",
              "   humidity  windspeed  casual  registered  count  \n",
              "0        81        0.0       3          13     16  \n",
              "1        80        0.0       8          32     40  \n",
              "2        80        0.0       5          27     32  \n",
              "3        75        0.0       3          10     13  \n",
              "4        75        0.0       0           1      1  "
            ],
            "text/html": [
              "\n",
              "  <div id=\"df-d4690a34-3e0b-4db6-9c8c-d888afc18eae\">\n",
              "    <div class=\"colab-df-container\">\n",
              "      <div>\n",
              "<style scoped>\n",
              "    .dataframe tbody tr th:only-of-type {\n",
              "        vertical-align: middle;\n",
              "    }\n",
              "\n",
              "    .dataframe tbody tr th {\n",
              "        vertical-align: top;\n",
              "    }\n",
              "\n",
              "    .dataframe thead th {\n",
              "        text-align: right;\n",
              "    }\n",
              "</style>\n",
              "<table border=\"1\" class=\"dataframe\">\n",
              "  <thead>\n",
              "    <tr style=\"text-align: right;\">\n",
              "      <th></th>\n",
              "      <th>datetime</th>\n",
              "      <th>season</th>\n",
              "      <th>holiday</th>\n",
              "      <th>workingday</th>\n",
              "      <th>weather</th>\n",
              "      <th>temp</th>\n",
              "      <th>atemp</th>\n",
              "      <th>humidity</th>\n",
              "      <th>windspeed</th>\n",
              "      <th>casual</th>\n",
              "      <th>registered</th>\n",
              "      <th>count</th>\n",
              "    </tr>\n",
              "  </thead>\n",
              "  <tbody>\n",
              "    <tr>\n",
              "      <th>0</th>\n",
              "      <td>2011-01-01 00:00:00</td>\n",
              "      <td>1</td>\n",
              "      <td>0</td>\n",
              "      <td>0</td>\n",
              "      <td>1</td>\n",
              "      <td>9.84</td>\n",
              "      <td>14.395</td>\n",
              "      <td>81</td>\n",
              "      <td>0.0</td>\n",
              "      <td>3</td>\n",
              "      <td>13</td>\n",
              "      <td>16</td>\n",
              "    </tr>\n",
              "    <tr>\n",
              "      <th>1</th>\n",
              "      <td>2011-01-01 01:00:00</td>\n",
              "      <td>1</td>\n",
              "      <td>0</td>\n",
              "      <td>0</td>\n",
              "      <td>1</td>\n",
              "      <td>9.02</td>\n",
              "      <td>13.635</td>\n",
              "      <td>80</td>\n",
              "      <td>0.0</td>\n",
              "      <td>8</td>\n",
              "      <td>32</td>\n",
              "      <td>40</td>\n",
              "    </tr>\n",
              "    <tr>\n",
              "      <th>2</th>\n",
              "      <td>2011-01-01 02:00:00</td>\n",
              "      <td>1</td>\n",
              "      <td>0</td>\n",
              "      <td>0</td>\n",
              "      <td>1</td>\n",
              "      <td>9.02</td>\n",
              "      <td>13.635</td>\n",
              "      <td>80</td>\n",
              "      <td>0.0</td>\n",
              "      <td>5</td>\n",
              "      <td>27</td>\n",
              "      <td>32</td>\n",
              "    </tr>\n",
              "    <tr>\n",
              "      <th>3</th>\n",
              "      <td>2011-01-01 03:00:00</td>\n",
              "      <td>1</td>\n",
              "      <td>0</td>\n",
              "      <td>0</td>\n",
              "      <td>1</td>\n",
              "      <td>9.84</td>\n",
              "      <td>14.395</td>\n",
              "      <td>75</td>\n",
              "      <td>0.0</td>\n",
              "      <td>3</td>\n",
              "      <td>10</td>\n",
              "      <td>13</td>\n",
              "    </tr>\n",
              "    <tr>\n",
              "      <th>4</th>\n",
              "      <td>2011-01-01 04:00:00</td>\n",
              "      <td>1</td>\n",
              "      <td>0</td>\n",
              "      <td>0</td>\n",
              "      <td>1</td>\n",
              "      <td>9.84</td>\n",
              "      <td>14.395</td>\n",
              "      <td>75</td>\n",
              "      <td>0.0</td>\n",
              "      <td>0</td>\n",
              "      <td>1</td>\n",
              "      <td>1</td>\n",
              "    </tr>\n",
              "  </tbody>\n",
              "</table>\n",
              "</div>\n",
              "      <button class=\"colab-df-convert\" onclick=\"convertToInteractive('df-d4690a34-3e0b-4db6-9c8c-d888afc18eae')\"\n",
              "              title=\"Convert this dataframe to an interactive table.\"\n",
              "              style=\"display:none;\">\n",
              "        \n",
              "  <svg xmlns=\"http://www.w3.org/2000/svg\" height=\"24px\"viewBox=\"0 0 24 24\"\n",
              "       width=\"24px\">\n",
              "    <path d=\"M0 0h24v24H0V0z\" fill=\"none\"/>\n",
              "    <path d=\"M18.56 5.44l.94 2.06.94-2.06 2.06-.94-2.06-.94-.94-2.06-.94 2.06-2.06.94zm-11 1L8.5 8.5l.94-2.06 2.06-.94-2.06-.94L8.5 2.5l-.94 2.06-2.06.94zm10 10l.94 2.06.94-2.06 2.06-.94-2.06-.94-.94-2.06-.94 2.06-2.06.94z\"/><path d=\"M17.41 7.96l-1.37-1.37c-.4-.4-.92-.59-1.43-.59-.52 0-1.04.2-1.43.59L10.3 9.45l-7.72 7.72c-.78.78-.78 2.05 0 2.83L4 21.41c.39.39.9.59 1.41.59.51 0 1.02-.2 1.41-.59l7.78-7.78 2.81-2.81c.8-.78.8-2.07 0-2.86zM5.41 20L4 18.59l7.72-7.72 1.47 1.35L5.41 20z\"/>\n",
              "  </svg>\n",
              "      </button>\n",
              "      \n",
              "  <style>\n",
              "    .colab-df-container {\n",
              "      display:flex;\n",
              "      flex-wrap:wrap;\n",
              "      gap: 12px;\n",
              "    }\n",
              "\n",
              "    .colab-df-convert {\n",
              "      background-color: #E8F0FE;\n",
              "      border: none;\n",
              "      border-radius: 50%;\n",
              "      cursor: pointer;\n",
              "      display: none;\n",
              "      fill: #1967D2;\n",
              "      height: 32px;\n",
              "      padding: 0 0 0 0;\n",
              "      width: 32px;\n",
              "    }\n",
              "\n",
              "    .colab-df-convert:hover {\n",
              "      background-color: #E2EBFA;\n",
              "      box-shadow: 0px 1px 2px rgba(60, 64, 67, 0.3), 0px 1px 3px 1px rgba(60, 64, 67, 0.15);\n",
              "      fill: #174EA6;\n",
              "    }\n",
              "\n",
              "    [theme=dark] .colab-df-convert {\n",
              "      background-color: #3B4455;\n",
              "      fill: #D2E3FC;\n",
              "    }\n",
              "\n",
              "    [theme=dark] .colab-df-convert:hover {\n",
              "      background-color: #434B5C;\n",
              "      box-shadow: 0px 1px 3px 1px rgba(0, 0, 0, 0.15);\n",
              "      filter: drop-shadow(0px 1px 2px rgba(0, 0, 0, 0.3));\n",
              "      fill: #FFFFFF;\n",
              "    }\n",
              "  </style>\n",
              "\n",
              "      <script>\n",
              "        const buttonEl =\n",
              "          document.querySelector('#df-d4690a34-3e0b-4db6-9c8c-d888afc18eae button.colab-df-convert');\n",
              "        buttonEl.style.display =\n",
              "          google.colab.kernel.accessAllowed ? 'block' : 'none';\n",
              "\n",
              "        async function convertToInteractive(key) {\n",
              "          const element = document.querySelector('#df-d4690a34-3e0b-4db6-9c8c-d888afc18eae');\n",
              "          const dataTable =\n",
              "            await google.colab.kernel.invokeFunction('convertToInteractive',\n",
              "                                                     [key], {});\n",
              "          if (!dataTable) return;\n",
              "\n",
              "          const docLinkHtml = 'Like what you see? Visit the ' +\n",
              "            '<a target=\"_blank\" href=https://colab.research.google.com/notebooks/data_table.ipynb>data table notebook</a>'\n",
              "            + ' to learn more about interactive tables.';\n",
              "          element.innerHTML = '';\n",
              "          dataTable['output_type'] = 'display_data';\n",
              "          await google.colab.output.renderOutput(dataTable, element);\n",
              "          const docLink = document.createElement('div');\n",
              "          docLink.innerHTML = docLinkHtml;\n",
              "          element.appendChild(docLink);\n",
              "        }\n",
              "      </script>\n",
              "    </div>\n",
              "  </div>\n",
              "  "
            ]
          },
          "metadata": {},
          "execution_count": 127
        }
      ]
    },
    {
      "cell_type": "code",
      "source": [
        "test.head() # casual, registered 빠짐 -> train에서 casual, registered 피처 제거"
      ],
      "metadata": {
        "colab": {
          "base_uri": "https://localhost:8080/",
          "height": 206
        },
        "id": "MqcJh0ki6bhY",
        "outputId": "8304ee18-7ac2-4451-a2d5-644c64b97475"
      },
      "execution_count": 128,
      "outputs": [
        {
          "output_type": "execute_result",
          "data": {
            "text/plain": [
              "              datetime  season  holiday  workingday  weather   temp   atemp  \\\n",
              "0  2011-01-20 00:00:00       1        0           1        1  10.66  11.365   \n",
              "1  2011-01-20 01:00:00       1        0           1        1  10.66  13.635   \n",
              "2  2011-01-20 02:00:00       1        0           1        1  10.66  13.635   \n",
              "3  2011-01-20 03:00:00       1        0           1        1  10.66  12.880   \n",
              "4  2011-01-20 04:00:00       1        0           1        1  10.66  12.880   \n",
              "\n",
              "   humidity  windspeed  \n",
              "0        56    26.0027  \n",
              "1        56     0.0000  \n",
              "2        56     0.0000  \n",
              "3        56    11.0014  \n",
              "4        56    11.0014  "
            ],
            "text/html": [
              "\n",
              "  <div id=\"df-1bb6f087-017d-400f-9009-8f0e54e53301\">\n",
              "    <div class=\"colab-df-container\">\n",
              "      <div>\n",
              "<style scoped>\n",
              "    .dataframe tbody tr th:only-of-type {\n",
              "        vertical-align: middle;\n",
              "    }\n",
              "\n",
              "    .dataframe tbody tr th {\n",
              "        vertical-align: top;\n",
              "    }\n",
              "\n",
              "    .dataframe thead th {\n",
              "        text-align: right;\n",
              "    }\n",
              "</style>\n",
              "<table border=\"1\" class=\"dataframe\">\n",
              "  <thead>\n",
              "    <tr style=\"text-align: right;\">\n",
              "      <th></th>\n",
              "      <th>datetime</th>\n",
              "      <th>season</th>\n",
              "      <th>holiday</th>\n",
              "      <th>workingday</th>\n",
              "      <th>weather</th>\n",
              "      <th>temp</th>\n",
              "      <th>atemp</th>\n",
              "      <th>humidity</th>\n",
              "      <th>windspeed</th>\n",
              "    </tr>\n",
              "  </thead>\n",
              "  <tbody>\n",
              "    <tr>\n",
              "      <th>0</th>\n",
              "      <td>2011-01-20 00:00:00</td>\n",
              "      <td>1</td>\n",
              "      <td>0</td>\n",
              "      <td>1</td>\n",
              "      <td>1</td>\n",
              "      <td>10.66</td>\n",
              "      <td>11.365</td>\n",
              "      <td>56</td>\n",
              "      <td>26.0027</td>\n",
              "    </tr>\n",
              "    <tr>\n",
              "      <th>1</th>\n",
              "      <td>2011-01-20 01:00:00</td>\n",
              "      <td>1</td>\n",
              "      <td>0</td>\n",
              "      <td>1</td>\n",
              "      <td>1</td>\n",
              "      <td>10.66</td>\n",
              "      <td>13.635</td>\n",
              "      <td>56</td>\n",
              "      <td>0.0000</td>\n",
              "    </tr>\n",
              "    <tr>\n",
              "      <th>2</th>\n",
              "      <td>2011-01-20 02:00:00</td>\n",
              "      <td>1</td>\n",
              "      <td>0</td>\n",
              "      <td>1</td>\n",
              "      <td>1</td>\n",
              "      <td>10.66</td>\n",
              "      <td>13.635</td>\n",
              "      <td>56</td>\n",
              "      <td>0.0000</td>\n",
              "    </tr>\n",
              "    <tr>\n",
              "      <th>3</th>\n",
              "      <td>2011-01-20 03:00:00</td>\n",
              "      <td>1</td>\n",
              "      <td>0</td>\n",
              "      <td>1</td>\n",
              "      <td>1</td>\n",
              "      <td>10.66</td>\n",
              "      <td>12.880</td>\n",
              "      <td>56</td>\n",
              "      <td>11.0014</td>\n",
              "    </tr>\n",
              "    <tr>\n",
              "      <th>4</th>\n",
              "      <td>2011-01-20 04:00:00</td>\n",
              "      <td>1</td>\n",
              "      <td>0</td>\n",
              "      <td>1</td>\n",
              "      <td>1</td>\n",
              "      <td>10.66</td>\n",
              "      <td>12.880</td>\n",
              "      <td>56</td>\n",
              "      <td>11.0014</td>\n",
              "    </tr>\n",
              "  </tbody>\n",
              "</table>\n",
              "</div>\n",
              "      <button class=\"colab-df-convert\" onclick=\"convertToInteractive('df-1bb6f087-017d-400f-9009-8f0e54e53301')\"\n",
              "              title=\"Convert this dataframe to an interactive table.\"\n",
              "              style=\"display:none;\">\n",
              "        \n",
              "  <svg xmlns=\"http://www.w3.org/2000/svg\" height=\"24px\"viewBox=\"0 0 24 24\"\n",
              "       width=\"24px\">\n",
              "    <path d=\"M0 0h24v24H0V0z\" fill=\"none\"/>\n",
              "    <path d=\"M18.56 5.44l.94 2.06.94-2.06 2.06-.94-2.06-.94-.94-2.06-.94 2.06-2.06.94zm-11 1L8.5 8.5l.94-2.06 2.06-.94-2.06-.94L8.5 2.5l-.94 2.06-2.06.94zm10 10l.94 2.06.94-2.06 2.06-.94-2.06-.94-.94-2.06-.94 2.06-2.06.94z\"/><path d=\"M17.41 7.96l-1.37-1.37c-.4-.4-.92-.59-1.43-.59-.52 0-1.04.2-1.43.59L10.3 9.45l-7.72 7.72c-.78.78-.78 2.05 0 2.83L4 21.41c.39.39.9.59 1.41.59.51 0 1.02-.2 1.41-.59l7.78-7.78 2.81-2.81c.8-.78.8-2.07 0-2.86zM5.41 20L4 18.59l7.72-7.72 1.47 1.35L5.41 20z\"/>\n",
              "  </svg>\n",
              "      </button>\n",
              "      \n",
              "  <style>\n",
              "    .colab-df-container {\n",
              "      display:flex;\n",
              "      flex-wrap:wrap;\n",
              "      gap: 12px;\n",
              "    }\n",
              "\n",
              "    .colab-df-convert {\n",
              "      background-color: #E8F0FE;\n",
              "      border: none;\n",
              "      border-radius: 50%;\n",
              "      cursor: pointer;\n",
              "      display: none;\n",
              "      fill: #1967D2;\n",
              "      height: 32px;\n",
              "      padding: 0 0 0 0;\n",
              "      width: 32px;\n",
              "    }\n",
              "\n",
              "    .colab-df-convert:hover {\n",
              "      background-color: #E2EBFA;\n",
              "      box-shadow: 0px 1px 2px rgba(60, 64, 67, 0.3), 0px 1px 3px 1px rgba(60, 64, 67, 0.15);\n",
              "      fill: #174EA6;\n",
              "    }\n",
              "\n",
              "    [theme=dark] .colab-df-convert {\n",
              "      background-color: #3B4455;\n",
              "      fill: #D2E3FC;\n",
              "    }\n",
              "\n",
              "    [theme=dark] .colab-df-convert:hover {\n",
              "      background-color: #434B5C;\n",
              "      box-shadow: 0px 1px 3px 1px rgba(0, 0, 0, 0.15);\n",
              "      filter: drop-shadow(0px 1px 2px rgba(0, 0, 0, 0.3));\n",
              "      fill: #FFFFFF;\n",
              "    }\n",
              "  </style>\n",
              "\n",
              "      <script>\n",
              "        const buttonEl =\n",
              "          document.querySelector('#df-1bb6f087-017d-400f-9009-8f0e54e53301 button.colab-df-convert');\n",
              "        buttonEl.style.display =\n",
              "          google.colab.kernel.accessAllowed ? 'block' : 'none';\n",
              "\n",
              "        async function convertToInteractive(key) {\n",
              "          const element = document.querySelector('#df-1bb6f087-017d-400f-9009-8f0e54e53301');\n",
              "          const dataTable =\n",
              "            await google.colab.kernel.invokeFunction('convertToInteractive',\n",
              "                                                     [key], {});\n",
              "          if (!dataTable) return;\n",
              "\n",
              "          const docLinkHtml = 'Like what you see? Visit the ' +\n",
              "            '<a target=\"_blank\" href=https://colab.research.google.com/notebooks/data_table.ipynb>data table notebook</a>'\n",
              "            + ' to learn more about interactive tables.';\n",
              "          element.innerHTML = '';\n",
              "          dataTable['output_type'] = 'display_data';\n",
              "          await google.colab.output.renderOutput(dataTable, element);\n",
              "          const docLink = document.createElement('div');\n",
              "          docLink.innerHTML = docLinkHtml;\n",
              "          element.appendChild(docLink);\n",
              "        }\n",
              "      </script>\n",
              "    </div>\n",
              "  </div>\n",
              "  "
            ]
          },
          "metadata": {},
          "execution_count": 128
        }
      ]
    },
    {
      "cell_type": "code",
      "source": [
        "submission.head() # datetime: 데이터 구분하는 역할 -> datetime 피처 제거"
      ],
      "metadata": {
        "colab": {
          "base_uri": "https://localhost:8080/",
          "height": 206
        },
        "id": "5zFHFBp56bfG",
        "outputId": "0e859423-5a9f-4baf-ca8c-f5c7fc95edf4"
      },
      "execution_count": 129,
      "outputs": [
        {
          "output_type": "execute_result",
          "data": {
            "text/plain": [
              "              datetime  count\n",
              "0  2011-01-20 00:00:00      0\n",
              "1  2011-01-20 01:00:00      0\n",
              "2  2011-01-20 02:00:00      0\n",
              "3  2011-01-20 03:00:00      0\n",
              "4  2011-01-20 04:00:00      0"
            ],
            "text/html": [
              "\n",
              "  <div id=\"df-0c8a4660-6f3e-40d0-bb49-20af713b8a7e\">\n",
              "    <div class=\"colab-df-container\">\n",
              "      <div>\n",
              "<style scoped>\n",
              "    .dataframe tbody tr th:only-of-type {\n",
              "        vertical-align: middle;\n",
              "    }\n",
              "\n",
              "    .dataframe tbody tr th {\n",
              "        vertical-align: top;\n",
              "    }\n",
              "\n",
              "    .dataframe thead th {\n",
              "        text-align: right;\n",
              "    }\n",
              "</style>\n",
              "<table border=\"1\" class=\"dataframe\">\n",
              "  <thead>\n",
              "    <tr style=\"text-align: right;\">\n",
              "      <th></th>\n",
              "      <th>datetime</th>\n",
              "      <th>count</th>\n",
              "    </tr>\n",
              "  </thead>\n",
              "  <tbody>\n",
              "    <tr>\n",
              "      <th>0</th>\n",
              "      <td>2011-01-20 00:00:00</td>\n",
              "      <td>0</td>\n",
              "    </tr>\n",
              "    <tr>\n",
              "      <th>1</th>\n",
              "      <td>2011-01-20 01:00:00</td>\n",
              "      <td>0</td>\n",
              "    </tr>\n",
              "    <tr>\n",
              "      <th>2</th>\n",
              "      <td>2011-01-20 02:00:00</td>\n",
              "      <td>0</td>\n",
              "    </tr>\n",
              "    <tr>\n",
              "      <th>3</th>\n",
              "      <td>2011-01-20 03:00:00</td>\n",
              "      <td>0</td>\n",
              "    </tr>\n",
              "    <tr>\n",
              "      <th>4</th>\n",
              "      <td>2011-01-20 04:00:00</td>\n",
              "      <td>0</td>\n",
              "    </tr>\n",
              "  </tbody>\n",
              "</table>\n",
              "</div>\n",
              "      <button class=\"colab-df-convert\" onclick=\"convertToInteractive('df-0c8a4660-6f3e-40d0-bb49-20af713b8a7e')\"\n",
              "              title=\"Convert this dataframe to an interactive table.\"\n",
              "              style=\"display:none;\">\n",
              "        \n",
              "  <svg xmlns=\"http://www.w3.org/2000/svg\" height=\"24px\"viewBox=\"0 0 24 24\"\n",
              "       width=\"24px\">\n",
              "    <path d=\"M0 0h24v24H0V0z\" fill=\"none\"/>\n",
              "    <path d=\"M18.56 5.44l.94 2.06.94-2.06 2.06-.94-2.06-.94-.94-2.06-.94 2.06-2.06.94zm-11 1L8.5 8.5l.94-2.06 2.06-.94-2.06-.94L8.5 2.5l-.94 2.06-2.06.94zm10 10l.94 2.06.94-2.06 2.06-.94-2.06-.94-.94-2.06-.94 2.06-2.06.94z\"/><path d=\"M17.41 7.96l-1.37-1.37c-.4-.4-.92-.59-1.43-.59-.52 0-1.04.2-1.43.59L10.3 9.45l-7.72 7.72c-.78.78-.78 2.05 0 2.83L4 21.41c.39.39.9.59 1.41.59.51 0 1.02-.2 1.41-.59l7.78-7.78 2.81-2.81c.8-.78.8-2.07 0-2.86zM5.41 20L4 18.59l7.72-7.72 1.47 1.35L5.41 20z\"/>\n",
              "  </svg>\n",
              "      </button>\n",
              "      \n",
              "  <style>\n",
              "    .colab-df-container {\n",
              "      display:flex;\n",
              "      flex-wrap:wrap;\n",
              "      gap: 12px;\n",
              "    }\n",
              "\n",
              "    .colab-df-convert {\n",
              "      background-color: #E8F0FE;\n",
              "      border: none;\n",
              "      border-radius: 50%;\n",
              "      cursor: pointer;\n",
              "      display: none;\n",
              "      fill: #1967D2;\n",
              "      height: 32px;\n",
              "      padding: 0 0 0 0;\n",
              "      width: 32px;\n",
              "    }\n",
              "\n",
              "    .colab-df-convert:hover {\n",
              "      background-color: #E2EBFA;\n",
              "      box-shadow: 0px 1px 2px rgba(60, 64, 67, 0.3), 0px 1px 3px 1px rgba(60, 64, 67, 0.15);\n",
              "      fill: #174EA6;\n",
              "    }\n",
              "\n",
              "    [theme=dark] .colab-df-convert {\n",
              "      background-color: #3B4455;\n",
              "      fill: #D2E3FC;\n",
              "    }\n",
              "\n",
              "    [theme=dark] .colab-df-convert:hover {\n",
              "      background-color: #434B5C;\n",
              "      box-shadow: 0px 1px 3px 1px rgba(0, 0, 0, 0.15);\n",
              "      filter: drop-shadow(0px 1px 2px rgba(0, 0, 0, 0.3));\n",
              "      fill: #FFFFFF;\n",
              "    }\n",
              "  </style>\n",
              "\n",
              "      <script>\n",
              "        const buttonEl =\n",
              "          document.querySelector('#df-0c8a4660-6f3e-40d0-bb49-20af713b8a7e button.colab-df-convert');\n",
              "        buttonEl.style.display =\n",
              "          google.colab.kernel.accessAllowed ? 'block' : 'none';\n",
              "\n",
              "        async function convertToInteractive(key) {\n",
              "          const element = document.querySelector('#df-0c8a4660-6f3e-40d0-bb49-20af713b8a7e');\n",
              "          const dataTable =\n",
              "            await google.colab.kernel.invokeFunction('convertToInteractive',\n",
              "                                                     [key], {});\n",
              "          if (!dataTable) return;\n",
              "\n",
              "          const docLinkHtml = 'Like what you see? Visit the ' +\n",
              "            '<a target=\"_blank\" href=https://colab.research.google.com/notebooks/data_table.ipynb>data table notebook</a>'\n",
              "            + ' to learn more about interactive tables.';\n",
              "          element.innerHTML = '';\n",
              "          dataTable['output_type'] = 'display_data';\n",
              "          await google.colab.output.renderOutput(dataTable, element);\n",
              "          const docLink = document.createElement('div');\n",
              "          docLink.innerHTML = docLinkHtml;\n",
              "          element.appendChild(docLink);\n",
              "        }\n",
              "      </script>\n",
              "    </div>\n",
              "  </div>\n",
              "  "
            ]
          },
          "metadata": {},
          "execution_count": 129
        }
      ]
    },
    {
      "cell_type": "code",
      "source": [
        "train.info() # 결측값 없음"
      ],
      "metadata": {
        "colab": {
          "base_uri": "https://localhost:8080/"
        },
        "id": "3ZSQy5n_6bdG",
        "outputId": "b558fefc-48e6-496b-f5b7-3efa1b280ec4"
      },
      "execution_count": 130,
      "outputs": [
        {
          "output_type": "stream",
          "name": "stdout",
          "text": [
            "<class 'pandas.core.frame.DataFrame'>\n",
            "RangeIndex: 10886 entries, 0 to 10885\n",
            "Data columns (total 12 columns):\n",
            " #   Column      Non-Null Count  Dtype  \n",
            "---  ------      --------------  -----  \n",
            " 0   datetime    10886 non-null  object \n",
            " 1   season      10886 non-null  int64  \n",
            " 2   holiday     10886 non-null  int64  \n",
            " 3   workingday  10886 non-null  int64  \n",
            " 4   weather     10886 non-null  int64  \n",
            " 5   temp        10886 non-null  float64\n",
            " 6   atemp       10886 non-null  float64\n",
            " 7   humidity    10886 non-null  int64  \n",
            " 8   windspeed   10886 non-null  float64\n",
            " 9   casual      10886 non-null  int64  \n",
            " 10  registered  10886 non-null  int64  \n",
            " 11  count       10886 non-null  int64  \n",
            "dtypes: float64(3), int64(8), object(1)\n",
            "memory usage: 1020.7+ KB\n"
          ]
        }
      ]
    },
    {
      "cell_type": "code",
      "source": [
        "test.info() # 결측값 없음"
      ],
      "metadata": {
        "colab": {
          "base_uri": "https://localhost:8080/"
        },
        "id": "yoCmjE916bY3",
        "outputId": "261819bc-7d93-4b72-bded-67a48cf81a7d"
      },
      "execution_count": 131,
      "outputs": [
        {
          "output_type": "stream",
          "name": "stdout",
          "text": [
            "<class 'pandas.core.frame.DataFrame'>\n",
            "RangeIndex: 6493 entries, 0 to 6492\n",
            "Data columns (total 9 columns):\n",
            " #   Column      Non-Null Count  Dtype  \n",
            "---  ------      --------------  -----  \n",
            " 0   datetime    6493 non-null   object \n",
            " 1   season      6493 non-null   int64  \n",
            " 2   holiday     6493 non-null   int64  \n",
            " 3   workingday  6493 non-null   int64  \n",
            " 4   weather     6493 non-null   int64  \n",
            " 5   temp        6493 non-null   float64\n",
            " 6   atemp       6493 non-null   float64\n",
            " 7   humidity    6493 non-null   int64  \n",
            " 8   windspeed   6493 non-null   float64\n",
            "dtypes: float64(3), int64(5), object(1)\n",
            "memory usage: 456.7+ KB\n"
          ]
        }
      ]
    },
    {
      "cell_type": "markdown",
      "source": [
        "### 2. 피처 엔지니어링\n",
        "datetime 피처가 시각화하기에 적합하지 않은 형태\n",
        "-> 연도, 월, 일, 시간, 분, 초 피처 추가"
      ],
      "metadata": {
        "id": "PeKD0VZ4Fv8-"
      }
    },
    {
      "cell_type": "code",
      "source": [
        "print(train['datetime'][100]) # datetime 100번째 요소\n",
        "print(train['datetime'][100].split()) # 공백 기준으로 문자열 나누기\n",
        "print(train['datetime'][100].split()[0]) # 날짜\n",
        "print(train['datetime'][100].split()[1]) # 시간"
      ],
      "metadata": {
        "id": "mmyRYbjp6bWx",
        "colab": {
          "base_uri": "https://localhost:8080/"
        },
        "outputId": "1a8dc0aa-2b55-4dad-defc-2235fa60cbe0"
      },
      "execution_count": 132,
      "outputs": [
        {
          "output_type": "stream",
          "name": "stdout",
          "text": [
            "2011-01-05 09:00:00\n",
            "['2011-01-05', '09:00:00']\n",
            "2011-01-05\n",
            "09:00:00\n"
          ]
        }
      ]
    },
    {
      "cell_type": "code",
      "source": [
        "# 날짜 문자열\n",
        "print(train['datetime'][100].split()[0]) # 날짜\n",
        "print(train['datetime'][100].split()[0].split('-')) # \"_\" 기준으로 문자열 나누기\n",
        "print(train['datetime'][100].split()[0].split('-')[0]) # 연도\n",
        "print(train['datetime'][100].split()[0].split('-')[1]) # 월\n",
        "print(train['datetime'][100].split()[0].split('-')[2]) # 일"
      ],
      "metadata": {
        "id": "dql7OpE26bU5",
        "colab": {
          "base_uri": "https://localhost:8080/"
        },
        "outputId": "c9c5c0b0-0b94-49a3-edbc-073bd5a92c63"
      },
      "execution_count": 133,
      "outputs": [
        {
          "output_type": "stream",
          "name": "stdout",
          "text": [
            "2011-01-05\n",
            "['2011', '01', '05']\n",
            "2011\n",
            "01\n",
            "05\n"
          ]
        }
      ]
    },
    {
      "cell_type": "code",
      "source": [
        "# 시간 문자열\n",
        "print(train['datetime'][100].split()[1]) # 시간\n",
        "print(train['datetime'][100].split()[1].split(':')) # \":\" 기준으로 문자열 나누기\n",
        "print(train['datetime'][100].split()[1].split(':')[0]) # 시간\n",
        "print(train['datetime'][100].split()[1].split(':')[1]) # 분\n",
        "print(train['datetime'][100].split()[1].split(':')[2]) # 초"
      ],
      "metadata": {
        "id": "PchqrADX6bS-",
        "colab": {
          "base_uri": "https://localhost:8080/"
        },
        "outputId": "f72db741-6cbf-4efc-b8ee-a6821e6f74e2"
      },
      "execution_count": 134,
      "outputs": [
        {
          "output_type": "stream",
          "name": "stdout",
          "text": [
            "09:00:00\n",
            "['09', '00', '00']\n",
            "09\n",
            "00\n",
            "00\n"
          ]
        }
      ]
    },
    {
      "cell_type": "code",
      "source": [
        "train['date'] = train['datetime'].apply(lambda x: x.split()[0]) # 날짜 피처 생성\n",
        "\n",
        "# 연도, 월, 일, 시, 분, 초 피처를 차례로 생성\n",
        "train['year'] = train['datetime'].apply(lambda x: x.split()[0].split('-')[0]) \n",
        "train['month'] = train['datetime'].apply(lambda x: x.split()[0].split('-')[1])\n",
        "train['day'] = train['datetime'].apply(lambda x: x.split()[0].split('-')[2]) \n",
        "train['hour'] = train['datetime'].apply(lambda x: x.split()[1].split(':')[0])\n",
        "train['minute'] = train['datetime'].apply(lambda x: x.split()[1].split(':')[1])\n",
        "train['second'] = train['datetime'].apply(lambda x: x.split()[1].split(':')[2])"
      ],
      "metadata": {
        "id": "yb6ck9qAF5i3"
      },
      "execution_count": 135,
      "outputs": []
    },
    {
      "cell_type": "markdown",
      "source": [
        "요일 피처 생성"
      ],
      "metadata": {
        "id": "4CGr8d-EI82T"
      }
    },
    {
      "cell_type": "code",
      "source": [
        "from datetime import datetime # datatime 라이브러리 임포트\n",
        "import calendar\n",
        "\n",
        "print(train['date'][100]) # 날짜\n",
        "print(datetime.strptime(train['date'][100], '%Y-%m-%d')) # datetime 타입으로 변경\n",
        "print(datetime.strptime(train['date'][100], '%Y-%m-%d').weekday()) # 정수로 요일 반환\n",
        "print(calendar.day_name[datetime.strptime(train['date'][100], '%Y-%m-%d').weekday()]) # 문자열로 요일 반환"
      ],
      "metadata": {
        "id": "dd1hCwrIF5hF",
        "colab": {
          "base_uri": "https://localhost:8080/"
        },
        "outputId": "c1570409-57cf-435e-d71a-80a1777d67f6"
      },
      "execution_count": 136,
      "outputs": [
        {
          "output_type": "stream",
          "name": "stdout",
          "text": [
            "2011-01-05\n",
            "2011-01-05 00:00:00\n",
            "2\n",
            "Wednesday\n"
          ]
        }
      ]
    },
    {
      "cell_type": "code",
      "source": [
        "train['weekday'] = train['date'].apply(\n",
        "    lambda dateString: \n",
        "    calendar.day_name[datetime.strptime(dateString,\"%Y-%m-%d\").weekday()])"
      ],
      "metadata": {
        "id": "xqJjRRpaF5e6"
      },
      "execution_count": 137,
      "outputs": []
    },
    {
      "cell_type": "markdown",
      "source": [
        "season, weather 피처 문자열로 변환 "
      ],
      "metadata": {
        "id": "gkhuwcWKJQE8"
      }
    },
    {
      "cell_type": "code",
      "source": [
        "train['season'] = train['season'].map({1: 'Spring', \n",
        "                                       2: 'Summer', \n",
        "                                       3: 'Fall', \n",
        "                                       4: 'Winter' })\n",
        "train['weather'] = train['weather'].map({1: 'Clear', \n",
        "                                         2: 'Mist, Few clouds', \n",
        "                                         3: 'Light Snow, Rain, Thunder', \n",
        "                                         4: 'Heavy Snow, Rain, Thunder'})"
      ],
      "metadata": {
        "id": "ofSf0AavF5ct"
      },
      "execution_count": 138,
      "outputs": []
    },
    {
      "cell_type": "code",
      "source": [
        "train.head()"
      ],
      "metadata": {
        "id": "j77IoHbzF5a0",
        "colab": {
          "base_uri": "https://localhost:8080/",
          "height": 250
        },
        "outputId": "529b576e-2085-4294-be5f-b98522a2d33b"
      },
      "execution_count": 139,
      "outputs": [
        {
          "output_type": "execute_result",
          "data": {
            "text/plain": [
              "              datetime  season  holiday  workingday weather  temp   atemp  \\\n",
              "0  2011-01-01 00:00:00  Spring        0           0   Clear  9.84  14.395   \n",
              "1  2011-01-01 01:00:00  Spring        0           0   Clear  9.02  13.635   \n",
              "2  2011-01-01 02:00:00  Spring        0           0   Clear  9.02  13.635   \n",
              "3  2011-01-01 03:00:00  Spring        0           0   Clear  9.84  14.395   \n",
              "4  2011-01-01 04:00:00  Spring        0           0   Clear  9.84  14.395   \n",
              "\n",
              "   humidity  windspeed  casual  registered  count        date  year month day  \\\n",
              "0        81        0.0       3          13     16  2011-01-01  2011    01  01   \n",
              "1        80        0.0       8          32     40  2011-01-01  2011    01  01   \n",
              "2        80        0.0       5          27     32  2011-01-01  2011    01  01   \n",
              "3        75        0.0       3          10     13  2011-01-01  2011    01  01   \n",
              "4        75        0.0       0           1      1  2011-01-01  2011    01  01   \n",
              "\n",
              "  hour minute second   weekday  \n",
              "0   00     00     00  Saturday  \n",
              "1   01     00     00  Saturday  \n",
              "2   02     00     00  Saturday  \n",
              "3   03     00     00  Saturday  \n",
              "4   04     00     00  Saturday  "
            ],
            "text/html": [
              "\n",
              "  <div id=\"df-732a77d0-a583-4561-b776-d3f01d186362\">\n",
              "    <div class=\"colab-df-container\">\n",
              "      <div>\n",
              "<style scoped>\n",
              "    .dataframe tbody tr th:only-of-type {\n",
              "        vertical-align: middle;\n",
              "    }\n",
              "\n",
              "    .dataframe tbody tr th {\n",
              "        vertical-align: top;\n",
              "    }\n",
              "\n",
              "    .dataframe thead th {\n",
              "        text-align: right;\n",
              "    }\n",
              "</style>\n",
              "<table border=\"1\" class=\"dataframe\">\n",
              "  <thead>\n",
              "    <tr style=\"text-align: right;\">\n",
              "      <th></th>\n",
              "      <th>datetime</th>\n",
              "      <th>season</th>\n",
              "      <th>holiday</th>\n",
              "      <th>workingday</th>\n",
              "      <th>weather</th>\n",
              "      <th>temp</th>\n",
              "      <th>atemp</th>\n",
              "      <th>humidity</th>\n",
              "      <th>windspeed</th>\n",
              "      <th>casual</th>\n",
              "      <th>registered</th>\n",
              "      <th>count</th>\n",
              "      <th>date</th>\n",
              "      <th>year</th>\n",
              "      <th>month</th>\n",
              "      <th>day</th>\n",
              "      <th>hour</th>\n",
              "      <th>minute</th>\n",
              "      <th>second</th>\n",
              "      <th>weekday</th>\n",
              "    </tr>\n",
              "  </thead>\n",
              "  <tbody>\n",
              "    <tr>\n",
              "      <th>0</th>\n",
              "      <td>2011-01-01 00:00:00</td>\n",
              "      <td>Spring</td>\n",
              "      <td>0</td>\n",
              "      <td>0</td>\n",
              "      <td>Clear</td>\n",
              "      <td>9.84</td>\n",
              "      <td>14.395</td>\n",
              "      <td>81</td>\n",
              "      <td>0.0</td>\n",
              "      <td>3</td>\n",
              "      <td>13</td>\n",
              "      <td>16</td>\n",
              "      <td>2011-01-01</td>\n",
              "      <td>2011</td>\n",
              "      <td>01</td>\n",
              "      <td>01</td>\n",
              "      <td>00</td>\n",
              "      <td>00</td>\n",
              "      <td>00</td>\n",
              "      <td>Saturday</td>\n",
              "    </tr>\n",
              "    <tr>\n",
              "      <th>1</th>\n",
              "      <td>2011-01-01 01:00:00</td>\n",
              "      <td>Spring</td>\n",
              "      <td>0</td>\n",
              "      <td>0</td>\n",
              "      <td>Clear</td>\n",
              "      <td>9.02</td>\n",
              "      <td>13.635</td>\n",
              "      <td>80</td>\n",
              "      <td>0.0</td>\n",
              "      <td>8</td>\n",
              "      <td>32</td>\n",
              "      <td>40</td>\n",
              "      <td>2011-01-01</td>\n",
              "      <td>2011</td>\n",
              "      <td>01</td>\n",
              "      <td>01</td>\n",
              "      <td>01</td>\n",
              "      <td>00</td>\n",
              "      <td>00</td>\n",
              "      <td>Saturday</td>\n",
              "    </tr>\n",
              "    <tr>\n",
              "      <th>2</th>\n",
              "      <td>2011-01-01 02:00:00</td>\n",
              "      <td>Spring</td>\n",
              "      <td>0</td>\n",
              "      <td>0</td>\n",
              "      <td>Clear</td>\n",
              "      <td>9.02</td>\n",
              "      <td>13.635</td>\n",
              "      <td>80</td>\n",
              "      <td>0.0</td>\n",
              "      <td>5</td>\n",
              "      <td>27</td>\n",
              "      <td>32</td>\n",
              "      <td>2011-01-01</td>\n",
              "      <td>2011</td>\n",
              "      <td>01</td>\n",
              "      <td>01</td>\n",
              "      <td>02</td>\n",
              "      <td>00</td>\n",
              "      <td>00</td>\n",
              "      <td>Saturday</td>\n",
              "    </tr>\n",
              "    <tr>\n",
              "      <th>3</th>\n",
              "      <td>2011-01-01 03:00:00</td>\n",
              "      <td>Spring</td>\n",
              "      <td>0</td>\n",
              "      <td>0</td>\n",
              "      <td>Clear</td>\n",
              "      <td>9.84</td>\n",
              "      <td>14.395</td>\n",
              "      <td>75</td>\n",
              "      <td>0.0</td>\n",
              "      <td>3</td>\n",
              "      <td>10</td>\n",
              "      <td>13</td>\n",
              "      <td>2011-01-01</td>\n",
              "      <td>2011</td>\n",
              "      <td>01</td>\n",
              "      <td>01</td>\n",
              "      <td>03</td>\n",
              "      <td>00</td>\n",
              "      <td>00</td>\n",
              "      <td>Saturday</td>\n",
              "    </tr>\n",
              "    <tr>\n",
              "      <th>4</th>\n",
              "      <td>2011-01-01 04:00:00</td>\n",
              "      <td>Spring</td>\n",
              "      <td>0</td>\n",
              "      <td>0</td>\n",
              "      <td>Clear</td>\n",
              "      <td>9.84</td>\n",
              "      <td>14.395</td>\n",
              "      <td>75</td>\n",
              "      <td>0.0</td>\n",
              "      <td>0</td>\n",
              "      <td>1</td>\n",
              "      <td>1</td>\n",
              "      <td>2011-01-01</td>\n",
              "      <td>2011</td>\n",
              "      <td>01</td>\n",
              "      <td>01</td>\n",
              "      <td>04</td>\n",
              "      <td>00</td>\n",
              "      <td>00</td>\n",
              "      <td>Saturday</td>\n",
              "    </tr>\n",
              "  </tbody>\n",
              "</table>\n",
              "</div>\n",
              "      <button class=\"colab-df-convert\" onclick=\"convertToInteractive('df-732a77d0-a583-4561-b776-d3f01d186362')\"\n",
              "              title=\"Convert this dataframe to an interactive table.\"\n",
              "              style=\"display:none;\">\n",
              "        \n",
              "  <svg xmlns=\"http://www.w3.org/2000/svg\" height=\"24px\"viewBox=\"0 0 24 24\"\n",
              "       width=\"24px\">\n",
              "    <path d=\"M0 0h24v24H0V0z\" fill=\"none\"/>\n",
              "    <path d=\"M18.56 5.44l.94 2.06.94-2.06 2.06-.94-2.06-.94-.94-2.06-.94 2.06-2.06.94zm-11 1L8.5 8.5l.94-2.06 2.06-.94-2.06-.94L8.5 2.5l-.94 2.06-2.06.94zm10 10l.94 2.06.94-2.06 2.06-.94-2.06-.94-.94-2.06-.94 2.06-2.06.94z\"/><path d=\"M17.41 7.96l-1.37-1.37c-.4-.4-.92-.59-1.43-.59-.52 0-1.04.2-1.43.59L10.3 9.45l-7.72 7.72c-.78.78-.78 2.05 0 2.83L4 21.41c.39.39.9.59 1.41.59.51 0 1.02-.2 1.41-.59l7.78-7.78 2.81-2.81c.8-.78.8-2.07 0-2.86zM5.41 20L4 18.59l7.72-7.72 1.47 1.35L5.41 20z\"/>\n",
              "  </svg>\n",
              "      </button>\n",
              "      \n",
              "  <style>\n",
              "    .colab-df-container {\n",
              "      display:flex;\n",
              "      flex-wrap:wrap;\n",
              "      gap: 12px;\n",
              "    }\n",
              "\n",
              "    .colab-df-convert {\n",
              "      background-color: #E8F0FE;\n",
              "      border: none;\n",
              "      border-radius: 50%;\n",
              "      cursor: pointer;\n",
              "      display: none;\n",
              "      fill: #1967D2;\n",
              "      height: 32px;\n",
              "      padding: 0 0 0 0;\n",
              "      width: 32px;\n",
              "    }\n",
              "\n",
              "    .colab-df-convert:hover {\n",
              "      background-color: #E2EBFA;\n",
              "      box-shadow: 0px 1px 2px rgba(60, 64, 67, 0.3), 0px 1px 3px 1px rgba(60, 64, 67, 0.15);\n",
              "      fill: #174EA6;\n",
              "    }\n",
              "\n",
              "    [theme=dark] .colab-df-convert {\n",
              "      background-color: #3B4455;\n",
              "      fill: #D2E3FC;\n",
              "    }\n",
              "\n",
              "    [theme=dark] .colab-df-convert:hover {\n",
              "      background-color: #434B5C;\n",
              "      box-shadow: 0px 1px 3px 1px rgba(0, 0, 0, 0.15);\n",
              "      filter: drop-shadow(0px 1px 2px rgba(0, 0, 0, 0.3));\n",
              "      fill: #FFFFFF;\n",
              "    }\n",
              "  </style>\n",
              "\n",
              "      <script>\n",
              "        const buttonEl =\n",
              "          document.querySelector('#df-732a77d0-a583-4561-b776-d3f01d186362 button.colab-df-convert');\n",
              "        buttonEl.style.display =\n",
              "          google.colab.kernel.accessAllowed ? 'block' : 'none';\n",
              "\n",
              "        async function convertToInteractive(key) {\n",
              "          const element = document.querySelector('#df-732a77d0-a583-4561-b776-d3f01d186362');\n",
              "          const dataTable =\n",
              "            await google.colab.kernel.invokeFunction('convertToInteractive',\n",
              "                                                     [key], {});\n",
              "          if (!dataTable) return;\n",
              "\n",
              "          const docLinkHtml = 'Like what you see? Visit the ' +\n",
              "            '<a target=\"_blank\" href=https://colab.research.google.com/notebooks/data_table.ipynb>data table notebook</a>'\n",
              "            + ' to learn more about interactive tables.';\n",
              "          element.innerHTML = '';\n",
              "          dataTable['output_type'] = 'display_data';\n",
              "          await google.colab.output.renderOutput(dataTable, element);\n",
              "          const docLink = document.createElement('div');\n",
              "          docLink.innerHTML = docLinkHtml;\n",
              "          element.appendChild(docLink);\n",
              "        }\n",
              "      </script>\n",
              "    </div>\n",
              "  </div>\n",
              "  "
            ]
          },
          "metadata": {},
          "execution_count": 139
        }
      ]
    },
    {
      "cell_type": "markdown",
      "source": [
        "date 피처 - year, month, day 피처 정보 중복 -> date 피처 제거\n",
        "\n",
        "세분화된 month 피처 세 달씩 묶으면 season 피처와 의미 중복 -> month 피처 제거(더 큰 분류로 묶으면 성능 좋아지는 경우 있음)"
      ],
      "metadata": {
        "id": "LR_RblHxJjwM"
      }
    },
    {
      "cell_type": "markdown",
      "source": [
        "### 3. 데이터 시각화"
      ],
      "metadata": {
        "id": "b-CA8iLUJ7wa"
      }
    },
    {
      "cell_type": "code",
      "source": [
        "import seaborn as sns\n",
        "import matplotlib as mpl\n",
        "import matplotlib.pyplot as plt\n",
        "%matplotlib inline"
      ],
      "metadata": {
        "id": "43vINxcUF5Yo"
      },
      "execution_count": 140,
      "outputs": []
    },
    {
      "cell_type": "markdown",
      "source": [
        "#### 3-1. count"
      ],
      "metadata": {
        "id": "RQy-YZSMKR7K"
      }
    },
    {
      "cell_type": "code",
      "source": [
        "mpl.rc('font', size=15)      # 폰트 크기를 15로 설정 \n",
        "sns.displot(train['count']); # 분포도 출력"
      ],
      "metadata": {
        "colab": {
          "base_uri": "https://localhost:8080/",
          "height": 358
        },
        "id": "e1vFExz8JeDV",
        "outputId": "e4c29a6e-747d-42ab-9341-daf85f9d0ad4"
      },
      "execution_count": 141,
      "outputs": [
        {
          "output_type": "display_data",
          "data": {
            "text/plain": [
              "<Figure size 360x360 with 1 Axes>"
            ],
            "image/png": "[encoded data removed]"
          },
          "metadata": {
            "needs_background": "light"
          }
        }
      ]
    },
    {
      "cell_type": "markdown",
      "source": [
        "회귀 모델이 좋은 성능을 내려면 데이터가 정규분포를 따라야 함\n",
        "\n",
        "데이터가 왼쪽으로 편향되어 있을 때 -> 로그변환 -> 마지막에 지수변환 하여 타깃값 복원"
      ],
      "metadata": {
        "id": "ayV06MvXKn29"
      }
    },
    {
      "cell_type": "code",
      "source": [
        "sns.displot(np.log(train['count']));"
      ],
      "metadata": {
        "colab": {
          "base_uri": "https://localhost:8080/",
          "height": 358
        },
        "id": "pJeCOEaLJeBM",
        "outputId": "8ba34073-fd8f-491e-9a3f-54cf66a01459"
      },
      "execution_count": 142,
      "outputs": [
        {
          "output_type": "display_data",
          "data": {
            "text/plain": [
              "<Figure size 360x360 with 1 Axes>"
            ],
            "image/png": "[encoded data removed]"
          },
          "metadata": {
            "needs_background": "light"
          }
        }
      ]
    },
    {
      "cell_type": "markdown",
      "source": [
        "#### 3-2. 범주형: year, month, day, hour, minute, second"
      ],
      "metadata": {
        "id": "J5gYoclpLabk"
      }
    },
    {
      "cell_type": "code",
      "source": [
        "# 스텝 1 : m행 n열 Figure 준비\n",
        "mpl.rc('font', size=14)       # 폰트 크기 설정\n",
        "mpl.rc('axes', titlesize=15)  # 각 축의 제목 크기 설정\n",
        "figure, axes = plt.subplots(nrows=3, ncols=2) # 3행 2열 Figure 생성 \n",
        "plt.tight_layout()            # 그래프 사이에 여백 확보 \n",
        "figure.set_size_inches(10, 9) # 전체 Figure 크기를 10x9인치로 설정 \n",
        "\n",
        "# 스텝 2 : 각 축에 서브플롯 할당\n",
        "# 각 축에 연도, 월, 일, 시간, 분, 초별 평균 대여 수량 막대 그래프 할당\n",
        "sns.barplot(x='year', y='count', data=train, ax=axes[0, 0])\n",
        "sns.barplot(x='month', y='count', data=train, ax=axes[0, 1])\n",
        "sns.barplot(x='day', y='count', data=train, ax=axes[1, 0])\n",
        "sns.barplot(x='hour', y='count', data=train, ax=axes[1, 1])\n",
        "sns.barplot(x='minute', y='count', data=train, ax=axes[2, 0])\n",
        "sns.barplot(x='second', y='count', data=train, ax=axes[2, 1])\n",
        "\n",
        "# 스텝 3 : 세부 설정\n",
        "# 3-1 : 서브플롯에 제목 달기\n",
        "axes[0, 0].set(title='Rental amounts by year')\n",
        "axes[0, 1].set(title='Rental amounts by month')\n",
        "axes[1, 0].set(title='Rental amounts by day')\n",
        "axes[1, 1].set(title='Rental amounts by hour')\n",
        "axes[2, 0].set(title='Rental amounts by minute')\n",
        "axes[2, 1].set(title='Rental amounts by second')\n",
        "\n",
        "# 3-2 : 1행에 위치한 서브플롯들의 x축 라벨 90도 회전\n",
        "axes[1, 0].tick_params(axis='x', labelrotation=90)\n",
        "axes[1, 1].tick_params(axis='x', labelrotation=90)"
      ],
      "metadata": {
        "colab": {
          "base_uri": "https://localhost:8080/",
          "height": 608
        },
        "id": "hpFDtwqIJd-v",
        "outputId": "8292d3cf-4901-4213-a5f2-9e74dbe3bd3f"
      },
      "execution_count": 143,
      "outputs": [
        {
          "output_type": "display_data",
          "data": {
            "text/plain": [
              "<Figure size 720x648 with 6 Axes>"
            ],
            "image/png": "[encoded data removed]"
          },
          "metadata": {
            "needs_background": "light"
          }
        }
      ]
    },
    {
      "cell_type": "markdown",
      "source": [
        "* year: 2012년에 대여가 많았다\n",
        "* month: 날씨가 따뜻할수록 대여 수량이 많다고 짐작\n",
        "* day: 1-19일 데이터만 있음(20~는 테스트 데이터) -> day 피처 제거\n",
        "* hour: 쌍봉형 그래프 모양. 등하교 혹은 출퇴근 길에 자전거 많이 이용한다고 짐작\n",
        "* minute, second: 모두 0으로 기록되어 있어 아무 정보가 없음 -> minute, second 피처 제거"
      ],
      "metadata": {
        "id": "Dd-MttV-Lote"
      }
    },
    {
      "cell_type": "markdown",
      "source": [
        "#### 3-3. 계절, 날씨, 공휴일, 근무일 별 대여수량"
      ],
      "metadata": {
        "id": "mu22N7LBMgtW"
      }
    },
    {
      "cell_type": "code",
      "source": [
        "# 스텝 1 : m행 n열 Figure 준비\n",
        "figure, axes = plt.subplots(nrows=2, ncols=2) # 2행 2열\n",
        "plt.tight_layout()\n",
        "figure.set_size_inches(10, 10)\n",
        "\n",
        "# 스텝 2 : 서브플롯 할당\n",
        "# 계절, 날씨, 공휴일, 근무일별 대여 수량 박스플롯\n",
        "sns.boxplot(x='season', y='count', data=train, ax=axes[0, 0])\n",
        "sns.boxplot(x='weather', y='count', data=train, ax=axes[0, 1])\n",
        "sns.boxplot(x='holiday', y='count', data=train, ax=axes[1, 0])\n",
        "sns.boxplot(x='workingday', y='count', data=train, ax=axes[1, 1])\n",
        "\n",
        "# 스텝 3 : 세부 설정\n",
        "# 3-1 : 서브플롯에 제목 달기\n",
        "axes[0, 0].set(title='Box Plot On Count Across Season')\n",
        "axes[0, 1].set(title='Box Plot On Count Across Weather')\n",
        "axes[1, 0].set(title='Box Plot On Count Across Holiday')\n",
        "axes[1, 1].set(title='Box Plot On Count Across Working Day')\n",
        "\n",
        "# 3-2 : x축 라벨 겹침 해결\n",
        "axes[0, 1].tick_params('x', labelrotation=10) # 10도 회전"
      ],
      "metadata": {
        "colab": {
          "base_uri": "https://localhost:8080/",
          "height": 666
        },
        "id": "CaocltdjJd8b",
        "outputId": "d1a124e0-a9ad-41a8-b858-d0245268c5fc"
      },
      "execution_count": 144,
      "outputs": [
        {
          "output_type": "display_data",
          "data": {
            "text/plain": [
              "<Figure size 720x720 with 4 Axes>"
            ],
            "image/png": "[encoded data removed]"
          },
          "metadata": {
            "needs_background": "light"
          }
        }
      ]
    },
    {
      "cell_type": "markdown",
      "source": [
        "* season: 봄에 가장 적고 가을에 가장 많음\n",
        "* weather: 날씨 좋을 때 대여 수량 가장 많고, 안 좋을수록 수량 적음\n",
        "* holiday: 중앙값 비슷하지만 공휴일 아닐 때 이상치 많음\n",
        "* workingday: 근무일일 때 이상치 많음"
      ],
      "metadata": {
        "id": "CpzrJeXqMrVh"
      }
    },
    {
      "cell_type": "markdown",
      "source": [
        "#### 3-4. 근무일, 공휴일, 요일, 계절, 날씨에 따른 시간대별 평균 대여 수량"
      ],
      "metadata": {
        "id": "0hzkCU4yNDro"
      }
    },
    {
      "cell_type": "code",
      "source": [
        "# 스텝 1 : m행 n열 Figure 준비\n",
        "mpl.rc('font', size=11)\n",
        "figure, axes = plt.subplots(nrows=5) # 5행 1열\n",
        "figure.set_size_inches(12, 18)\n",
        "\n",
        "# 스텝 2 : 서브플롯 할당\n",
        "# 근무일, 공휴일, 요일, 계절, 날씨에 따른 시간대별 평균 대여 수량 포인트플롯\n",
        "sns.pointplot(x='hour', y='count', data=train, hue='workingday', ax=axes[0])\n",
        "sns.pointplot(x='hour', y='count', data=train, hue='holiday', ax=axes[1])\n",
        "sns.pointplot(x='hour', y='count', data=train, hue='weekday', ax=axes[2])\n",
        "sns.pointplot(x='hour', y='count', data=train, hue='season', ax=axes[3])\n",
        "sns.pointplot(x='hour', y='count', data=train, hue='weather', ax=axes[4]);"
      ],
      "metadata": {
        "colab": {
          "base_uri": "https://localhost:8080/",
          "height": 1000
        },
        "id": "n-LVC-icJd6F",
        "outputId": "859c7c94-7346-4f60-a838-3bb40e2da04a"
      },
      "execution_count": 145,
      "outputs": [
        {
          "output_type": "display_data",
          "data": {
            "text/plain": [
              "<Figure size 864x1296 with 5 Axes>"
            ],
            "image/png": "[encoded data removed]"
          },
          "metadata": {
            "needs_background": "light"
          }
        }
      ]
    },
    {
      "cell_type": "markdown",
      "source": [
        "* 근무일: 출퇴근 시간에 대여 수량 많음, 쉬는날: 오후 12-2시에 가장 많음. 공휴일 여부, 요일에 따른 그래프도 비슷한 양상\n",
        "* 계절: 가을에 가장 많고 봄에 가장 적음\n",
        "* 날씨: 폭우, 폭설일 때 대여 건수는 이상치 -> 제거하는 것이 성능이 더 좋음. weather==4인 데이터 제거"
      ],
      "metadata": {
        "id": "zyY4PDWTQoFJ"
      }
    },
    {
      "cell_type": "markdown",
      "source": [
        "#### 3-5. 수치형: 온도, 체감 온도, 풍속, 습도별 대여 수량"
      ],
      "metadata": {
        "id": "wNaAbXA7bEoH"
      }
    },
    {
      "cell_type": "code",
      "source": [
        "# 스텝 1 : m행 n열 Figure 준비\n",
        "mpl.rc('font', size=15)\n",
        "figure, axes = plt.subplots(nrows=2, ncols=2) # 2행 2열\n",
        "plt.tight_layout()\n",
        "figure.set_size_inches(7, 6)\n",
        "\n",
        "# 스텝 2 : 서브플롯 할당\n",
        "# 온도, 체감 온도, 풍속, 습도 별 대여 수량 산점도 그래프\n",
        "sns.regplot(x='temp', y='count', data=train, ax=axes[0, 0], \n",
        "            scatter_kws={'alpha': 0.2}, line_kws={'color': 'blue'})\n",
        "sns.regplot(x='atemp', y='count', data=train, ax=axes[0, 1], \n",
        "            scatter_kws={'alpha': 0.2}, line_kws={'color': 'blue'})\n",
        "sns.regplot(x='windspeed', y='count', data=train, ax=axes[1, 0], \n",
        "            scatter_kws={'alpha': 0.2}, line_kws={'color': 'blue'})\n",
        "sns.regplot(x='humidity', y='count', data=train, ax=axes[1, 1], \n",
        "            scatter_kws={'alpha': 0.2}, line_kws={'color': 'blue'});"
      ],
      "metadata": {
        "colab": {
          "base_uri": "https://localhost:8080/",
          "height": 416
        },
        "id": "4FQpED8TJd4D",
        "outputId": "a0993937-1a33-4b5c-c92c-ffd641079663"
      },
      "execution_count": 146,
      "outputs": [
        {
          "output_type": "display_data",
          "data": {
            "text/plain": [
              "<Figure size 504x432 with 4 Axes>"
            ],
            "image/png": "[encoded data removed]"
          },
          "metadata": {
            "needs_background": "light"
          }
        }
      ]
    },
    {
      "cell_type": "markdown",
      "source": [
        "* 온도, 체감온도: 높을수록 대여 수량 높음\n",
        "* 습도: 낮을수록 대여 수량 높음\n",
        "* 풍속: 0으로 기록된 결측값 많음. 상관관계 파악 힘듦 -> windspeed 피처 제거"
      ],
      "metadata": {
        "id": "uE_Tng99bULS"
      }
    },
    {
      "cell_type": "markdown",
      "source": [
        "#### 3-6. 히트맵: temp, atempt, humidity, windspeed, count"
      ],
      "metadata": {
        "id": "z1cVWrb4b7J1"
      }
    },
    {
      "cell_type": "code",
      "source": [
        "train[['temp', 'atemp', 'humidity', 'windspeed', 'count']].corr() # 상관관계 매트릭스: 어느 피처들의 관계가 깊은지 한눈에 들어오지 않음"
      ],
      "metadata": {
        "colab": {
          "base_uri": "https://localhost:8080/",
          "height": 206
        },
        "id": "TEZXvy4gJd2A",
        "outputId": "7e3f38aa-50b1-4125-8358-71bd4a84ca69"
      },
      "execution_count": 147,
      "outputs": [
        {
          "output_type": "execute_result",
          "data": {
            "text/plain": [
              "               temp     atemp  humidity  windspeed     count\n",
              "temp       1.000000  0.984948 -0.064949  -0.017852  0.394454\n",
              "atemp      0.984948  1.000000 -0.043536  -0.057473  0.389784\n",
              "humidity  -0.064949 -0.043536  1.000000  -0.318607 -0.317371\n",
              "windspeed -0.017852 -0.057473 -0.318607   1.000000  0.101369\n",
              "count      0.394454  0.389784 -0.317371   0.101369  1.000000"
            ],
            "text/html": [
              "\n",
              "  <div id=\"df-b809b664-9239-459a-a954-ae889b517557\">\n",
              "    <div class=\"colab-df-container\">\n",
              "      <div>\n",
              "<style scoped>\n",
              "    .dataframe tbody tr th:only-of-type {\n",
              "        vertical-align: middle;\n",
              "    }\n",
              "\n",
              "    .dataframe tbody tr th {\n",
              "        vertical-align: top;\n",
              "    }\n",
              "\n",
              "    .dataframe thead th {\n",
              "        text-align: right;\n",
              "    }\n",
              "</style>\n",
              "<table border=\"1\" class=\"dataframe\">\n",
              "  <thead>\n",
              "    <tr style=\"text-align: right;\">\n",
              "      <th></th>\n",
              "      <th>temp</th>\n",
              "      <th>atemp</th>\n",
              "      <th>humidity</th>\n",
              "      <th>windspeed</th>\n",
              "      <th>count</th>\n",
              "    </tr>\n",
              "  </thead>\n",
              "  <tbody>\n",
              "    <tr>\n",
              "      <th>temp</th>\n",
              "      <td>1.000000</td>\n",
              "      <td>0.984948</td>\n",
              "      <td>-0.064949</td>\n",
              "      <td>-0.017852</td>\n",
              "      <td>0.394454</td>\n",
              "    </tr>\n",
              "    <tr>\n",
              "      <th>atemp</th>\n",
              "      <td>0.984948</td>\n",
              "      <td>1.000000</td>\n",
              "      <td>-0.043536</td>\n",
              "      <td>-0.057473</td>\n",
              "      <td>0.389784</td>\n",
              "    </tr>\n",
              "    <tr>\n",
              "      <th>humidity</th>\n",
              "      <td>-0.064949</td>\n",
              "      <td>-0.043536</td>\n",
              "      <td>1.000000</td>\n",
              "      <td>-0.318607</td>\n",
              "      <td>-0.317371</td>\n",
              "    </tr>\n",
              "    <tr>\n",
              "      <th>windspeed</th>\n",
              "      <td>-0.017852</td>\n",
              "      <td>-0.057473</td>\n",
              "      <td>-0.318607</td>\n",
              "      <td>1.000000</td>\n",
              "      <td>0.101369</td>\n",
              "    </tr>\n",
              "    <tr>\n",
              "      <th>count</th>\n",
              "      <td>0.394454</td>\n",
              "      <td>0.389784</td>\n",
              "      <td>-0.317371</td>\n",
              "      <td>0.101369</td>\n",
              "      <td>1.000000</td>\n",
              "    </tr>\n",
              "  </tbody>\n",
              "</table>\n",
              "</div>\n",
              "      <button class=\"colab-df-convert\" onclick=\"convertToInteractive('df-b809b664-9239-459a-a954-ae889b517557')\"\n",
              "              title=\"Convert this dataframe to an interactive table.\"\n",
              "              style=\"display:none;\">\n",
              "        \n",
              "  <svg xmlns=\"http://www.w3.org/2000/svg\" height=\"24px\"viewBox=\"0 0 24 24\"\n",
              "       width=\"24px\">\n",
              "    <path d=\"M0 0h24v24H0V0z\" fill=\"none\"/>\n",
              "    <path d=\"M18.56 5.44l.94 2.06.94-2.06 2.06-.94-2.06-.94-.94-2.06-.94 2.06-2.06.94zm-11 1L8.5 8.5l.94-2.06 2.06-.94-2.06-.94L8.5 2.5l-.94 2.06-2.06.94zm10 10l.94 2.06.94-2.06 2.06-.94-2.06-.94-.94-2.06-.94 2.06-2.06.94z\"/><path d=\"M17.41 7.96l-1.37-1.37c-.4-.4-.92-.59-1.43-.59-.52 0-1.04.2-1.43.59L10.3 9.45l-7.72 7.72c-.78.78-.78 2.05 0 2.83L4 21.41c.39.39.9.59 1.41.59.51 0 1.02-.2 1.41-.59l7.78-7.78 2.81-2.81c.8-.78.8-2.07 0-2.86zM5.41 20L4 18.59l7.72-7.72 1.47 1.35L5.41 20z\"/>\n",
              "  </svg>\n",
              "      </button>\n",
              "      \n",
              "  <style>\n",
              "    .colab-df-container {\n",
              "      display:flex;\n",
              "      flex-wrap:wrap;\n",
              "      gap: 12px;\n",
              "    }\n",
              "\n",
              "    .colab-df-convert {\n",
              "      background-color: #E8F0FE;\n",
              "      border: none;\n",
              "      border-radius: 50%;\n",
              "      cursor: pointer;\n",
              "      display: none;\n",
              "      fill: #1967D2;\n",
              "      height: 32px;\n",
              "      padding: 0 0 0 0;\n",
              "      width: 32px;\n",
              "    }\n",
              "\n",
              "    .colab-df-convert:hover {\n",
              "      background-color: #E2EBFA;\n",
              "      box-shadow: 0px 1px 2px rgba(60, 64, 67, 0.3), 0px 1px 3px 1px rgba(60, 64, 67, 0.15);\n",
              "      fill: #174EA6;\n",
              "    }\n",
              "\n",
              "    [theme=dark] .colab-df-convert {\n",
              "      background-color: #3B4455;\n",
              "      fill: #D2E3FC;\n",
              "    }\n",
              "\n",
              "    [theme=dark] .colab-df-convert:hover {\n",
              "      background-color: #434B5C;\n",
              "      box-shadow: 0px 1px 3px 1px rgba(0, 0, 0, 0.15);\n",
              "      filter: drop-shadow(0px 1px 2px rgba(0, 0, 0, 0.3));\n",
              "      fill: #FFFFFF;\n",
              "    }\n",
              "  </style>\n",
              "\n",
              "      <script>\n",
              "        const buttonEl =\n",
              "          document.querySelector('#df-b809b664-9239-459a-a954-ae889b517557 button.colab-df-convert');\n",
              "        buttonEl.style.display =\n",
              "          google.colab.kernel.accessAllowed ? 'block' : 'none';\n",
              "\n",
              "        async function convertToInteractive(key) {\n",
              "          const element = document.querySelector('#df-b809b664-9239-459a-a954-ae889b517557');\n",
              "          const dataTable =\n",
              "            await google.colab.kernel.invokeFunction('convertToInteractive',\n",
              "                                                     [key], {});\n",
              "          if (!dataTable) return;\n",
              "\n",
              "          const docLinkHtml = 'Like what you see? Visit the ' +\n",
              "            '<a target=\"_blank\" href=https://colab.research.google.com/notebooks/data_table.ipynb>data table notebook</a>'\n",
              "            + ' to learn more about interactive tables.';\n",
              "          element.innerHTML = '';\n",
              "          dataTable['output_type'] = 'display_data';\n",
              "          await google.colab.output.renderOutput(dataTable, element);\n",
              "          const docLink = document.createElement('div');\n",
              "          docLink.innerHTML = docLinkHtml;\n",
              "          element.appendChild(docLink);\n",
              "        }\n",
              "      </script>\n",
              "    </div>\n",
              "  </div>\n",
              "  "
            ]
          },
          "metadata": {},
          "execution_count": 147
        }
      ]
    },
    {
      "cell_type": "code",
      "source": [
        "# 피처 간 상관관계 매트릭스\n",
        "corrMat = train[['temp', 'atemp', 'humidity', 'windspeed', 'count']].corr() \n",
        "fig, ax= plt.subplots() \n",
        "fig.set_size_inches(10, 10)\n",
        "sns.heatmap(corrMat, annot=True) # 상관관계 히트맵 그리기\n",
        "ax.set(title='Heatmap of Numerical Data');"
      ],
      "metadata": {
        "colab": {
          "base_uri": "https://localhost:8080/",
          "height": 614
        },
        "id": "4nNdDDjIJdx0",
        "outputId": "8504ea05-09b3-4107-a9f4-b36a4b45e2d9"
      },
      "execution_count": 148,
      "outputs": [
        {
          "output_type": "display_data",
          "data": {
            "text/plain": [
              "<Figure size 720x720 with 2 Axes>"
            ],
            "image/png": "[encoded data removed]"
          },
          "metadata": {
            "needs_background": "light"
          }
        }
      ]
    },
    {
      "cell_type": "markdown",
      "source": [
        "* 온도-대여 수량: 양의 상관관계\n",
        "* 습도-대여 수량: 음의 상관관계\n",
        "* 풍속-대여 수량: 상관관계 매우 약함 -> windspeed 피처 제거"
      ],
      "metadata": {
        "id": "jHTC-656cn7M"
      }
    },
    {
      "cell_type": "markdown",
      "source": [
        "### 4. 베이스라인 모델\n",
        "베이스라인 모델: 뼈대가 되는 가장 기본적인 모델"
      ],
      "metadata": {
        "id": "6qMb5TZ-c6gx"
      }
    },
    {
      "cell_type": "code",
      "source": [
        "import pandas as pd   \n",
        "\n",
        "train=pd.read_csv('/content/drive/MyDrive/readcsv/bikesharing/train.csv')\n",
        "test=pd.read_csv('/content/drive/MyDrive/readcsv/bikesharing/test.csv')\n",
        "submission=pd.read_csv('/content/drive/MyDrive/readcsv/bikesharing/sampleSubmission.csv') "
      ],
      "metadata": {
        "id": "ddraHF4bJdvr"
      },
      "execution_count": 149,
      "outputs": []
    },
    {
      "cell_type": "code",
      "source": [
        "# 이상치 제거: 훈련 데이터에서 weather가 4가 아닌 데이터만 추출\n",
        "train = train[train['weather'] != 4]"
      ],
      "metadata": {
        "id": "3ja2UIFjeObD"
      },
      "execution_count": 150,
      "outputs": []
    },
    {
      "cell_type": "markdown",
      "source": [
        "#### 4-1. train, test 데이터 합치기"
      ],
      "metadata": {
        "id": "eKvujqtweAwd"
      }
    },
    {
      "cell_type": "code",
      "source": [
        "all_data_temp = pd.concat([train, test])\n",
        "all_data_temp"
      ],
      "metadata": {
        "colab": {
          "base_uri": "https://localhost:8080/",
          "height": 423
        },
        "id": "VZ9QnAxrJdt7",
        "outputId": "0cedab55-02a5-48b1-b68b-9bb32c462deb"
      },
      "execution_count": 151,
      "outputs": [
        {
          "output_type": "execute_result",
          "data": {
            "text/plain": [
              "                 datetime  season  holiday  workingday  weather   temp  \\\n",
              "0     2011-01-01 00:00:00       1        0           0        1   9.84   \n",
              "1     2011-01-01 01:00:00       1        0           0        1   9.02   \n",
              "2     2011-01-01 02:00:00       1        0           0        1   9.02   \n",
              "3     2011-01-01 03:00:00       1        0           0        1   9.84   \n",
              "4     2011-01-01 04:00:00       1        0           0        1   9.84   \n",
              "...                   ...     ...      ...         ...      ...    ...   \n",
              "6488  2012-12-31 19:00:00       1        0           1        2  10.66   \n",
              "6489  2012-12-31 20:00:00       1        0           1        2  10.66   \n",
              "6490  2012-12-31 21:00:00       1        0           1        1  10.66   \n",
              "6491  2012-12-31 22:00:00       1        0           1        1  10.66   \n",
              "6492  2012-12-31 23:00:00       1        0           1        1  10.66   \n",
              "\n",
              "       atemp  humidity  windspeed  casual  registered  count  \n",
              "0     14.395        81     0.0000     3.0        13.0   16.0  \n",
              "1     13.635        80     0.0000     8.0        32.0   40.0  \n",
              "2     13.635        80     0.0000     5.0        27.0   32.0  \n",
              "3     14.395        75     0.0000     3.0        10.0   13.0  \n",
              "4     14.395        75     0.0000     0.0         1.0    1.0  \n",
              "...      ...       ...        ...     ...         ...    ...  \n",
              "6488  12.880        60    11.0014     NaN         NaN    NaN  \n",
              "6489  12.880        60    11.0014     NaN         NaN    NaN  \n",
              "6490  12.880        60    11.0014     NaN         NaN    NaN  \n",
              "6491  13.635        56     8.9981     NaN         NaN    NaN  \n",
              "6492  13.635        65     8.9981     NaN         NaN    NaN  \n",
              "\n",
              "[17378 rows x 12 columns]"
            ],
            "text/html": [
              "\n",
              "  <div id=\"df-ef35b590-ecb7-432a-a3a4-8c265620f431\">\n",
              "    <div class=\"colab-df-container\">\n",
              "      <div>\n",
              "<style scoped>\n",
              "    .dataframe tbody tr th:only-of-type {\n",
              "        vertical-align: middle;\n",
              "    }\n",
              "\n",
              "    .dataframe tbody tr th {\n",
              "        vertical-align: top;\n",
              "    }\n",
              "\n",
              "    .dataframe thead th {\n",
              "        text-align: right;\n",
              "    }\n",
              "</style>\n",
              "<table border=\"1\" class=\"dataframe\">\n",
              "  <thead>\n",
              "    <tr style=\"text-align: right;\">\n",
              "      <th></th>\n",
              "      <th>datetime</th>\n",
              "      <th>season</th>\n",
              "      <th>holiday</th>\n",
              "      <th>workingday</th>\n",
              "      <th>weather</th>\n",
              "      <th>temp</th>\n",
              "      <th>atemp</th>\n",
              "      <th>humidity</th>\n",
              "      <th>windspeed</th>\n",
              "      <th>casual</th>\n",
              "      <th>registered</th>\n",
              "      <th>count</th>\n",
              "    </tr>\n",
              "  </thead>\n",
              "  <tbody>\n",
              "    <tr>\n",
              "      <th>0</th>\n",
              "      <td>2011-01-01 00:00:00</td>\n",
              "      <td>1</td>\n",
              "      <td>0</td>\n",
              "      <td>0</td>\n",
              "      <td>1</td>\n",
              "      <td>9.84</td>\n",
              "      <td>14.395</td>\n",
              "      <td>81</td>\n",
              "      <td>0.0000</td>\n",
              "      <td>3.0</td>\n",
              "      <td>13.0</td>\n",
              "      <td>16.0</td>\n",
              "    </tr>\n",
              "    <tr>\n",
              "      <th>1</th>\n",
              "      <td>2011-01-01 01:00:00</td>\n",
              "      <td>1</td>\n",
              "      <td>0</td>\n",
              "      <td>0</td>\n",
              "      <td>1</td>\n",
              "      <td>9.02</td>\n",
              "      <td>13.635</td>\n",
              "      <td>80</td>\n",
              "      <td>0.0000</td>\n",
              "      <td>8.0</td>\n",
              "      <td>32.0</td>\n",
              "      <td>40.0</td>\n",
              "    </tr>\n",
              "    <tr>\n",
              "      <th>2</th>\n",
              "      <td>2011-01-01 02:00:00</td>\n",
              "      <td>1</td>\n",
              "      <td>0</td>\n",
              "      <td>0</td>\n",
              "      <td>1</td>\n",
              "      <td>9.02</td>\n",
              "      <td>13.635</td>\n",
              "      <td>80</td>\n",
              "      <td>0.0000</td>\n",
              "      <td>5.0</td>\n",
              "      <td>27.0</td>\n",
              "      <td>32.0</td>\n",
              "    </tr>\n",
              "    <tr>\n",
              "      <th>3</th>\n",
              "      <td>2011-01-01 03:00:00</td>\n",
              "      <td>1</td>\n",
              "      <td>0</td>\n",
              "      <td>0</td>\n",
              "      <td>1</td>\n",
              "      <td>9.84</td>\n",
              "      <td>14.395</td>\n",
              "      <td>75</td>\n",
              "      <td>0.0000</td>\n",
              "      <td>3.0</td>\n",
              "      <td>10.0</td>\n",
              "      <td>13.0</td>\n",
              "    </tr>\n",
              "    <tr>\n",
              "      <th>4</th>\n",
              "      <td>2011-01-01 04:00:00</td>\n",
              "      <td>1</td>\n",
              "      <td>0</td>\n",
              "      <td>0</td>\n",
              "      <td>1</td>\n",
              "      <td>9.84</td>\n",
              "      <td>14.395</td>\n",
              "      <td>75</td>\n",
              "      <td>0.0000</td>\n",
              "      <td>0.0</td>\n",
              "      <td>1.0</td>\n",
              "      <td>1.0</td>\n",
              "    </tr>\n",
              "    <tr>\n",
              "      <th>...</th>\n",
              "      <td>...</td>\n",
              "      <td>...</td>\n",
              "      <td>...</td>\n",
              "      <td>...</td>\n",
              "      <td>...</td>\n",
              "      <td>...</td>\n",
              "      <td>...</td>\n",
              "      <td>...</td>\n",
              "      <td>...</td>\n",
              "      <td>...</td>\n",
              "      <td>...</td>\n",
              "      <td>...</td>\n",
              "    </tr>\n",
              "    <tr>\n",
              "      <th>6488</th>\n",
              "      <td>2012-12-31 19:00:00</td>\n",
              "      <td>1</td>\n",
              "      <td>0</td>\n",
              "      <td>1</td>\n",
              "      <td>2</td>\n",
              "      <td>10.66</td>\n",
              "      <td>12.880</td>\n",
              "      <td>60</td>\n",
              "      <td>11.0014</td>\n",
              "      <td>NaN</td>\n",
              "      <td>NaN</td>\n",
              "      <td>NaN</td>\n",
              "    </tr>\n",
              "    <tr>\n",
              "      <th>6489</th>\n",
              "      <td>2012-12-31 20:00:00</td>\n",
              "      <td>1</td>\n",
              "      <td>0</td>\n",
              "      <td>1</td>\n",
              "      <td>2</td>\n",
              "      <td>10.66</td>\n",
              "      <td>12.880</td>\n",
              "      <td>60</td>\n",
              "      <td>11.0014</td>\n",
              "      <td>NaN</td>\n",
              "      <td>NaN</td>\n",
              "      <td>NaN</td>\n",
              "    </tr>\n",
              "    <tr>\n",
              "      <th>6490</th>\n",
              "      <td>2012-12-31 21:00:00</td>\n",
              "      <td>1</td>\n",
              "      <td>0</td>\n",
              "      <td>1</td>\n",
              "      <td>1</td>\n",
              "      <td>10.66</td>\n",
              "      <td>12.880</td>\n",
              "      <td>60</td>\n",
              "      <td>11.0014</td>\n",
              "      <td>NaN</td>\n",
              "      <td>NaN</td>\n",
              "      <td>NaN</td>\n",
              "    </tr>\n",
              "    <tr>\n",
              "      <th>6491</th>\n",
              "      <td>2012-12-31 22:00:00</td>\n",
              "      <td>1</td>\n",
              "      <td>0</td>\n",
              "      <td>1</td>\n",
              "      <td>1</td>\n",
              "      <td>10.66</td>\n",
              "      <td>13.635</td>\n",
              "      <td>56</td>\n",
              "      <td>8.9981</td>\n",
              "      <td>NaN</td>\n",
              "      <td>NaN</td>\n",
              "      <td>NaN</td>\n",
              "    </tr>\n",
              "    <tr>\n",
              "      <th>6492</th>\n",
              "      <td>2012-12-31 23:00:00</td>\n",
              "      <td>1</td>\n",
              "      <td>0</td>\n",
              "      <td>1</td>\n",
              "      <td>1</td>\n",
              "      <td>10.66</td>\n",
              "      <td>13.635</td>\n",
              "      <td>65</td>\n",
              "      <td>8.9981</td>\n",
              "      <td>NaN</td>\n",
              "      <td>NaN</td>\n",
              "      <td>NaN</td>\n",
              "    </tr>\n",
              "  </tbody>\n",
              "</table>\n",
              "<p>17378 rows × 12 columns</p>\n",
              "</div>\n",
              "      <button class=\"colab-df-convert\" onclick=\"convertToInteractive('df-ef35b590-ecb7-432a-a3a4-8c265620f431')\"\n",
              "              title=\"Convert this dataframe to an interactive table.\"\n",
              "              style=\"display:none;\">\n",
              "        \n",
              "  <svg xmlns=\"http://www.w3.org/2000/svg\" height=\"24px\"viewBox=\"0 0 24 24\"\n",
              "       width=\"24px\">\n",
              "    <path d=\"M0 0h24v24H0V0z\" fill=\"none\"/>\n",
              "    <path d=\"M18.56 5.44l.94 2.06.94-2.06 2.06-.94-2.06-.94-.94-2.06-.94 2.06-2.06.94zm-11 1L8.5 8.5l.94-2.06 2.06-.94-2.06-.94L8.5 2.5l-.94 2.06-2.06.94zm10 10l.94 2.06.94-2.06 2.06-.94-2.06-.94-.94-2.06-.94 2.06-2.06.94z\"/><path d=\"M17.41 7.96l-1.37-1.37c-.4-.4-.92-.59-1.43-.59-.52 0-1.04.2-1.43.59L10.3 9.45l-7.72 7.72c-.78.78-.78 2.05 0 2.83L4 21.41c.39.39.9.59 1.41.59.51 0 1.02-.2 1.41-.59l7.78-7.78 2.81-2.81c.8-.78.8-2.07 0-2.86zM5.41 20L4 18.59l7.72-7.72 1.47 1.35L5.41 20z\"/>\n",
              "  </svg>\n",
              "      </button>\n",
              "      \n",
              "  <style>\n",
              "    .colab-df-container {\n",
              "      display:flex;\n",
              "      flex-wrap:wrap;\n",
              "      gap: 12px;\n",
              "    }\n",
              "\n",
              "    .colab-df-convert {\n",
              "      background-color: #E8F0FE;\n",
              "      border: none;\n",
              "      border-radius: 50%;\n",
              "      cursor: pointer;\n",
              "      display: none;\n",
              "      fill: #1967D2;\n",
              "      height: 32px;\n",
              "      padding: 0 0 0 0;\n",
              "      width: 32px;\n",
              "    }\n",
              "\n",
              "    .colab-df-convert:hover {\n",
              "      background-color: #E2EBFA;\n",
              "      box-shadow: 0px 1px 2px rgba(60, 64, 67, 0.3), 0px 1px 3px 1px rgba(60, 64, 67, 0.15);\n",
              "      fill: #174EA6;\n",
              "    }\n",
              "\n",
              "    [theme=dark] .colab-df-convert {\n",
              "      background-color: #3B4455;\n",
              "      fill: #D2E3FC;\n",
              "    }\n",
              "\n",
              "    [theme=dark] .colab-df-convert:hover {\n",
              "      background-color: #434B5C;\n",
              "      box-shadow: 0px 1px 3px 1px rgba(0, 0, 0, 0.15);\n",
              "      filter: drop-shadow(0px 1px 2px rgba(0, 0, 0, 0.3));\n",
              "      fill: #FFFFFF;\n",
              "    }\n",
              "  </style>\n",
              "\n",
              "      <script>\n",
              "        const buttonEl =\n",
              "          document.querySelector('#df-ef35b590-ecb7-432a-a3a4-8c265620f431 button.colab-df-convert');\n",
              "        buttonEl.style.display =\n",
              "          google.colab.kernel.accessAllowed ? 'block' : 'none';\n",
              "\n",
              "        async function convertToInteractive(key) {\n",
              "          const element = document.querySelector('#df-ef35b590-ecb7-432a-a3a4-8c265620f431');\n",
              "          const dataTable =\n",
              "            await google.colab.kernel.invokeFunction('convertToInteractive',\n",
              "                                                     [key], {});\n",
              "          if (!dataTable) return;\n",
              "\n",
              "          const docLinkHtml = 'Like what you see? Visit the ' +\n",
              "            '<a target=\"_blank\" href=https://colab.research.google.com/notebooks/data_table.ipynb>data table notebook</a>'\n",
              "            + ' to learn more about interactive tables.';\n",
              "          element.innerHTML = '';\n",
              "          dataTable['output_type'] = 'display_data';\n",
              "          await google.colab.output.renderOutput(dataTable, element);\n",
              "          const docLink = document.createElement('div');\n",
              "          docLink.innerHTML = docLinkHtml;\n",
              "          element.appendChild(docLink);\n",
              "        }\n",
              "      </script>\n",
              "    </div>\n",
              "  </div>\n",
              "  "
            ]
          },
          "metadata": {},
          "execution_count": 151
        }
      ]
    },
    {
      "cell_type": "code",
      "source": [
        "all_data = pd.concat([train, test], ignore_index=True) # 원래 데이터 인덱스 무시하고 이어붙이기\n",
        "all_data"
      ],
      "metadata": {
        "colab": {
          "base_uri": "https://localhost:8080/",
          "height": 423
        },
        "id": "zJdV9yHEJdsF",
        "outputId": "9a3e4948-e02b-4a4f-d867-cfc69863a181"
      },
      "execution_count": 152,
      "outputs": [
        {
          "output_type": "execute_result",
          "data": {
            "text/plain": [
              "                  datetime  season  holiday  workingday  weather   temp  \\\n",
              "0      2011-01-01 00:00:00       1        0           0        1   9.84   \n",
              "1      2011-01-01 01:00:00       1        0           0        1   9.02   \n",
              "2      2011-01-01 02:00:00       1        0           0        1   9.02   \n",
              "3      2011-01-01 03:00:00       1        0           0        1   9.84   \n",
              "4      2011-01-01 04:00:00       1        0           0        1   9.84   \n",
              "...                    ...     ...      ...         ...      ...    ...   \n",
              "17373  2012-12-31 19:00:00       1        0           1        2  10.66   \n",
              "17374  2012-12-31 20:00:00       1        0           1        2  10.66   \n",
              "17375  2012-12-31 21:00:00       1        0           1        1  10.66   \n",
              "17376  2012-12-31 22:00:00       1        0           1        1  10.66   \n",
              "17377  2012-12-31 23:00:00       1        0           1        1  10.66   \n",
              "\n",
              "        atemp  humidity  windspeed  casual  registered  count  \n",
              "0      14.395        81     0.0000     3.0        13.0   16.0  \n",
              "1      13.635        80     0.0000     8.0        32.0   40.0  \n",
              "2      13.635        80     0.0000     5.0        27.0   32.0  \n",
              "3      14.395        75     0.0000     3.0        10.0   13.0  \n",
              "4      14.395        75     0.0000     0.0         1.0    1.0  \n",
              "...       ...       ...        ...     ...         ...    ...  \n",
              "17373  12.880        60    11.0014     NaN         NaN    NaN  \n",
              "17374  12.880        60    11.0014     NaN         NaN    NaN  \n",
              "17375  12.880        60    11.0014     NaN         NaN    NaN  \n",
              "17376  13.635        56     8.9981     NaN         NaN    NaN  \n",
              "17377  13.635        65     8.9981     NaN         NaN    NaN  \n",
              "\n",
              "[17378 rows x 12 columns]"
            ],
            "text/html": [
              "\n",
              "  <div id=\"df-858dd78c-a61e-43a6-b506-1944bc711df0\">\n",
              "    <div class=\"colab-df-container\">\n",
              "      <div>\n",
              "<style scoped>\n",
              "    .dataframe tbody tr th:only-of-type {\n",
              "        vertical-align: middle;\n",
              "    }\n",
              "\n",
              "    .dataframe tbody tr th {\n",
              "        vertical-align: top;\n",
              "    }\n",
              "\n",
              "    .dataframe thead th {\n",
              "        text-align: right;\n",
              "    }\n",
              "</style>\n",
              "<table border=\"1\" class=\"dataframe\">\n",
              "  <thead>\n",
              "    <tr style=\"text-align: right;\">\n",
              "      <th></th>\n",
              "      <th>datetime</th>\n",
              "      <th>season</th>\n",
              "      <th>holiday</th>\n",
              "      <th>workingday</th>\n",
              "      <th>weather</th>\n",
              "      <th>temp</th>\n",
              "      <th>atemp</th>\n",
              "      <th>humidity</th>\n",
              "      <th>windspeed</th>\n",
              "      <th>casual</th>\n",
              "      <th>registered</th>\n",
              "      <th>count</th>\n",
              "    </tr>\n",
              "  </thead>\n",
              "  <tbody>\n",
              "    <tr>\n",
              "      <th>0</th>\n",
              "      <td>2011-01-01 00:00:00</td>\n",
              "      <td>1</td>\n",
              "      <td>0</td>\n",
              "      <td>0</td>\n",
              "      <td>1</td>\n",
              "      <td>9.84</td>\n",
              "      <td>14.395</td>\n",
              "      <td>81</td>\n",
              "      <td>0.0000</td>\n",
              "      <td>3.0</td>\n",
              "      <td>13.0</td>\n",
              "      <td>16.0</td>\n",
              "    </tr>\n",
              "    <tr>\n",
              "      <th>1</th>\n",
              "      <td>2011-01-01 01:00:00</td>\n",
              "      <td>1</td>\n",
              "      <td>0</td>\n",
              "      <td>0</td>\n",
              "      <td>1</td>\n",
              "      <td>9.02</td>\n",
              "      <td>13.635</td>\n",
              "      <td>80</td>\n",
              "      <td>0.0000</td>\n",
              "      <td>8.0</td>\n",
              "      <td>32.0</td>\n",
              "      <td>40.0</td>\n",
              "    </tr>\n",
              "    <tr>\n",
              "      <th>2</th>\n",
              "      <td>2011-01-01 02:00:00</td>\n",
              "      <td>1</td>\n",
              "      <td>0</td>\n",
              "      <td>0</td>\n",
              "      <td>1</td>\n",
              "      <td>9.02</td>\n",
              "      <td>13.635</td>\n",
              "      <td>80</td>\n",
              "      <td>0.0000</td>\n",
              "      <td>5.0</td>\n",
              "      <td>27.0</td>\n",
              "      <td>32.0</td>\n",
              "    </tr>\n",
              "    <tr>\n",
              "      <th>3</th>\n",
              "      <td>2011-01-01 03:00:00</td>\n",
              "      <td>1</td>\n",
              "      <td>0</td>\n",
              "      <td>0</td>\n",
              "      <td>1</td>\n",
              "      <td>9.84</td>\n",
              "      <td>14.395</td>\n",
              "      <td>75</td>\n",
              "      <td>0.0000</td>\n",
              "      <td>3.0</td>\n",
              "      <td>10.0</td>\n",
              "      <td>13.0</td>\n",
              "    </tr>\n",
              "    <tr>\n",
              "      <th>4</th>\n",
              "      <td>2011-01-01 04:00:00</td>\n",
              "      <td>1</td>\n",
              "      <td>0</td>\n",
              "      <td>0</td>\n",
              "      <td>1</td>\n",
              "      <td>9.84</td>\n",
              "      <td>14.395</td>\n",
              "      <td>75</td>\n",
              "      <td>0.0000</td>\n",
              "      <td>0.0</td>\n",
              "      <td>1.0</td>\n",
              "      <td>1.0</td>\n",
              "    </tr>\n",
              "    <tr>\n",
              "      <th>...</th>\n",
              "      <td>...</td>\n",
              "      <td>...</td>\n",
              "      <td>...</td>\n",
              "      <td>...</td>\n",
              "      <td>...</td>\n",
              "      <td>...</td>\n",
              "      <td>...</td>\n",
              "      <td>...</td>\n",
              "      <td>...</td>\n",
              "      <td>...</td>\n",
              "      <td>...</td>\n",
              "      <td>...</td>\n",
              "    </tr>\n",
              "    <tr>\n",
              "      <th>17373</th>\n",
              "      <td>2012-12-31 19:00:00</td>\n",
              "      <td>1</td>\n",
              "      <td>0</td>\n",
              "      <td>1</td>\n",
              "      <td>2</td>\n",
              "      <td>10.66</td>\n",
              "      <td>12.880</td>\n",
              "      <td>60</td>\n",
              "      <td>11.0014</td>\n",
              "      <td>NaN</td>\n",
              "      <td>NaN</td>\n",
              "      <td>NaN</td>\n",
              "    </tr>\n",
              "    <tr>\n",
              "      <th>17374</th>\n",
              "      <td>2012-12-31 20:00:00</td>\n",
              "      <td>1</td>\n",
              "      <td>0</td>\n",
              "      <td>1</td>\n",
              "      <td>2</td>\n",
              "      <td>10.66</td>\n",
              "      <td>12.880</td>\n",
              "      <td>60</td>\n",
              "      <td>11.0014</td>\n",
              "      <td>NaN</td>\n",
              "      <td>NaN</td>\n",
              "      <td>NaN</td>\n",
              "    </tr>\n",
              "    <tr>\n",
              "      <th>17375</th>\n",
              "      <td>2012-12-31 21:00:00</td>\n",
              "      <td>1</td>\n",
              "      <td>0</td>\n",
              "      <td>1</td>\n",
              "      <td>1</td>\n",
              "      <td>10.66</td>\n",
              "      <td>12.880</td>\n",
              "      <td>60</td>\n",
              "      <td>11.0014</td>\n",
              "      <td>NaN</td>\n",
              "      <td>NaN</td>\n",
              "      <td>NaN</td>\n",
              "    </tr>\n",
              "    <tr>\n",
              "      <th>17376</th>\n",
              "      <td>2012-12-31 22:00:00</td>\n",
              "      <td>1</td>\n",
              "      <td>0</td>\n",
              "      <td>1</td>\n",
              "      <td>1</td>\n",
              "      <td>10.66</td>\n",
              "      <td>13.635</td>\n",
              "      <td>56</td>\n",
              "      <td>8.9981</td>\n",
              "      <td>NaN</td>\n",
              "      <td>NaN</td>\n",
              "      <td>NaN</td>\n",
              "    </tr>\n",
              "    <tr>\n",
              "      <th>17377</th>\n",
              "      <td>2012-12-31 23:00:00</td>\n",
              "      <td>1</td>\n",
              "      <td>0</td>\n",
              "      <td>1</td>\n",
              "      <td>1</td>\n",
              "      <td>10.66</td>\n",
              "      <td>13.635</td>\n",
              "      <td>65</td>\n",
              "      <td>8.9981</td>\n",
              "      <td>NaN</td>\n",
              "      <td>NaN</td>\n",
              "      <td>NaN</td>\n",
              "    </tr>\n",
              "  </tbody>\n",
              "</table>\n",
              "<p>17378 rows × 12 columns</p>\n",
              "</div>\n",
              "      <button class=\"colab-df-convert\" onclick=\"convertToInteractive('df-858dd78c-a61e-43a6-b506-1944bc711df0')\"\n",
              "              title=\"Convert this dataframe to an interactive table.\"\n",
              "              style=\"display:none;\">\n",
              "        \n",
              "  <svg xmlns=\"http://www.w3.org/2000/svg\" height=\"24px\"viewBox=\"0 0 24 24\"\n",
              "       width=\"24px\">\n",
              "    <path d=\"M0 0h24v24H0V0z\" fill=\"none\"/>\n",
              "    <path d=\"M18.56 5.44l.94 2.06.94-2.06 2.06-.94-2.06-.94-.94-2.06-.94 2.06-2.06.94zm-11 1L8.5 8.5l.94-2.06 2.06-.94-2.06-.94L8.5 2.5l-.94 2.06-2.06.94zm10 10l.94 2.06.94-2.06 2.06-.94-2.06-.94-.94-2.06-.94 2.06-2.06.94z\"/><path d=\"M17.41 7.96l-1.37-1.37c-.4-.4-.92-.59-1.43-.59-.52 0-1.04.2-1.43.59L10.3 9.45l-7.72 7.72c-.78.78-.78 2.05 0 2.83L4 21.41c.39.39.9.59 1.41.59.51 0 1.02-.2 1.41-.59l7.78-7.78 2.81-2.81c.8-.78.8-2.07 0-2.86zM5.41 20L4 18.59l7.72-7.72 1.47 1.35L5.41 20z\"/>\n",
              "  </svg>\n",
              "      </button>\n",
              "      \n",
              "  <style>\n",
              "    .colab-df-container {\n",
              "      display:flex;\n",
              "      flex-wrap:wrap;\n",
              "      gap: 12px;\n",
              "    }\n",
              "\n",
              "    .colab-df-convert {\n",
              "      background-color: #E8F0FE;\n",
              "      border: none;\n",
              "      border-radius: 50%;\n",
              "      cursor: pointer;\n",
              "      display: none;\n",
              "      fill: #1967D2;\n",
              "      height: 32px;\n",
              "      padding: 0 0 0 0;\n",
              "      width: 32px;\n",
              "    }\n",
              "\n",
              "    .colab-df-convert:hover {\n",
              "      background-color: #E2EBFA;\n",
              "      box-shadow: 0px 1px 2px rgba(60, 64, 67, 0.3), 0px 1px 3px 1px rgba(60, 64, 67, 0.15);\n",
              "      fill: #174EA6;\n",
              "    }\n",
              "\n",
              "    [theme=dark] .colab-df-convert {\n",
              "      background-color: #3B4455;\n",
              "      fill: #D2E3FC;\n",
              "    }\n",
              "\n",
              "    [theme=dark] .colab-df-convert:hover {\n",
              "      background-color: #434B5C;\n",
              "      box-shadow: 0px 1px 3px 1px rgba(0, 0, 0, 0.15);\n",
              "      filter: drop-shadow(0px 1px 2px rgba(0, 0, 0, 0.3));\n",
              "      fill: #FFFFFF;\n",
              "    }\n",
              "  </style>\n",
              "\n",
              "      <script>\n",
              "        const buttonEl =\n",
              "          document.querySelector('#df-858dd78c-a61e-43a6-b506-1944bc711df0 button.colab-df-convert');\n",
              "        buttonEl.style.display =\n",
              "          google.colab.kernel.accessAllowed ? 'block' : 'none';\n",
              "\n",
              "        async function convertToInteractive(key) {\n",
              "          const element = document.querySelector('#df-858dd78c-a61e-43a6-b506-1944bc711df0');\n",
              "          const dataTable =\n",
              "            await google.colab.kernel.invokeFunction('convertToInteractive',\n",
              "                                                     [key], {});\n",
              "          if (!dataTable) return;\n",
              "\n",
              "          const docLinkHtml = 'Like what you see? Visit the ' +\n",
              "            '<a target=\"_blank\" href=https://colab.research.google.com/notebooks/data_table.ipynb>data table notebook</a>'\n",
              "            + ' to learn more about interactive tables.';\n",
              "          element.innerHTML = '';\n",
              "          dataTable['output_type'] = 'display_data';\n",
              "          await google.colab.output.renderOutput(dataTable, element);\n",
              "          const docLink = document.createElement('div');\n",
              "          docLink.innerHTML = docLinkHtml;\n",
              "          element.appendChild(docLink);\n",
              "        }\n",
              "      </script>\n",
              "    </div>\n",
              "  </div>\n",
              "  "
            ]
          },
          "metadata": {},
          "execution_count": 152
        }
      ]
    },
    {
      "cell_type": "markdown",
      "source": [
        "#### 4-2. 파생 피처(변수) 추가"
      ],
      "metadata": {
        "id": "bCaTkiz6fTFN"
      }
    },
    {
      "cell_type": "code",
      "source": [
        "from datetime import datetime\n",
        "\n",
        "# 날짜 피처 생성\n",
        "all_data['date'] = all_data['datetime'].apply(lambda x: x.split()[0])\n",
        "# 연도 피처 생성\n",
        "all_data['year'] = all_data['datetime'].apply(lambda x: x.split()[0].split('-')[0])\n",
        "# 월 피처 생성\n",
        "all_data['month'] = all_data['datetime'].apply(lambda x: x.split()[0].split('-')[1])\n",
        "# 시 피처 생성\n",
        "all_data['hour'] = all_data['datetime'].apply(lambda x: x.split()[1].split(':')[0])\n",
        "# 요일 피처 생성\n",
        "all_data[\"weekday\"] = all_data['date'].apply(lambda dateString : datetime.strptime(dateString,\"%Y-%m-%d\").weekday())\n",
        "\n",
        "# day, minute, second 생성하지 않음"
      ],
      "metadata": {
        "id": "8X-WJCuVfOQj"
      },
      "execution_count": 153,
      "outputs": []
    },
    {
      "cell_type": "markdown",
      "source": [
        "#### 4-3. 피처 선택-필요 없는 피처 제거"
      ],
      "metadata": {
        "id": "_TbgO1eBfjSS"
      }
    },
    {
      "cell_type": "code",
      "source": [
        "drop_features = ['casual', 'registered', 'datetime', 'date', 'month', 'windspeed']\n",
        "\n",
        "all_data = all_data.drop(drop_features, axis=1)"
      ],
      "metadata": {
        "id": "ZVdZbdebfONq"
      },
      "execution_count": 154,
      "outputs": []
    },
    {
      "cell_type": "markdown",
      "source": [
        "#### 4-4. train, test 데이터 나누기"
      ],
      "metadata": {
        "id": "JzQAOT5Pf2Zj"
      }
    },
    {
      "cell_type": "code",
      "source": [
        "# 훈련 데이터와 테스트 데이터 나누기\n",
        "X_train = all_data[~pd.isnull(all_data['count'])]\n",
        "X_test = all_data[pd.isnull(all_data['count'])]\n",
        "\n",
        "# 타깃값 count 제거\n",
        "X_train = X_train.drop(['count'], axis=1)\n",
        "X_test = X_test.drop(['count'], axis=1)\n",
        "\n",
        "y = train['count'] # 타깃값"
      ],
      "metadata": {
        "id": "CnNu_tyafOLx"
      },
      "execution_count": 155,
      "outputs": []
    },
    {
      "cell_type": "code",
      "source": [
        "X_train.head()"
      ],
      "metadata": {
        "colab": {
          "base_uri": "https://localhost:8080/",
          "height": 206
        },
        "id": "197sWlh1fOJd",
        "outputId": "7b75014a-de8e-4618-c720-44dfeb880baa"
      },
      "execution_count": 156,
      "outputs": [
        {
          "output_type": "execute_result",
          "data": {
            "text/plain": [
              "   season  holiday  workingday  weather  temp   atemp  humidity  year hour  \\\n",
              "0       1        0           0        1  9.84  14.395        81  2011   00   \n",
              "1       1        0           0        1  9.02  13.635        80  2011   01   \n",
              "2       1        0           0        1  9.02  13.635        80  2011   02   \n",
              "3       1        0           0        1  9.84  14.395        75  2011   03   \n",
              "4       1        0           0        1  9.84  14.395        75  2011   04   \n",
              "\n",
              "   weekday  \n",
              "0        5  \n",
              "1        5  \n",
              "2        5  \n",
              "3        5  \n",
              "4        5  "
            ],
            "text/html": [
              "\n",
              "  <div id=\"df-16455735-43a4-4e56-b74b-60b96abcf1b1\">\n",
              "    <div class=\"colab-df-container\">\n",
              "      <div>\n",
              "<style scoped>\n",
              "    .dataframe tbody tr th:only-of-type {\n",
              "        vertical-align: middle;\n",
              "    }\n",
              "\n",
              "    .dataframe tbody tr th {\n",
              "        vertical-align: top;\n",
              "    }\n",
              "\n",
              "    .dataframe thead th {\n",
              "        text-align: right;\n",
              "    }\n",
              "</style>\n",
              "<table border=\"1\" class=\"dataframe\">\n",
              "  <thead>\n",
              "    <tr style=\"text-align: right;\">\n",
              "      <th></th>\n",
              "      <th>season</th>\n",
              "      <th>holiday</th>\n",
              "      <th>workingday</th>\n",
              "      <th>weather</th>\n",
              "      <th>temp</th>\n",
              "      <th>atemp</th>\n",
              "      <th>humidity</th>\n",
              "      <th>year</th>\n",
              "      <th>hour</th>\n",
              "      <th>weekday</th>\n",
              "    </tr>\n",
              "  </thead>\n",
              "  <tbody>\n",
              "    <tr>\n",
              "      <th>0</th>\n",
              "      <td>1</td>\n",
              "      <td>0</td>\n",
              "      <td>0</td>\n",
              "      <td>1</td>\n",
              "      <td>9.84</td>\n",
              "      <td>14.395</td>\n",
              "      <td>81</td>\n",
              "      <td>2011</td>\n",
              "      <td>00</td>\n",
              "      <td>5</td>\n",
              "    </tr>\n",
              "    <tr>\n",
              "      <th>1</th>\n",
              "      <td>1</td>\n",
              "      <td>0</td>\n",
              "      <td>0</td>\n",
              "      <td>1</td>\n",
              "      <td>9.02</td>\n",
              "      <td>13.635</td>\n",
              "      <td>80</td>\n",
              "      <td>2011</td>\n",
              "      <td>01</td>\n",
              "      <td>5</td>\n",
              "    </tr>\n",
              "    <tr>\n",
              "      <th>2</th>\n",
              "      <td>1</td>\n",
              "      <td>0</td>\n",
              "      <td>0</td>\n",
              "      <td>1</td>\n",
              "      <td>9.02</td>\n",
              "      <td>13.635</td>\n",
              "      <td>80</td>\n",
              "      <td>2011</td>\n",
              "      <td>02</td>\n",
              "      <td>5</td>\n",
              "    </tr>\n",
              "    <tr>\n",
              "      <th>3</th>\n",
              "      <td>1</td>\n",
              "      <td>0</td>\n",
              "      <td>0</td>\n",
              "      <td>1</td>\n",
              "      <td>9.84</td>\n",
              "      <td>14.395</td>\n",
              "      <td>75</td>\n",
              "      <td>2011</td>\n",
              "      <td>03</td>\n",
              "      <td>5</td>\n",
              "    </tr>\n",
              "    <tr>\n",
              "      <th>4</th>\n",
              "      <td>1</td>\n",
              "      <td>0</td>\n",
              "      <td>0</td>\n",
              "      <td>1</td>\n",
              "      <td>9.84</td>\n",
              "      <td>14.395</td>\n",
              "      <td>75</td>\n",
              "      <td>2011</td>\n",
              "      <td>04</td>\n",
              "      <td>5</td>\n",
              "    </tr>\n",
              "  </tbody>\n",
              "</table>\n",
              "</div>\n",
              "      <button class=\"colab-df-convert\" onclick=\"convertToInteractive('df-16455735-43a4-4e56-b74b-60b96abcf1b1')\"\n",
              "              title=\"Convert this dataframe to an interactive table.\"\n",
              "              style=\"display:none;\">\n",
              "        \n",
              "  <svg xmlns=\"http://www.w3.org/2000/svg\" height=\"24px\"viewBox=\"0 0 24 24\"\n",
              "       width=\"24px\">\n",
              "    <path d=\"M0 0h24v24H0V0z\" fill=\"none\"/>\n",
              "    <path d=\"M18.56 5.44l.94 2.06.94-2.06 2.06-.94-2.06-.94-.94-2.06-.94 2.06-2.06.94zm-11 1L8.5 8.5l.94-2.06 2.06-.94-2.06-.94L8.5 2.5l-.94 2.06-2.06.94zm10 10l.94 2.06.94-2.06 2.06-.94-2.06-.94-.94-2.06-.94 2.06-2.06.94z\"/><path d=\"M17.41 7.96l-1.37-1.37c-.4-.4-.92-.59-1.43-.59-.52 0-1.04.2-1.43.59L10.3 9.45l-7.72 7.72c-.78.78-.78 2.05 0 2.83L4 21.41c.39.39.9.59 1.41.59.51 0 1.02-.2 1.41-.59l7.78-7.78 2.81-2.81c.8-.78.8-2.07 0-2.86zM5.41 20L4 18.59l7.72-7.72 1.47 1.35L5.41 20z\"/>\n",
              "  </svg>\n",
              "      </button>\n",
              "      \n",
              "  <style>\n",
              "    .colab-df-container {\n",
              "      display:flex;\n",
              "      flex-wrap:wrap;\n",
              "      gap: 12px;\n",
              "    }\n",
              "\n",
              "    .colab-df-convert {\n",
              "      background-color: #E8F0FE;\n",
              "      border: none;\n",
              "      border-radius: 50%;\n",
              "      cursor: pointer;\n",
              "      display: none;\n",
              "      fill: #1967D2;\n",
              "      height: 32px;\n",
              "      padding: 0 0 0 0;\n",
              "      width: 32px;\n",
              "    }\n",
              "\n",
              "    .colab-df-convert:hover {\n",
              "      background-color: #E2EBFA;\n",
              "      box-shadow: 0px 1px 2px rgba(60, 64, 67, 0.3), 0px 1px 3px 1px rgba(60, 64, 67, 0.15);\n",
              "      fill: #174EA6;\n",
              "    }\n",
              "\n",
              "    [theme=dark] .colab-df-convert {\n",
              "      background-color: #3B4455;\n",
              "      fill: #D2E3FC;\n",
              "    }\n",
              "\n",
              "    [theme=dark] .colab-df-convert:hover {\n",
              "      background-color: #434B5C;\n",
              "      box-shadow: 0px 1px 3px 1px rgba(0, 0, 0, 0.15);\n",
              "      filter: drop-shadow(0px 1px 2px rgba(0, 0, 0, 0.3));\n",
              "      fill: #FFFFFF;\n",
              "    }\n",
              "  </style>\n",
              "\n",
              "      <script>\n",
              "        const buttonEl =\n",
              "          document.querySelector('#df-16455735-43a4-4e56-b74b-60b96abcf1b1 button.colab-df-convert');\n",
              "        buttonEl.style.display =\n",
              "          google.colab.kernel.accessAllowed ? 'block' : 'none';\n",
              "\n",
              "        async function convertToInteractive(key) {\n",
              "          const element = document.querySelector('#df-16455735-43a4-4e56-b74b-60b96abcf1b1');\n",
              "          const dataTable =\n",
              "            await google.colab.kernel.invokeFunction('convertToInteractive',\n",
              "                                                     [key], {});\n",
              "          if (!dataTable) return;\n",
              "\n",
              "          const docLinkHtml = 'Like what you see? Visit the ' +\n",
              "            '<a target=\"_blank\" href=https://colab.research.google.com/notebooks/data_table.ipynb>data table notebook</a>'\n",
              "            + ' to learn more about interactive tables.';\n",
              "          element.innerHTML = '';\n",
              "          dataTable['output_type'] = 'display_data';\n",
              "          await google.colab.output.renderOutput(dataTable, element);\n",
              "          const docLink = document.createElement('div');\n",
              "          docLink.innerHTML = docLinkHtml;\n",
              "          element.appendChild(docLink);\n",
              "        }\n",
              "      </script>\n",
              "    </div>\n",
              "  </div>\n",
              "  "
            ]
          },
          "metadata": {},
          "execution_count": 156
        }
      ]
    },
    {
      "cell_type": "code",
      "source": [
        "from sklearn.model_selection import train_test_split\n",
        "X_train, X_tr_test, y_train, y_tr_test = train_test_split(X_train, y, test_size=0.2, random_state=156)"
      ],
      "metadata": {
        "id": "DTW_4yw8tfbw"
      },
      "execution_count": 157,
      "outputs": []
    },
    {
      "cell_type": "markdown",
      "source": [
        "#### 4-5. 평가지표 계산 함수 작성 : RMSLE"
      ],
      "metadata": {
        "id": "gkmoXexNgTCj"
      }
    },
    {
      "cell_type": "code",
      "source": [
        "import numpy as np\n",
        "\n",
        "def rmsle(y_true, y_pred, convertExp=True):\n",
        "    # 지수변환: 타깃값 log(count)\n",
        "    if convertExp:\n",
        "        y_true = np.exp(y_true)\n",
        "        y_pred = np.exp(y_pred)\n",
        "        \n",
        "    # 로그변환 후 결측값을 0으로 변환\n",
        "    log_true = np.nan_to_num(np.log(y_true+1))\n",
        "    log_pred = np.nan_to_num(np.log(y_pred+1))\n",
        "    \n",
        "    # RMSLE 계산\n",
        "    output = np.sqrt(np.mean((log_true - log_pred)**2))\n",
        "    return output"
      ],
      "metadata": {
        "id": "l5MQuEJ2dsgN"
      },
      "execution_count": 33,
      "outputs": []
    },
    {
      "cell_type": "code",
      "source": [
        "import numpy as np\n",
        "\n",
        "def rmsle1(y_true, y_pred, convertExp=True):\n",
        "    # 지수변환: 타깃값 log(count)\n",
        "    if convertExp:\n",
        "        y_true = np.exp(y_true)\n",
        "        y_pred = np.exp(y_pred)\n",
        "        \n",
        "    # 로그변환 후 결측값을 0으로 변환\n",
        "    log_true = np.nan_to_num(np.log1p(y_true))\n",
        "    log_pred = np.nan_to_num(np.log1p(y_pred))\n",
        "    \n",
        "    # RMSLE 계산\n",
        "    output = np.sqrt(np.mean((log_true - log_pred)**2))\n",
        "    return output"
      ],
      "metadata": {
        "id": "sjs3OZWV3SgA"
      },
      "execution_count": 87,
      "outputs": []
    },
    {
      "cell_type": "markdown",
      "source": [
        "#### 4-6. 모델 훈련과 성능 검증: 선형 회귀 모델"
      ],
      "metadata": {
        "id": "t4nZAM_tgq4i"
      }
    },
    {
      "cell_type": "code",
      "source": [
        "from sklearn.linear_model import LinearRegression\n",
        "\n",
        "linear_reg_model = LinearRegression()"
      ],
      "metadata": {
        "id": "_aQHT0WbgdRZ"
      },
      "execution_count": 83,
      "outputs": []
    },
    {
      "cell_type": "code",
      "source": [
        "log_y_tr_test = np.log(y_tr_test)\n",
        "log_y_train=np.log(y_train)  # 타깃값 로그변환\n",
        "linear_reg_model.fit(X_train, log_y_train) # 모델 훈련"
      ],
      "metadata": {
        "colab": {
          "base_uri": "https://localhost:8080/"
        },
        "id": "Kj_wgvjZgdO4",
        "outputId": "77bc93da-8ec2-4810-8359-e5ab64d4585d"
      },
      "execution_count": 123,
      "outputs": [
        {
          "output_type": "execute_result",
          "data": {
            "text/plain": [
              "LinearRegression()"
            ]
          },
          "metadata": {},
          "execution_count": 123
        }
      ]
    },
    {
      "cell_type": "code",
      "source": [
        "preds = linear_reg_model.predict(X_tr_test)\n",
        "print (f'선형회귀의 RMSLE 값 : {rmsle(log_y_tr_test, preds, True):.4f}')"
      ],
      "metadata": {
        "colab": {
          "base_uri": "https://localhost:8080/"
        },
        "id": "ZuIMhFd8gdMU",
        "outputId": "227f46be-4589-45c9-88c1-8363da4c2c54"
      },
      "execution_count": 86,
      "outputs": [
        {
          "output_type": "stream",
          "name": "stdout",
          "text": [
            "선형회귀의 RMSLE 값 : 1.0020\n"
          ]
        }
      ]
    },
    {
      "cell_type": "code",
      "source": [
        "print (f'선형회귀의 RMSLE 값 : {rmsle1(log_y_tr_test, preds, True):.4f}')"
      ],
      "metadata": {
        "colab": {
          "base_uri": "https://localhost:8080/"
        },
        "id": "2GOnT5TV3db9",
        "outputId": "6f8e95c9-d49b-4815-ab1b-c80599285028"
      },
      "execution_count": 88,
      "outputs": [
        {
          "output_type": "stream",
          "name": "stdout",
          "text": [
            "선형회귀의 RMSLE 값 : 1.0020\n"
          ]
        }
      ]
    },
    {
      "cell_type": "markdown",
      "source": [
        "#### 4-7. 예측 및 결과 제출\n",
        "* 테스트 데이터로 예측한 결과 이용\n",
        "* 예측한 값에 지수변환"
      ],
      "metadata": {
        "id": "5XVR8MDaiMIG"
      }
    },
    {
      "cell_type": "code",
      "source": [
        "linearreg_preds = linear_reg_model.predict(X_test) # 테스트 데이터로 예측\n",
        "\n",
        "submission['count'] = np.exp(linearreg_preds)    # 지수변환\n",
        "submission.to_csv('submission.csv', index=False) # 파일로 저장"
      ],
      "metadata": {
        "id": "lXHRmyOQgdGl"
      },
      "execution_count": 37,
      "outputs": []
    },
    {
      "cell_type": "markdown",
      "source": [
        "### 5. 성능 개선"
      ],
      "metadata": {
        "id": "pimUcfn5idIS"
      }
    },
    {
      "cell_type": "markdown",
      "source": [
        "#### 5-1. 릿지 회귀 모델\n",
        "L2 규제를 적용한 선형 회귀 모델 (규제: 모델이 훈련 데이터에 과대적합 되지 않도록 해주는 방법)"
      ],
      "metadata": {
        "id": "T2BY9IAjimDI"
      }
    },
    {
      "cell_type": "code",
      "source": [
        "## 모델 생성\n",
        "from sklearn.linear_model import Ridge\n",
        "from sklearn.model_selection import GridSearchCV\n",
        "from sklearn import metrics\n",
        "\n",
        "ridge_model = Ridge()"
      ],
      "metadata": {
        "id": "UE9lfiMvgdEo"
      },
      "execution_count": 38,
      "outputs": []
    },
    {
      "cell_type": "code",
      "source": [
        "## 그리드서치 객체 생성\n",
        "# 하이퍼 파라미터 값 목록\n",
        "ridge_params = {'max_iter':[3000], 'alpha':[0.1, 1, 2, 3, 4, 10, 30, 100, 200, 300, 400, 800, 900, 1000]}\n",
        "\n",
        "# 교차 검증용 평가 함수(RMSLE 점수 계산)\n",
        "rmsle_scorer = metrics.make_scorer(rmsle, greater_is_better=False)\n",
        "# 그리드서치(with 릿지) 객체 생성\n",
        "gridsearch_ridge_model = GridSearchCV(estimator=ridge_model,   # 릿지 모델\n",
        "                                      param_grid=ridge_params, # 값 목록\n",
        "                                      scoring=rmsle_scorer,    # 평가지표\n",
        "                                      cv=5)                    # 교차검증 분할 수"
      ],
      "metadata": {
        "id": "x0F9_YAogdCe"
      },
      "execution_count": 39,
      "outputs": []
    },
    {
      "cell_type": "markdown",
      "source": [
        "> GridSearchCV() 주요 파라미터\n",
        " + estimator: 분류 및 회귀 모델\n",
        " + param_grid: 딕셔너리 형태로 모델의 하이퍼파라미터명과 여러 하이퍼파라미터 값을 지정\n",
        " + scoring: 평가지표\n",
        " + cv: 교차 검증 분할 개수(기본값은 5)\n"
      ],
      "metadata": {
        "id": "GnUXUcYNjVRY"
      }
    },
    {
      "cell_type": "code",
      "source": [
        "## 그리드서치 수행\n",
        "log_y_tr_test = np.log(y_tr_test)\n",
        "log_y_train=np.log(y_train)  # 타깃값 로그변환\n",
        "gridsearch_ridge_model.fit(X_train, log_y_train) # 훈련(그리드서치)"
      ],
      "metadata": {
        "colab": {
          "base_uri": "https://localhost:8080/"
        },
        "id": "VCKi1PWpgc-_",
        "outputId": "f5f54095-b583-4578-dff9-105572c477c9"
      },
      "execution_count": 89,
      "outputs": [
        {
          "output_type": "execute_result",
          "data": {
            "text/plain": [
              "GridSearchCV(cv=5, estimator=Ridge(),\n",
              "             param_grid={'alpha': [0.1, 1, 2, 3, 4, 10, 30, 100, 200, 300, 400,\n",
              "                                   800, 900, 1000],\n",
              "                         'max_iter': [3000]},\n",
              "             scoring=make_scorer(rmsle, greater_is_better=False))"
            ]
          },
          "metadata": {},
          "execution_count": 89
        }
      ]
    },
    {
      "cell_type": "code",
      "source": [
        "print('최적 하이퍼파라미터 :', gridsearch_ridge_model.best_params_)"
      ],
      "metadata": {
        "colab": {
          "base_uri": "https://localhost:8080/"
        },
        "id": "evrTALgWgc8f",
        "outputId": "a6cc24cd-adda-4e56-c95b-9b006a652ce3"
      },
      "execution_count": 90,
      "outputs": [
        {
          "output_type": "stream",
          "name": "stdout",
          "text": [
            "최적 하이퍼파라미터 : {'alpha': 100, 'max_iter': 3000}\n"
          ]
        }
      ]
    },
    {
      "cell_type": "code",
      "source": [
        "## 성능 검증\n",
        "# 예측\n",
        "preds = gridsearch_ridge_model.best_estimator_.predict(X_tr_test) \n",
        "\n",
        "# 평가\n",
        "print(f'릿지 회귀 RMSLE 값 : {rmsle(log_y_tr_test, preds, True):.4f}') "
      ],
      "metadata": {
        "colab": {
          "base_uri": "https://localhost:8080/"
        },
        "id": "Qamvw6H-gc5-",
        "outputId": "2bfd1ee1-c181-45f5-a917-101077162431"
      },
      "execution_count": 91,
      "outputs": [
        {
          "output_type": "stream",
          "name": "stdout",
          "text": [
            "릿지 회귀 RMSLE 값 : 1.0022\n"
          ]
        }
      ]
    },
    {
      "cell_type": "markdown",
      "source": [
        "#### 5-2. 라쏘 회귀 모델\n",
        "L1 규제를 적용한 선형 회귀 모델"
      ],
      "metadata": {
        "id": "MbBAlWyzkQrH"
      }
    },
    {
      "cell_type": "code",
      "source": [
        "## 하이퍼파라미터 최적화\n",
        "from sklearn.linear_model import Lasso\n",
        "\n",
        "# 모델 생성\n",
        "lasso_model = Lasso()\n",
        "# 하이퍼파라미터 값 목록\n",
        "lasso_alpha = 1/np.array([0.1, 1, 2, 3, 4, 10, 30, 100, 200, 300, 400, 800, 900, 1000])\n",
        "lasso_params = {'max_iter':[3000], 'alpha':lasso_alpha}\n",
        "# 그리드서치(with 라쏘) 객체 생성\n",
        "gridsearch_lasso_model = GridSearchCV(estimator=lasso_model,\n",
        "                                      param_grid=lasso_params,\n",
        "                                      scoring=rmsle_scorer,\n",
        "                                      cv=5)\n",
        "# 그리드서치 수행\n",
        "log_y_tr_test = np.log(y_tr_test)\n",
        "log_y_train=np.log(y_train)  # 타깃값 로그변환\n",
        "gridsearch_lasso_model.fit(X_train, log_y_train)\n",
        "\n",
        "print('최적 하이퍼파라미터 :', gridsearch_lasso_model.best_params_)"
      ],
      "metadata": {
        "colab": {
          "base_uri": "https://localhost:8080/"
        },
        "id": "WKfj4kPGgc39",
        "outputId": "a70bfcd3-a78b-48fe-904a-8b8a62de8e11"
      },
      "execution_count": 92,
      "outputs": [
        {
          "output_type": "stream",
          "name": "stdout",
          "text": [
            "최적 하이퍼파라미터 : {'alpha': 0.005, 'max_iter': 3000}\n"
          ]
        }
      ]
    },
    {
      "cell_type": "code",
      "source": [
        "## 성능 검증\n",
        "# 예측\n",
        "preds = gridsearch_lasso_model.best_estimator_.predict(X_tr_test)\n",
        "\n",
        "# 평가\n",
        "print(f'라쏘 회귀 RMSLE 값 : {rmsle(log_y_tr_test, preds, True):.4f}')"
      ],
      "metadata": {
        "colab": {
          "base_uri": "https://localhost:8080/"
        },
        "id": "N8YBIxDqgc2Z",
        "outputId": "f93f143e-09ae-4f34-9ec2-961f0901d582"
      },
      "execution_count": 93,
      "outputs": [
        {
          "output_type": "stream",
          "name": "stdout",
          "text": [
            "라쏘 회귀 RMSLE 값 : 1.0020\n"
          ]
        }
      ]
    },
    {
      "cell_type": "markdown",
      "source": [
        "#### 5-3. 랜덤 포레스트 회귀 모델"
      ],
      "metadata": {
        "id": "AyHbGkwgks_W"
      }
    },
    {
      "cell_type": "code",
      "source": [
        "# Grid x\n",
        "from sklearn.ensemble import RandomForestRegressor\n",
        "\n",
        "# 모델 생성\n",
        "randomforest_model = RandomForestRegressor()\n",
        "log_y_tr_test = np.log(y_tr_test)\n",
        "log_y_train=np.log(y_train)\n",
        "randomforest_model.fit(X_train, log_y_train)\n",
        "pred1=randomforest_model.predict(X_tr_test)"
      ],
      "metadata": {
        "id": "h93oTPITPG7j"
      },
      "execution_count": 94,
      "outputs": []
    },
    {
      "cell_type": "code",
      "source": [
        "# Grid o\n",
        "## 하이퍼 파라미터 최적화\n",
        "from sklearn.ensemble import RandomForestRegressor\n",
        "\n",
        "# 모델 생성\n",
        "randomforest_model = RandomForestRegressor()\n",
        "# 그리드서치 객체 생성\n",
        "rf_params = {'random_state':[42], 'n_estimators':[100, 120, 140]}\n",
        "gridsearch_random_forest_model = GridSearchCV(estimator=randomforest_model,\n",
        "                                              param_grid=rf_params,\n",
        "                                              scoring=rmsle_scorer,\n",
        "                                              cv=5)\n",
        "# 그리드서치 수행\n",
        "log_y_tr_test = np.log(y_tr_test)\n",
        "log_y_train=np.log(y_train)  # 타깃값 로그변환\n",
        "gridsearch_random_forest_model.fit(X_train, log_y_train)\n",
        "\n",
        "print('최적 하이퍼파라미터 :', gridsearch_random_forest_model.best_params_)"
      ],
      "metadata": {
        "colab": {
          "base_uri": "https://localhost:8080/"
        },
        "id": "W-x1nT35PdD3",
        "outputId": "e90b27bc-f2e7-4549-b15f-40debf4da992"
      },
      "execution_count": 95,
      "outputs": [
        {
          "output_type": "stream",
          "name": "stdout",
          "text": [
            "최적 하이퍼파라미터 : {'n_estimators': 140, 'random_state': 42}\n"
          ]
        }
      ]
    },
    {
      "cell_type": "code",
      "source": [
        "## 모델 성능 검증\n",
        "# 예측\n",
        "pred2 = gridsearch_random_forest_model.best_estimator_.predict(X_tr_test)"
      ],
      "metadata": {
        "id": "HD6zViLAPzlw"
      },
      "execution_count": 97,
      "outputs": []
    },
    {
      "cell_type": "code",
      "source": [
        "# randomsearch\n",
        "from sklearn.model_selection import RandomizedSearchCV\n",
        "n_iter_search=20\n",
        "params={'random_state':[42], 'n_estimators':range(100,140)}\n",
        "rf_rs=RandomizedSearchCV(randomforest_model, param_distributions=params, n_iter=n_iter_search, cv=1, n_jobs=-1)\n",
        "rf_rs.fit(X_train, log_y_train)\n",
        "print('최적 하이퍼파라미터 :',rf_rs.best_params_)"
      ],
      "metadata": {
        "colab": {
          "base_uri": "https://localhost:8080/",
          "height": 378
        },
        "id": "Q6Bew4zNP5id",
        "outputId": "5583b930-c8bb-465b-f3bb-25fd87a7ba5f"
      },
      "execution_count": 184,
      "outputs": [
        {
          "output_type": "error",
          "ename": "ValueError",
          "evalue": "ignored",
          "traceback": [
            "\u001b[0;31m---------------------------------------------------------------------------\u001b[0m",
            "\u001b[0;31mValueError\u001b[0m                                Traceback (most recent call last)",
            "\u001b[0;32m<ipython-input-184-2bc9b681da84>\u001b[0m in \u001b[0;36m<module>\u001b[0;34m\u001b[0m\n\u001b[1;32m      4\u001b[0m \u001b[0mparams\u001b[0m\u001b[0;34m=\u001b[0m\u001b[0;34m{\u001b[0m\u001b[0;34m'random_state'\u001b[0m\u001b[0;34m:\u001b[0m\u001b[0;34m[\u001b[0m\u001b[0;36m42\u001b[0m\u001b[0;34m]\u001b[0m\u001b[0;34m,\u001b[0m \u001b[0;34m'n_estimators'\u001b[0m\u001b[0;34m:\u001b[0m\u001b[0mrange\u001b[0m\u001b[0;34m(\u001b[0m\u001b[0;36m100\u001b[0m\u001b[0;34m,\u001b[0m\u001b[0;36m140\u001b[0m\u001b[0;34m)\u001b[0m\u001b[0;34m}\u001b[0m\u001b[0;34m\u001b[0m\u001b[0;34m\u001b[0m\u001b[0m\n\u001b[1;32m      5\u001b[0m \u001b[0mrf_rs\u001b[0m\u001b[0;34m=\u001b[0m\u001b[0mRandomizedSearchCV\u001b[0m\u001b[0;34m(\u001b[0m\u001b[0mrandomforest_model\u001b[0m\u001b[0;34m,\u001b[0m \u001b[0mparam_distributions\u001b[0m\u001b[0;34m=\u001b[0m\u001b[0mparams\u001b[0m\u001b[0;34m,\u001b[0m \u001b[0mn_iter\u001b[0m\u001b[0;34m=\u001b[0m\u001b[0mn_iter_search\u001b[0m\u001b[0;34m,\u001b[0m \u001b[0mcv\u001b[0m\u001b[0;34m=\u001b[0m\u001b[0;36m1\u001b[0m\u001b[0;34m,\u001b[0m \u001b[0mn_jobs\u001b[0m\u001b[0;34m=\u001b[0m\u001b[0;34m-\u001b[0m\u001b[0;36m1\u001b[0m\u001b[0;34m)\u001b[0m\u001b[0;34m\u001b[0m\u001b[0;34m\u001b[0m\u001b[0m\n\u001b[0;32m----> 6\u001b[0;31m \u001b[0mrf_rs\u001b[0m\u001b[0;34m.\u001b[0m\u001b[0mfit\u001b[0m\u001b[0;34m(\u001b[0m\u001b[0mX_train\u001b[0m\u001b[0;34m,\u001b[0m \u001b[0mlog_y_train\u001b[0m\u001b[0;34m)\u001b[0m\u001b[0;34m\u001b[0m\u001b[0;34m\u001b[0m\u001b[0m\n\u001b[0m\u001b[1;32m      7\u001b[0m \u001b[0mprint\u001b[0m\u001b[0;34m(\u001b[0m\u001b[0;34m'최적 하이퍼파라미터 :'\u001b[0m\u001b[0;34m,\u001b[0m\u001b[0mrf_rs\u001b[0m\u001b[0;34m.\u001b[0m\u001b[0mbest_params_\u001b[0m\u001b[0;34m)\u001b[0m\u001b[0;34m\u001b[0m\u001b[0;34m\u001b[0m\u001b[0m\n",
            "\u001b[0;32m/usr/local/lib/python3.8/dist-packages/sklearn/model_selection/_search.py\u001b[0m in \u001b[0;36mfit\u001b[0;34m(self, X, y, groups, **fit_params)\u001b[0m\n\u001b[1;32m    800\u001b[0m         \u001b[0mfit_params\u001b[0m \u001b[0;34m=\u001b[0m \u001b[0m_check_fit_params\u001b[0m\u001b[0;34m(\u001b[0m\u001b[0mX\u001b[0m\u001b[0;34m,\u001b[0m \u001b[0mfit_params\u001b[0m\u001b[0;34m)\u001b[0m\u001b[0;34m\u001b[0m\u001b[0;34m\u001b[0m\u001b[0m\n\u001b[1;32m    801\u001b[0m \u001b[0;34m\u001b[0m\u001b[0m\n\u001b[0;32m--> 802\u001b[0;31m         \u001b[0mcv_orig\u001b[0m \u001b[0;34m=\u001b[0m \u001b[0mcheck_cv\u001b[0m\u001b[0;34m(\u001b[0m\u001b[0mself\u001b[0m\u001b[0;34m.\u001b[0m\u001b[0mcv\u001b[0m\u001b[0;34m,\u001b[0m \u001b[0my\u001b[0m\u001b[0;34m,\u001b[0m \u001b[0mclassifier\u001b[0m\u001b[0;34m=\u001b[0m\u001b[0mis_classifier\u001b[0m\u001b[0;34m(\u001b[0m\u001b[0mestimator\u001b[0m\u001b[0;34m)\u001b[0m\u001b[0;34m)\u001b[0m\u001b[0;34m\u001b[0m\u001b[0;34m\u001b[0m\u001b[0m\n\u001b[0m\u001b[1;32m    803\u001b[0m         \u001b[0mn_splits\u001b[0m \u001b[0;34m=\u001b[0m \u001b[0mcv_orig\u001b[0m\u001b[0;34m.\u001b[0m\u001b[0mget_n_splits\u001b[0m\u001b[0;34m(\u001b[0m\u001b[0mX\u001b[0m\u001b[0;34m,\u001b[0m \u001b[0my\u001b[0m\u001b[0;34m,\u001b[0m \u001b[0mgroups\u001b[0m\u001b[0;34m)\u001b[0m\u001b[0;34m\u001b[0m\u001b[0;34m\u001b[0m\u001b[0m\n\u001b[1;32m    804\u001b[0m \u001b[0;34m\u001b[0m\u001b[0m\n",
            "\u001b[0;32m/usr/local/lib/python3.8/dist-packages/sklearn/model_selection/_split.py\u001b[0m in \u001b[0;36mcheck_cv\u001b[0;34m(cv, y, classifier)\u001b[0m\n\u001b[1;32m   2305\u001b[0m             \u001b[0;32mreturn\u001b[0m \u001b[0mStratifiedKFold\u001b[0m\u001b[0;34m(\u001b[0m\u001b[0mcv\u001b[0m\u001b[0;34m)\u001b[0m\u001b[0;34m\u001b[0m\u001b[0;34m\u001b[0m\u001b[0m\n\u001b[1;32m   2306\u001b[0m         \u001b[0;32melse\u001b[0m\u001b[0;34m:\u001b[0m\u001b[0;34m\u001b[0m\u001b[0;34m\u001b[0m\u001b[0m\n\u001b[0;32m-> 2307\u001b[0;31m             \u001b[0;32mreturn\u001b[0m \u001b[0mKFold\u001b[0m\u001b[0;34m(\u001b[0m\u001b[0mcv\u001b[0m\u001b[0;34m)\u001b[0m\u001b[0;34m\u001b[0m\u001b[0;34m\u001b[0m\u001b[0m\n\u001b[0m\u001b[1;32m   2308\u001b[0m \u001b[0;34m\u001b[0m\u001b[0m\n\u001b[1;32m   2309\u001b[0m     \u001b[0;32mif\u001b[0m \u001b[0;32mnot\u001b[0m \u001b[0mhasattr\u001b[0m\u001b[0;34m(\u001b[0m\u001b[0mcv\u001b[0m\u001b[0;34m,\u001b[0m \u001b[0;34m\"split\"\u001b[0m\u001b[0;34m)\u001b[0m \u001b[0;32mor\u001b[0m \u001b[0misinstance\u001b[0m\u001b[0;34m(\u001b[0m\u001b[0mcv\u001b[0m\u001b[0;34m,\u001b[0m \u001b[0mstr\u001b[0m\u001b[0;34m)\u001b[0m\u001b[0;34m:\u001b[0m\u001b[0;34m\u001b[0m\u001b[0;34m\u001b[0m\u001b[0m\n",
            "\u001b[0;32m/usr/local/lib/python3.8/dist-packages/sklearn/model_selection/_split.py\u001b[0m in \u001b[0;36m__init__\u001b[0;34m(self, n_splits, shuffle, random_state)\u001b[0m\n\u001b[1;32m    433\u001b[0m \u001b[0;34m\u001b[0m\u001b[0m\n\u001b[1;32m    434\u001b[0m     \u001b[0;32mdef\u001b[0m \u001b[0m__init__\u001b[0m\u001b[0;34m(\u001b[0m\u001b[0mself\u001b[0m\u001b[0;34m,\u001b[0m \u001b[0mn_splits\u001b[0m\u001b[0;34m=\u001b[0m\u001b[0;36m5\u001b[0m\u001b[0;34m,\u001b[0m \u001b[0;34m*\u001b[0m\u001b[0;34m,\u001b[0m \u001b[0mshuffle\u001b[0m\u001b[0;34m=\u001b[0m\u001b[0;32mFalse\u001b[0m\u001b[0;34m,\u001b[0m \u001b[0mrandom_state\u001b[0m\u001b[0;34m=\u001b[0m\u001b[0;32mNone\u001b[0m\u001b[0;34m)\u001b[0m\u001b[0;34m:\u001b[0m\u001b[0;34m\u001b[0m\u001b[0;34m\u001b[0m\u001b[0m\n\u001b[0;32m--> 435\u001b[0;31m         \u001b[0msuper\u001b[0m\u001b[0;34m(\u001b[0m\u001b[0;34m)\u001b[0m\u001b[0;34m.\u001b[0m\u001b[0m__init__\u001b[0m\u001b[0;34m(\u001b[0m\u001b[0mn_splits\u001b[0m\u001b[0;34m=\u001b[0m\u001b[0mn_splits\u001b[0m\u001b[0;34m,\u001b[0m \u001b[0mshuffle\u001b[0m\u001b[0;34m=\u001b[0m\u001b[0mshuffle\u001b[0m\u001b[0;34m,\u001b[0m \u001b[0mrandom_state\u001b[0m\u001b[0;34m=\u001b[0m\u001b[0mrandom_state\u001b[0m\u001b[0;34m)\u001b[0m\u001b[0;34m\u001b[0m\u001b[0;34m\u001b[0m\u001b[0m\n\u001b[0m\u001b[1;32m    436\u001b[0m \u001b[0;34m\u001b[0m\u001b[0m\n\u001b[1;32m    437\u001b[0m     \u001b[0;32mdef\u001b[0m \u001b[0m_iter_test_indices\u001b[0m\u001b[0;34m(\u001b[0m\u001b[0mself\u001b[0m\u001b[0;34m,\u001b[0m \u001b[0mX\u001b[0m\u001b[0;34m,\u001b[0m \u001b[0my\u001b[0m\u001b[0;34m=\u001b[0m\u001b[0;32mNone\u001b[0m\u001b[0;34m,\u001b[0m \u001b[0mgroups\u001b[0m\u001b[0;34m=\u001b[0m\u001b[0;32mNone\u001b[0m\u001b[0;34m)\u001b[0m\u001b[0;34m:\u001b[0m\u001b[0;34m\u001b[0m\u001b[0;34m\u001b[0m\u001b[0m\n",
            "\u001b[0;32m/usr/local/lib/python3.8/dist-packages/sklearn/model_selection/_split.py\u001b[0m in \u001b[0;36m__init__\u001b[0;34m(self, n_splits, shuffle, random_state)\u001b[0m\n\u001b[1;32m    284\u001b[0m \u001b[0;34m\u001b[0m\u001b[0m\n\u001b[1;32m    285\u001b[0m         \u001b[0;32mif\u001b[0m \u001b[0mn_splits\u001b[0m \u001b[0;34m<=\u001b[0m \u001b[0;36m1\u001b[0m\u001b[0;34m:\u001b[0m\u001b[0;34m\u001b[0m\u001b[0;34m\u001b[0m\u001b[0m\n\u001b[0;32m--> 286\u001b[0;31m             raise ValueError(\n\u001b[0m\u001b[1;32m    287\u001b[0m                 \u001b[0;34m\"k-fold cross-validation requires at least one\"\u001b[0m\u001b[0;34m\u001b[0m\u001b[0;34m\u001b[0m\u001b[0m\n\u001b[1;32m    288\u001b[0m                 \u001b[0;34m\" train/test split by setting n_splits=2 or more,\"\u001b[0m\u001b[0;34m\u001b[0m\u001b[0;34m\u001b[0m\u001b[0m\n",
            "\u001b[0;31mValueError\u001b[0m: k-fold cross-validation requires at least one train/test split by setting n_splits=2 or more, got n_splits=1."
          ]
        }
      ]
    },
    {
      "cell_type": "code",
      "source": [
        "# 랜덤 서치\n",
        "\n",
        "from sklearn.model_selection import RandomizedSearchCV\n",
        "\n",
        "rf_params = {\n",
        "    'n_estimators':range(100,251, 50),\n",
        "    'max_depth':range(5, 31, 5),\n",
        "    'min_samples_leaf':range(3,16,3),\n",
        "    'min_samples_split':range(3,16,3)\n",
        "}\n",
        "rf_rd = RandomizedSearchCV(randomforest_model, param_distributions=rf_params, n_iter=30, cv=5)\n",
        "rf_rd.fit(X_train, log_y_train)\n",
        "\n",
        "print(rf_rd.best_params_)"
      ],
      "metadata": {
        "colab": {
          "base_uri": "https://localhost:8080/"
        },
        "id": "PjxRC19Ii_Iz",
        "outputId": "e506ddbe-bfa4-4c65-b542-18b10c76fdcc"
      },
      "execution_count": 185,
      "outputs": [
        {
          "output_type": "stream",
          "name": "stdout",
          "text": [
            "{'n_estimators': 250, 'min_samples_split': 6, 'min_samples_leaf': 3, 'max_depth': 30}\n"
          ]
        }
      ]
    },
    {
      "cell_type": "code",
      "source": [
        "# 평가\n",
        "print(f'랜덤 포레스트 회귀 RMSLE 값 : {rmsle(log_y_tr_test, pred1, True):.4f}')\n",
        "print(f'랜덤 포레스트 회귀 RMSLE 값 : {rmsle(log_y_tr_test, pred2, True):.4f}')"
      ],
      "metadata": {
        "colab": {
          "base_uri": "https://localhost:8080/"
        },
        "id": "S2xk1HNFk5Ag",
        "outputId": "cc84f576-a18d-4051-cbba-9928403c0c16"
      },
      "execution_count": 105,
      "outputs": [
        {
          "output_type": "stream",
          "name": "stdout",
          "text": [
            "랜덤 포레스트 회귀 RMSLE 값 : 0.3089\n",
            "랜덤 포레스트 회귀 RMSLE 값 : 0.3074\n"
          ]
        }
      ]
    },
    {
      "cell_type": "code",
      "source": [
        "## 예측 및 결과 제출\n",
        "import seaborn as sns\n",
        "import matplotlib.pyplot as plt\n",
        "\n",
        "randomforest_preds = gridsearch_random_forest_model.best_estimator_.predict(X_test)\n",
        "\n",
        "figure, axes = plt.subplots(ncols=2)\n",
        "figure.set_size_inches(10, 4)\n",
        "\n",
        "sns.histplot(y, bins=50, ax=axes[0])\n",
        "axes[0].set_title('Train Data Distribution')\n",
        "sns.histplot(np.exp(randomforest_preds), bins=50, ax=axes[1])\n",
        "axes[1].set_title('Predicted Test Data Distribution');"
      ],
      "metadata": {
        "colab": {
          "base_uri": "https://localhost:8080/",
          "height": 307
        },
        "id": "iEiXCKBElOZP",
        "outputId": "f8d65ddb-1fec-435a-9734-7a366fac40db"
      },
      "execution_count": 47,
      "outputs": [
        {
          "output_type": "display_data",
          "data": {
            "text/plain": [
              "<Figure size 720x288 with 2 Axes>"
            ],
            "image/png": "[encoded data removed]"
          },
          "metadata": {
            "needs_background": "light"
          }
        }
      ]
    },
    {
      "cell_type": "code",
      "source": [
        "# temp 제거\n",
        "X_train_temp=X_train.drop('temp',axis=1)\n",
        "X_test_temp=X_test.drop('temp',axis=1)\n",
        "X_tr_test_temp=X_train.drop('temp',axis=1)\n",
        "\n",
        "from sklearn.ensemble import RandomForestRegressor\n",
        "randomforest_model = RandomForestRegressor()\n",
        "log_y_tr_test1 = np.log(y_tr_test)\n",
        "log_y_train=np.log(y_train)\n",
        "randomforest_model.fit(X_train_temp, log_y_train)\n",
        "pred1=randomforest_model.predict(X_tr_test_temp)"
      ],
      "metadata": {
        "id": "ZCHhOWtlUqc4"
      },
      "execution_count": 179,
      "outputs": []
    },
    {
      "cell_type": "code",
      "source": [
        "# atemp 제거\n",
        "X_train_atemp=X_train.drop('atemp',axis=1)\n",
        "X_test_atemp=X_test.drop('atemp',axis=1)\n",
        "X_tr_test_atemp=X_train.drop('atemp',axis=1)\n",
        "\n",
        "from sklearn.ensemble import RandomForestRegressor\n",
        "randomforest_model = RandomForestRegressor()\n",
        "log_y_tr_test2 = np.log(y_tr_test)\n",
        "log_y_train=np.log(y_train)\n",
        "randomforest_model.fit(X_train_atemp, log_y_train)\n",
        "pred2=randomforest_model.predict(X_tr_test_atemp)"
      ],
      "metadata": {
        "id": "rmWYptPzVaOY"
      },
      "execution_count": 180,
      "outputs": []
    },
    {
      "cell_type": "code",
      "source": [
        "# 평가\n",
        "print(f'랜덤 포레스트 회귀 RMSLE 값 : {rmsle(log_y_tr_test1, pred1, True):.4f}')\n",
        "print(f'랜덤 포레스트 회귀 RMSLE 값 : {rmsle(log_y_tr_test2, pred2, True):.4f}')"
      ],
      "metadata": {
        "colab": {
          "base_uri": "https://localhost:8080/",
          "height": 318
        },
        "id": "uPDE53ocU0ZI",
        "outputId": "3629c086-61ff-4a32-80b4-15bdb3bee193"
      },
      "execution_count": 181,
      "outputs": [
        {
          "output_type": "error",
          "ename": "ValueError",
          "evalue": "ignored",
          "traceback": [
            "\u001b[0;31m---------------------------------------------------------------------------\u001b[0m",
            "\u001b[0;31mValueError\u001b[0m                                Traceback (most recent call last)",
            "\u001b[0;32m<ipython-input-181-b75775dabf8e>\u001b[0m in \u001b[0;36m<module>\u001b[0;34m\u001b[0m\n\u001b[1;32m      1\u001b[0m \u001b[0;31m# 평가\u001b[0m\u001b[0;34m\u001b[0m\u001b[0;34m\u001b[0m\u001b[0;34m\u001b[0m\u001b[0m\n\u001b[0;32m----> 2\u001b[0;31m \u001b[0mprint\u001b[0m\u001b[0;34m(\u001b[0m\u001b[0;34mf'랜덤 포레스트 회귀 RMSLE 값 : {rmsle(log_y_tr_test1, pred1, True):.4f}'\u001b[0m\u001b[0;34m)\u001b[0m\u001b[0;34m\u001b[0m\u001b[0;34m\u001b[0m\u001b[0m\n\u001b[0m\u001b[1;32m      3\u001b[0m \u001b[0mprint\u001b[0m\u001b[0;34m(\u001b[0m\u001b[0;34mf'랜덤 포레스트 회귀 RMSLE 값 : {rmsle(log_y_tr_test2, pred2, True):.4f}'\u001b[0m\u001b[0;34m)\u001b[0m\u001b[0;34m\u001b[0m\u001b[0;34m\u001b[0m\u001b[0m\n",
            "\u001b[0;32m<ipython-input-33-220ebc4a0e70>\u001b[0m in \u001b[0;36mrmsle\u001b[0;34m(y_true, y_pred, convertExp)\u001b[0m\n\u001b[1;32m     12\u001b[0m \u001b[0;34m\u001b[0m\u001b[0m\n\u001b[1;32m     13\u001b[0m     \u001b[0;31m# RMSLE 계산\u001b[0m\u001b[0;34m\u001b[0m\u001b[0;34m\u001b[0m\u001b[0;34m\u001b[0m\u001b[0m\n\u001b[0;32m---> 14\u001b[0;31m     \u001b[0moutput\u001b[0m \u001b[0;34m=\u001b[0m \u001b[0mnp\u001b[0m\u001b[0;34m.\u001b[0m\u001b[0msqrt\u001b[0m\u001b[0;34m(\u001b[0m\u001b[0mnp\u001b[0m\u001b[0;34m.\u001b[0m\u001b[0mmean\u001b[0m\u001b[0;34m(\u001b[0m\u001b[0;34m(\u001b[0m\u001b[0mlog_true\u001b[0m \u001b[0;34m-\u001b[0m \u001b[0mlog_pred\u001b[0m\u001b[0;34m)\u001b[0m\u001b[0;34m**\u001b[0m\u001b[0;36m2\u001b[0m\u001b[0;34m)\u001b[0m\u001b[0;34m)\u001b[0m\u001b[0;34m\u001b[0m\u001b[0;34m\u001b[0m\u001b[0m\n\u001b[0m\u001b[1;32m     15\u001b[0m     \u001b[0;32mreturn\u001b[0m \u001b[0moutput\u001b[0m\u001b[0;34m\u001b[0m\u001b[0;34m\u001b[0m\u001b[0m\n",
            "\u001b[0;31mValueError\u001b[0m: operands could not be broadcast together with shapes (2177,) (8708,) "
          ]
        }
      ]
    },
    {
      "cell_type": "markdown",
      "source": [
        "#### 5-4. DecisionTreeRegressor"
      ],
      "metadata": {
        "id": "O2ONAdaTSnwa"
      }
    },
    {
      "cell_type": "code",
      "source": [
        "from sklearn.tree import DecisionTreeRegressor\n",
        "#모델 생성 및 훈련\n",
        "dt_reg=DecisionTreeRegressor(max_depth=7, random_state=156)\n",
        "dt_reg.fit(X_train, log_y_train)\n",
        "\n",
        "#예측값 구하기\n",
        "pred_dt=dt_reg.predict(X_tr_test)"
      ],
      "metadata": {
        "id": "8TvJY3grSnTN"
      },
      "execution_count": 158,
      "outputs": []
    },
    {
      "cell_type": "code",
      "source": [
        "# 평가\n",
        "print(f'결정트리 회귀 RMSLE 값 : {rmsle(log_y_tr_test, pred_dt, True):.4f}')"
      ],
      "metadata": {
        "colab": {
          "base_uri": "https://localhost:8080/"
        },
        "id": "-sIUKXAgXQ_a",
        "outputId": "c791b6b2-9a67-4b9c-af83-d4eb46f38997"
      },
      "execution_count": 159,
      "outputs": [
        {
          "output_type": "stream",
          "name": "stdout",
          "text": [
            "결정트리 회귀 RMSLE 값 : 0.5110\n"
          ]
        }
      ]
    },
    {
      "cell_type": "markdown",
      "source": [
        "#### 5-5. XGBoost"
      ],
      "metadata": {
        "id": "kBWQJCM4XaRB"
      }
    },
    {
      "cell_type": "code",
      "source": [
        "X_train_xgb=X_train.drop(['hour','year'],axis=1)\n",
        "X_tr_test_xgb=X_tr_test.drop(['hour','year'],axis=1)"
      ],
      "metadata": {
        "id": "ya_iV-HhYPhW"
      },
      "execution_count": 165,
      "outputs": []
    },
    {
      "cell_type": "code",
      "source": [
        "from xgboost import XGBRegressor\n",
        "xgb_reg=XGBRegressor(n_estimators=100, random_state=156)\n",
        "xgb_reg.fit(X_train_xgb, log_y_train)\n",
        "\n",
        "#예측값 구하기\n",
        "pred_xgb=xgb_reg.predict(X_tr_test_xgb)\n",
        "\n",
        "# 평가\n",
        "print(f'XGBoost 회귀 RMSLE 값 : {rmsle(log_y_tr_test, pred_xgb, True):.4f}')"
      ],
      "metadata": {
        "colab": {
          "base_uri": "https://localhost:8080/"
        },
        "id": "NTWZWrxMXeyO",
        "outputId": "95882fc1-8beb-44cc-a2bd-b017da4a69b3"
      },
      "execution_count": 167,
      "outputs": [
        {
          "output_type": "stream",
          "name": "stdout",
          "text": [
            "[12:53:12] WARNING: /workspace/src/objective/regression_obj.cu:152: reg:linear is now deprecated in favor of reg:squarederror.\n",
            "XGBoost 회귀 RMSLE 값 : 1.1682\n"
          ]
        }
      ]
    },
    {
      "cell_type": "code",
      "source": [
        "X_train.info()"
      ],
      "metadata": {
        "colab": {
          "base_uri": "https://localhost:8080/"
        },
        "id": "HabeMqv9YG6C",
        "outputId": "d802f8c7-6df6-4d05-a6d2-7911bb885716"
      },
      "execution_count": 162,
      "outputs": [
        {
          "output_type": "stream",
          "name": "stdout",
          "text": [
            "<class 'pandas.core.frame.DataFrame'>\n",
            "Int64Index: 8708 entries, 5215 to 7724\n",
            "Data columns (total 10 columns):\n",
            " #   Column      Non-Null Count  Dtype  \n",
            "---  ------      --------------  -----  \n",
            " 0   season      8708 non-null   int64  \n",
            " 1   holiday     8708 non-null   int64  \n",
            " 2   workingday  8708 non-null   int64  \n",
            " 3   weather     8708 non-null   int64  \n",
            " 4   temp        8708 non-null   float64\n",
            " 5   atemp       8708 non-null   float64\n",
            " 6   humidity    8708 non-null   int64  \n",
            " 7   year        8708 non-null   object \n",
            " 8   hour        8708 non-null   object \n",
            " 9   weekday     8708 non-null   int64  \n",
            "dtypes: float64(2), int64(6), object(2)\n",
            "memory usage: 748.3+ KB\n"
          ]
        }
      ]
    },
    {
      "cell_type": "markdown",
      "source": [
        "#### 5-6. GBM"
      ],
      "metadata": {
        "id": "QRuwwP17YzG6"
      }
    },
    {
      "cell_type": "code",
      "source": [
        "from sklearn.ensemble import GradientBoostingRegressor\n",
        "gbr = GradientBoostingRegressor(random_state=156)\n",
        "gbr.fit(X_train, log_y_train)\n",
        "pred_gbr = gbr.predict(X_tr_test)\n",
        "print(f'GBM 회귀 RMSLE 값 : {rmsle(log_y_tr_test, pred_gbr, True):.4f}')"
      ],
      "metadata": {
        "colab": {
          "base_uri": "https://localhost:8080/"
        },
        "id": "hCGl0IpzY5GD",
        "outputId": "1d8d0a89-556c-44c8-9b8d-9198c2c572fa"
      },
      "execution_count": 168,
      "outputs": [
        {
          "output_type": "stream",
          "name": "stdout",
          "text": [
            "GBM 회귀 RMSLE 값 : 0.3860\n"
          ]
        }
      ]
    },
    {
      "cell_type": "code",
      "source": [
        "gbr_params = {\n",
        "    'learning_rate' : [0.15,0.1,0.05,0.01],\n",
        "    'n_estimators' : [250,500,750],\n",
        "    'max_depth' : [2,3,4,5]\n",
        "    #'min_samples_split' : [0.3, 0.6, 0.9],\n",
        "    #'min_samples_leaf' : [0.2, 0.4, 0.5]\n",
        "}\n",
        "\n",
        "gbr_grid = GridSearchCV(gbr, param_grid = gbr_params, cv=3, verbose=1)\n",
        "gbr_grid.fit(X_train, log_y_train)\n",
        "\n",
        "print('GridSearchCV 최적 estimator:', gbr_grid.best_estimator_)\n",
        "print('GridSearchCV 최적 파라미터:', gbr_grid.best_params_)"
      ],
      "metadata": {
        "colab": {
          "base_uri": "https://localhost:8080/"
        },
        "id": "uU_w5_XbZMFx",
        "outputId": "8e6b30a0-a968-401e-e5f2-b31980129dad"
      },
      "execution_count": 176,
      "outputs": [
        {
          "output_type": "stream",
          "name": "stdout",
          "text": [
            "Fitting 3 folds for each of 48 candidates, totalling 144 fits\n",
            "GridSearchCV 최적 estimator: GradientBoostingRegressor(learning_rate=0.05, max_depth=5, n_estimators=750,\n",
            "                          random_state=156)\n",
            "GridSearchCV 최적 파라미터: {'learning_rate': 0.05, 'max_depth': 5, 'n_estimators': 750}\n"
          ]
        }
      ]
    },
    {
      "cell_type": "code",
      "source": [
        "gbr_best = GradientBoostingRegressor(random_state=156, learning_rate=0.05, max_depth=5, n_estimators=750)\n",
        "gbr_best.fit(X_train, log_y_train)\n",
        "gbr_best_pred = gbr_best.predict(X_tr_test)"
      ],
      "metadata": {
        "id": "SsrS68-0Zkw3"
      },
      "execution_count": 177,
      "outputs": []
    },
    {
      "cell_type": "code",
      "source": [
        "print(f'GBM 회귀 RMSLE 값 : {rmsle(log_y_tr_test, gbr_best_pred, True):.4f}')"
      ],
      "metadata": {
        "colab": {
          "base_uri": "https://localhost:8080/"
        },
        "id": "hJna3ewScj0W",
        "outputId": "7901826a-db3e-454f-e612-e512078aed91"
      },
      "execution_count": 178,
      "outputs": [
        {
          "output_type": "stream",
          "name": "stdout",
          "text": [
            "GBM 회귀 RMSLE 값 : 0.2888\n"
          ]
        }
      ]
    },
    {
      "cell_type": "markdown",
      "source": [
        "#### 5-7. LightGBM"
      ],
      "metadata": {
        "id": "qQsC_doeZf3n"
      }
    },
    {
      "cell_type": "code",
      "source": [
        "from lightgbm import LGBMRegressor\n",
        "lgbm_reg = LGBMRegressor(n_estimators=1000, random_state=156)\n",
        "evals = [(X_tr_test_xgb,log_y_tr_test)]\n",
        "lgbm_reg.fit(X_train_xgb, log_y_train,\n",
        "                 early_stopping_rounds=30, eval_metric=\"logloss\",\n",
        "                 verbose=True,eval_set=evals,)\n",
        "preds_lgbm= lgbm_reg.predict(X_tr_test_xgb)\n",
        "print(f'LightGBM 회귀 RMSLE 값 : {rmsle(log_y_tr_test, preds_lgbm, True):.4f}')"
      ],
      "metadata": {
        "colab": {
          "base_uri": "https://localhost:8080/"
        },
        "id": "fjIBG9iWZiIp",
        "outputId": "a4a0a58f-ac7a-437a-84eb-9236248da451"
      },
      "execution_count": 175,
      "outputs": [
        {
          "output_type": "stream",
          "name": "stdout",
          "text": [
            "[1]\tvalid_0's l2: 2.11252\n",
            "Training until validation scores don't improve for 30 rounds.\n",
            "[2]\tvalid_0's l2: 2.01278\n",
            "[3]\tvalid_0's l2: 1.92939\n",
            "[4]\tvalid_0's l2: 1.862\n",
            "[5]\tvalid_0's l2: 1.80591\n",
            "[6]\tvalid_0's l2: 1.75992\n",
            "[7]\tvalid_0's l2: 1.72243\n",
            "[8]\tvalid_0's l2: 1.68858\n",
            "[9]\tvalid_0's l2: 1.66152\n",
            "[10]\tvalid_0's l2: 1.6369\n",
            "[11]\tvalid_0's l2: 1.61589\n",
            "[12]\tvalid_0's l2: 1.59536\n",
            "[13]\tvalid_0's l2: 1.58072\n",
            "[14]\tvalid_0's l2: 1.56706\n",
            "[15]\tvalid_0's l2: 1.55625\n",
            "[16]\tvalid_0's l2: 1.54626\n",
            "[17]\tvalid_0's l2: 1.53906\n",
            "[18]\tvalid_0's l2: 1.53121\n",
            "[19]\tvalid_0's l2: 1.52578\n",
            "[20]\tvalid_0's l2: 1.51806\n",
            "[21]\tvalid_0's l2: 1.51414\n",
            "[22]\tvalid_0's l2: 1.50836\n",
            "[23]\tvalid_0's l2: 1.50691\n",
            "[24]\tvalid_0's l2: 1.5029\n",
            "[25]\tvalid_0's l2: 1.50098\n",
            "[26]\tvalid_0's l2: 1.49877\n",
            "[27]\tvalid_0's l2: 1.49628\n",
            "[28]\tvalid_0's l2: 1.49204\n",
            "[29]\tvalid_0's l2: 1.4893\n",
            "[30]\tvalid_0's l2: 1.48612\n",
            "[31]\tvalid_0's l2: 1.48276\n",
            "[32]\tvalid_0's l2: 1.48202\n",
            "[33]\tvalid_0's l2: 1.47965\n",
            "[34]\tvalid_0's l2: 1.47638\n",
            "[35]\tvalid_0's l2: 1.47539\n",
            "[36]\tvalid_0's l2: 1.47372\n",
            "[37]\tvalid_0's l2: 1.47017\n",
            "[38]\tvalid_0's l2: 1.46854\n",
            "[39]\tvalid_0's l2: 1.46768\n",
            "[40]\tvalid_0's l2: 1.46553\n",
            "[41]\tvalid_0's l2: 1.46288\n",
            "[42]\tvalid_0's l2: 1.46291\n",
            "[43]\tvalid_0's l2: 1.46213\n",
            "[44]\tvalid_0's l2: 1.46117\n",
            "[45]\tvalid_0's l2: 1.4599\n",
            "[46]\tvalid_0's l2: 1.46018\n",
            "[47]\tvalid_0's l2: 1.45807\n",
            "[48]\tvalid_0's l2: 1.45928\n",
            "[49]\tvalid_0's l2: 1.45915\n",
            "[50]\tvalid_0's l2: 1.45865\n",
            "[51]\tvalid_0's l2: 1.45804\n",
            "[52]\tvalid_0's l2: 1.4563\n",
            "[53]\tvalid_0's l2: 1.45715\n",
            "[54]\tvalid_0's l2: 1.45482\n",
            "[55]\tvalid_0's l2: 1.45435\n",
            "[56]\tvalid_0's l2: 1.45425\n",
            "[57]\tvalid_0's l2: 1.45459\n",
            "[58]\tvalid_0's l2: 1.45411\n",
            "[59]\tvalid_0's l2: 1.45493\n",
            "[60]\tvalid_0's l2: 1.45412\n",
            "[61]\tvalid_0's l2: 1.45417\n",
            "[62]\tvalid_0's l2: 1.45395\n",
            "[63]\tvalid_0's l2: 1.45314\n",
            "[64]\tvalid_0's l2: 1.45314\n",
            "[65]\tvalid_0's l2: 1.45293\n",
            "[66]\tvalid_0's l2: 1.45289\n",
            "[67]\tvalid_0's l2: 1.45227\n",
            "[68]\tvalid_0's l2: 1.45184\n",
            "[69]\tvalid_0's l2: 1.45178\n",
            "[70]\tvalid_0's l2: 1.45021\n",
            "[71]\tvalid_0's l2: 1.4497\n",
            "[72]\tvalid_0's l2: 1.44948\n",
            "[73]\tvalid_0's l2: 1.44917\n",
            "[74]\tvalid_0's l2: 1.44908\n",
            "[75]\tvalid_0's l2: 1.44797\n",
            "[76]\tvalid_0's l2: 1.44778\n",
            "[77]\tvalid_0's l2: 1.44764\n",
            "[78]\tvalid_0's l2: 1.4479\n",
            "[79]\tvalid_0's l2: 1.44724\n",
            "[80]\tvalid_0's l2: 1.44758\n",
            "[81]\tvalid_0's l2: 1.44786\n",
            "[82]\tvalid_0's l2: 1.44755\n",
            "[83]\tvalid_0's l2: 1.4472\n",
            "[84]\tvalid_0's l2: 1.44665\n",
            "[85]\tvalid_0's l2: 1.44671\n",
            "[86]\tvalid_0's l2: 1.44624\n",
            "[87]\tvalid_0's l2: 1.44568\n",
            "[88]\tvalid_0's l2: 1.4455\n",
            "[89]\tvalid_0's l2: 1.44526\n",
            "[90]\tvalid_0's l2: 1.44443\n",
            "[91]\tvalid_0's l2: 1.44416\n",
            "[92]\tvalid_0's l2: 1.44294\n",
            "[93]\tvalid_0's l2: 1.44324\n",
            "[94]\tvalid_0's l2: 1.4425\n",
            "[95]\tvalid_0's l2: 1.44249\n",
            "[96]\tvalid_0's l2: 1.4421\n",
            "[97]\tvalid_0's l2: 1.44261\n",
            "[98]\tvalid_0's l2: 1.44309\n",
            "[99]\tvalid_0's l2: 1.44278\n",
            "[100]\tvalid_0's l2: 1.44373\n",
            "[101]\tvalid_0's l2: 1.44306\n",
            "[102]\tvalid_0's l2: 1.44275\n",
            "[103]\tvalid_0's l2: 1.44303\n",
            "[104]\tvalid_0's l2: 1.44358\n",
            "[105]\tvalid_0's l2: 1.44392\n",
            "[106]\tvalid_0's l2: 1.4445\n",
            "[107]\tvalid_0's l2: 1.44453\n",
            "[108]\tvalid_0's l2: 1.44455\n",
            "[109]\tvalid_0's l2: 1.44488\n",
            "[110]\tvalid_0's l2: 1.44382\n",
            "[111]\tvalid_0's l2: 1.44419\n",
            "[112]\tvalid_0's l2: 1.44373\n",
            "[113]\tvalid_0's l2: 1.44349\n",
            "[114]\tvalid_0's l2: 1.44329\n",
            "[115]\tvalid_0's l2: 1.44335\n",
            "[116]\tvalid_0's l2: 1.44268\n",
            "[117]\tvalid_0's l2: 1.4422\n",
            "[118]\tvalid_0's l2: 1.44249\n",
            "[119]\tvalid_0's l2: 1.44243\n",
            "[120]\tvalid_0's l2: 1.44321\n",
            "[121]\tvalid_0's l2: 1.44344\n",
            "[122]\tvalid_0's l2: 1.44331\n",
            "[123]\tvalid_0's l2: 1.44324\n",
            "[124]\tvalid_0's l2: 1.44324\n",
            "[125]\tvalid_0's l2: 1.44279\n",
            "[126]\tvalid_0's l2: 1.44248\n",
            "Early stopping, best iteration is:\n",
            "[96]\tvalid_0's l2: 1.4421\n",
            "LightGBM 회귀 RMSLE 값 : 1.1415\n"
          ]
        }
      ]
    }
  ]
}
