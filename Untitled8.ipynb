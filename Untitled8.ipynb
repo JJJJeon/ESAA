{
  "nbformat": 4,
  "nbformat_minor": 0,
  "metadata": {
    "colab": {
      "provenance": [],
      "authorship_tag": "ABX9TyMUnPVvrHyq3hsjA3/Jk3Jl",
      "include_colab_link": true
    },
    "kernelspec": {
      "name": "python3",
      "display_name": "Python 3"
    },
    "language_info": {
      "name": "python"
    }
  },
  "cells": [
    {
      "cell_type": "markdown",
      "metadata": {
        "id": "view-in-github",
        "colab_type": "text"
      },
      "source": [
        "<a href=\"https://colab.research.google.com/github/JJJJeon/ESAA/blob/main/Untitled8.ipynb\" target=\"_parent\"><img src=\"https://colab.research.google.com/assets/colab-badge.svg\" alt=\"Open In Colab\"/></a>"
      ]
    },
    {
      "cell_type": "markdown",
      "source": [
        "## 데이터 시각화가 필요한 이유\n",
        "\n",
        "앤스콤이 지적한 함정: 수칫값, 상관관계, 회귀선이 같아도 데이터가 모두 같진 않음. 시각화해서 봐야함."
      ],
      "metadata": {
        "id": "pK9vkQ6jtcgB"
      }
    },
    {
      "cell_type": "code",
      "source": [
        "import seaborn as sns\n",
        "\n",
        "anscombe=sns.load_dataset(\"anscombe\")\n",
        "print(anscombe)\n",
        "print(type(anscombe))"
      ],
      "metadata": {
        "colab": {
          "base_uri": "https://localhost:8080/"
        },
        "id": "F3Bubnc5aNsF",
        "outputId": "d8d41291-4923-4b47-d6ca-4ab5bb6700ed"
      },
      "execution_count": 1,
      "outputs": [
        {
          "output_type": "stream",
          "name": "stdout",
          "text": [
            "   dataset     x      y\n",
            "0        I  10.0   8.04\n",
            "1        I   8.0   6.95\n",
            "2        I  13.0   7.58\n",
            "3        I   9.0   8.81\n",
            "4        I  11.0   8.33\n",
            "5        I  14.0   9.96\n",
            "6        I   6.0   7.24\n",
            "7        I   4.0   4.26\n",
            "8        I  12.0  10.84\n",
            "9        I   7.0   4.82\n",
            "10       I   5.0   5.68\n",
            "11      II  10.0   9.14\n",
            "12      II   8.0   8.14\n",
            "13      II  13.0   8.74\n",
            "14      II   9.0   8.77\n",
            "15      II  11.0   9.26\n",
            "16      II  14.0   8.10\n",
            "17      II   6.0   6.13\n",
            "18      II   4.0   3.10\n",
            "19      II  12.0   9.13\n",
            "20      II   7.0   7.26\n",
            "21      II   5.0   4.74\n",
            "22     III  10.0   7.46\n",
            "23     III   8.0   6.77\n",
            "24     III  13.0  12.74\n",
            "25     III   9.0   7.11\n",
            "26     III  11.0   7.81\n",
            "27     III  14.0   8.84\n",
            "28     III   6.0   6.08\n",
            "29     III   4.0   5.39\n",
            "30     III  12.0   8.15\n",
            "31     III   7.0   6.42\n",
            "32     III   5.0   5.73\n",
            "33      IV   8.0   6.58\n",
            "34      IV   8.0   5.76\n",
            "35      IV   8.0   7.71\n",
            "36      IV   8.0   8.84\n",
            "37      IV   8.0   8.47\n",
            "38      IV   8.0   7.04\n",
            "39      IV   8.0   5.25\n",
            "40      IV  19.0  12.50\n",
            "41      IV   8.0   5.56\n",
            "42      IV   8.0   7.91\n",
            "43      IV   8.0   6.89\n",
            "<class 'pandas.core.frame.DataFrame'>\n"
          ]
        }
      ]
    },
    {
      "cell_type": "code",
      "source": [
        "import matplotlib.pyplot as plt\n",
        "dataset_1=anscombe[anscombe['dataset']=='I'] #첫번째 데이터 그룹 추출\n",
        "plt.plot(dataset_1['x'],dataset_1['y'])"
      ],
      "metadata": {
        "colab": {
          "base_uri": "https://localhost:8080/",
          "height": 35
        },
        "id": "6Ae65Hj9aNof",
        "outputId": "7076a749-bb0c-4772-b580-363a33f492b0"
      },
      "execution_count": 9,
      "outputs": [
        {
          "output_type": "execute_result",
          "data": {
            "text/plain": [
              "[<matplotlib.lines.Line2D at 0x7f1489b66390>]"
            ]
          },
          "metadata": {},
          "execution_count": 9
        }
      ]
    },
    {
      "cell_type": "code",
      "source": [
        "plt.plot(dataset_1['x'],dataset_1['y'])"
      ],
      "metadata": {
        "colab": {
          "base_uri": "https://localhost:8080/",
          "height": 35
        },
        "id": "7Pppeck4uYx3",
        "outputId": "96012c88-7083-4fa2-eb3e-96566bf3b6ce"
      },
      "execution_count": 7,
      "outputs": [
        {
          "output_type": "execute_result",
          "data": {
            "text/plain": [
              "[<matplotlib.lines.Line2D at 0x7f1489c171d0>]"
            ]
          },
          "metadata": {},
          "execution_count": 7
        }
      ]
    },
    {
      "cell_type": "code",
      "source": [
        "plt.plot(dataset_1['x'],dataset_1['y'],'o')"
      ],
      "metadata": {
        "colab": {
          "base_uri": "https://localhost:8080/",
          "height": 35
        },
        "id": "HlnBXehgaNmB",
        "outputId": "155cb85b-73a2-4ba8-db23-6cb3b8ea466d"
      },
      "execution_count": 6,
      "outputs": [
        {
          "output_type": "execute_result",
          "data": {
            "text/plain": [
              "[<matplotlib.lines.Line2D at 0x7f1489b6ca10>]"
            ]
          },
          "metadata": {},
          "execution_count": 6
        }
      ]
    },
    {
      "cell_type": "code",
      "source": [
        "dataset_2=anscombe[anscombe['dataset']=='II']\n",
        "dataset_2=anscombe[anscombe['dataset']=='III']\n",
        "dataset_2=anscombe[anscombe['dataset']=='IV']\n",
        "fig=plt.figure()"
      ],
      "metadata": {
        "id": "wbKwjYQkaNj1"
      },
      "execution_count": null,
      "outputs": []
    },
    {
      "cell_type": "code",
      "source": [
        "axes1=fig.add_subplot(2,2,1)\n",
        "axes2=fig.add_subplot(2,2,2)\n",
        "axes3=fig.add_subplot(2,2,3)\n",
        "axes4=fig.add_subplot(2,2,4)"
      ],
      "metadata": {
        "id": "m961teFIaNhS"
      },
      "execution_count": null,
      "outputs": []
    },
    {
      "cell_type": "code",
      "source": [
        "axes1.plot(dataset_1['x'],dataset_1['y'],'o')\n",
        "axes1.plot(dataset_2['x'],dataset_2['y'],'o')\n",
        "axes1.plot(dataset_3['x'],dataset_3['y'],'o')\n",
        "axes1.plot(dataset_4['x'],dataset_4['y'],'o')"
      ],
      "metadata": {
        "id": "rqfN5UX-aNex"
      },
      "execution_count": null,
      "outputs": []
    },
    {
      "cell_type": "code",
      "source": [
        "axes1.set_title(\"dataset_1\")\n",
        "axes2.set_title(\"dataset_2\")\n",
        "axes3.set_title(\"dataset_3\")\n",
        "axes4.set_title(\"dataset_4\")"
      ],
      "metadata": {
        "id": "1T6dfhmbaNcW"
      },
      "execution_count": null,
      "outputs": []
    },
    {
      "cell_type": "code",
      "source": [
        "fig.subtitle('Anscombe Data')\n",
        "fig"
      ],
      "metadata": {
        "id": "wqdYqkJcaNZv"
      },
      "execution_count": null,
      "outputs": []
    },
    {
      "cell_type": "code",
      "source": [
        "fig.tight_layout()\n",
        "fig"
      ],
      "metadata": {
        "id": "i4GXA5fwaNXZ"
      },
      "execution_count": null,
      "outputs": []
    },
    {
      "cell_type": "code",
      "source": [
        "tips=sns.load_dataset(\"tips\")\n",
        "print(tips.head())\n",
        "print(type(tips))"
      ],
      "metadata": {
        "id": "RDI0R2t9aNUz"
      },
      "execution_count": null,
      "outputs": []
    },
    {
      "cell_type": "code",
      "source": [
        "fig=plt.figure()\n",
        "axes1=fig.add_subplot(1,1,1)"
      ],
      "metadata": {
        "id": "u1QVL_K2aNSo"
      },
      "execution_count": null,
      "outputs": []
    },
    {
      "cell_type": "code",
      "source": [
        "axes1.hist(tips['total_bill'],bins=10)\n",
        "axes1.set_title(\"Histogram of Total Bill\")\n",
        "axes1.set_xlabel('Frequency')\n",
        "axes1.set_ylabel(\"Total Bill\")\n",
        "\n",
        "fig"
      ],
      "metadata": {
        "id": "eznanfKWaNQH"
      },
      "execution_count": null,
      "outputs": []
    },
    {
      "cell_type": "code",
      "source": [
        "scatter_plot=plt.figure()\n",
        "axes1=scatter_plot.add_subplot(1,1,1)\n",
        "axes1.scatter(tips['total_bill'],tips['tip'])\n",
        "axes1.set_title('Scatterplot of Total Bill vs Tip')\n",
        "axes1.set_xlabel('Total Bill')\n",
        "axes1.set_ylabel('Tip')"
      ],
      "metadata": {
        "id": "PybWE4pVaNNv"
      },
      "execution_count": null,
      "outputs": []
    },
    {
      "cell_type": "code",
      "source": [
        "boxplot=plt.figure()\n",
        "axes1=boxplot.add_subplot(1,1,1)\n",
        "\n",
        "axes1.boxplot([tips[tips['sex']=='Female']['tip'],\n",
        "               tips[tips['sex']=='Male']['tip']],\n",
        "              labels=['Female','Male'])\n",
        "\n",
        "axes1.set_xlabel('Sex')\n",
        "axes1.set_ylabel('Tip')\n",
        "axes1.set_title('Boxplot of Tips by Sex')"
      ],
      "metadata": {
        "id": "og9iOoyNaNLQ"
      },
      "execution_count": null,
      "outputs": []
    },
    {
      "cell_type": "code",
      "source": [
        "def recode_sex(sex):\n",
        "  if sex == 'Female':\n",
        "    return 0\n",
        "  else:\n",
        "    return 1"
      ],
      "metadata": {
        "id": "grDy2CQ-aNIv"
      },
      "execution_count": null,
      "outputs": []
    },
    {
      "cell_type": "code",
      "source": [
        "tips['sex_color']=tips['sex'].apply(recode_sex)"
      ],
      "metadata": {
        "id": "XCl21UXBaNGa"
      },
      "execution_count": null,
      "outputs": []
    },
    {
      "cell_type": "code",
      "source": [
        "scatter_plot=plt.figure()\n",
        "axes1=scatter_plot.add_subplot(1,1,1)\n",
        "axes1.scatter(\n",
        "    x=tips['total_bill'],\n",
        "    y=tips['tip'],\n",
        "    s=tips['size']*10,\n",
        "    c=tips['sex_color'],\n",
        "    alpha=0.5)\n",
        "axes1.set_title('Total Bill vs Tip Colored by Sex and Sized by Size')\n",
        "axes1.set_xlabel('Total Bill')\n",
        "axes1.set_ylabel('Tip')"
      ],
      "metadata": {
        "id": "m4usW-LXaNEA"
      },
      "execution_count": null,
      "outputs": []
    },
    {
      "cell_type": "code",
      "source": [
        "import seaborn as sns\n",
        "\n",
        "tips=sns.load_dataset('tips')\n",
        "ax=plt.subplots()\n",
        "ax=sns.distplot(tips['total_bill'])\n",
        "ax.set_title('Total Bill Histogram with Density Plot')"
      ],
      "metadata": {
        "id": "-O9XKzI3aNBk"
      },
      "execution_count": null,
      "outputs": []
    },
    {
      "cell_type": "code",
      "source": [
        "ax=plt.subplots()\n",
        "ax=sns.distplot(tips['total_bill'],kde=Female)\n",
        "ax.set_title('Total Bill Histogram')\n",
        "ax.set_xlabel('Total Bill')\n",
        "ax.set_ylabel('Frequency')"
      ],
      "metadata": {
        "id": "f4rc34iAaM_D"
      },
      "execution_count": null,
      "outputs": []
    },
    {
      "cell_type": "code",
      "source": [
        "ax=plt.subplots()\n",
        "ax=sns.distplot(tips['total_bill'],hist=False)\n",
        "ax.set_title('Total Bill Density')\n",
        "ax.set_xlabel('Total Bill')\n",
        "ax.set_ylabel('Unit Probability')"
      ],
      "metadata": {
        "id": "cSX4uTxpaM8m"
      },
      "execution_count": null,
      "outputs": []
    },
    {
      "cell_type": "code",
      "source": [
        "ax=plt.subplots()\n",
        "ax=sns.distplot(tips['total_bill'],rug=True)\n",
        "ax.set_title('Total Bill Histogram with Density and Rug plot')\n",
        "ax.set_xlabel('Total Bill')"
      ],
      "metadata": {
        "id": "17wUQmQvaM6R"
      },
      "execution_count": null,
      "outputs": []
    },
    {
      "cell_type": "code",
      "source": [
        "ax=plt.subplots()\n",
        "ax=sns.countplot('day',data=tips)\n",
        "ax.set_title('Cound of days')\n",
        "ax.set_xlabel('Day of the Week')\n",
        "ax.set_ylabel('Frequency')"
      ],
      "metadata": {
        "id": "4KN8SN4_aM3-"
      },
      "execution_count": null,
      "outputs": []
    },
    {
      "cell_type": "code",
      "source": [
        "ax=plt.subplots()\n",
        "ax=sns.regplot(x='total_bill',y='tip',data=tips)\n",
        "ax.set_title('Scatterplot of Total Bill and Tip')\n",
        "ax.set_xlabel('Total Bill')\n",
        "ax.set_ylabel('Tip')"
      ],
      "metadata": {
        "id": "QzVHT6J3aM1d"
      },
      "execution_count": null,
      "outputs": []
    },
    {
      "cell_type": "code",
      "source": [
        "ax=plt.subplots()\n",
        "ax=sns.regplot(x='total_bill',y='tip',data=tips, fit_reg=False)\n",
        "ax.set_title('Scatterplot of Total Bill and Tip')\n",
        "ax.set_xlabel('Total Bill')\n",
        "ax.set_ylabel('Tip')"
      ],
      "metadata": {
        "id": "3WScPu-9aMzr"
      },
      "execution_count": null,
      "outputs": []
    },
    {
      "cell_type": "code",
      "source": [
        "joint=sns.jointplot(x='total_bill',y='tip',data=tips)\n",
        "joint.set_axis_labels(xlabel='Total Bill',ylabel='Tip')\n",
        "joint.fig.suptitle('Joint Plot of Total Bill and Tip',fontsize=10,y=1.03)"
      ],
      "metadata": {
        "id": "rMpZa1QNaMxY"
      },
      "execution_count": null,
      "outputs": []
    },
    {
      "cell_type": "code",
      "source": [
        "hexbin=sns.jointplot(x='total_bill',y='tip',data=tips,kind='hex')\n",
        "hexbin.set_axis_labels(xlabel='Total Bill',ylabel='Tip')\n",
        "hexbin.fig.suptitle('Hexbin Joint Plot of Total Bill and Tip',fontsize=10,y=1.03)"
      ],
      "metadata": {
        "id": "S-G_d766aMvn"
      },
      "execution_count": null,
      "outputs": []
    },
    {
      "cell_type": "code",
      "source": [
        "ax=plt.subplots()\n",
        "ax=sns.kdeplot(data=tips['total_bill'],\n",
        "               data2=tips['tip'],\n",
        "               shade=True)\n",
        "ax.set_title('Kernel Density Plot of Total Bill and Tip')\n",
        "ax.set_xlabel('Total Bill')\n",
        "ax.set_ylabel('Tip')"
      ],
      "metadata": {
        "id": "fbPOaIt4aMtV"
      },
      "execution_count": null,
      "outputs": []
    },
    {
      "cell_type": "code",
      "source": [
        "ax=plt.subplots()\n",
        "ax=sns.barplot(x='time',y='total_bill',data=tips)\n",
        "ax.set_title('Bar plot of average total bill for time of day')\n",
        "ax.set_xlabel('Time of day')\n",
        "ax.set_ylabel('Average total bill')"
      ],
      "metadata": {
        "id": "_EzcIsJfaMr5"
      },
      "execution_count": null,
      "outputs": []
    },
    {
      "cell_type": "code",
      "source": [
        "ax=plt.subplots()\n",
        "ax=sns.boxplot(x='time',y='total_bill',data=tips)\n",
        "ax.set_title('Boxplot of total bill by time of day')\n",
        "ax.set_xlabel('Time of day')\n",
        "ax.set_ylabel('Total bill')"
      ],
      "metadata": {
        "id": "jCMlLJ8daMnQ"
      },
      "execution_count": null,
      "outputs": []
    },
    {
      "cell_type": "code",
      "source": [
        "ax=plt.subplots()\n",
        "ax=sns.violinplot(x='time',y='total_bill',data=tips)\n",
        "ax.set_title('Violin plot of total bill by time of day')\n",
        "ax.set_xlabel('Time of day')\n",
        "ax.set_ylabel('Total bill')"
      ],
      "metadata": {
        "id": "KpRWUZC_j4kp"
      },
      "execution_count": null,
      "outputs": []
    },
    {
      "cell_type": "code",
      "source": [
        "fig=sns.pairplot(tips)"
      ],
      "metadata": {
        "id": "SG62UVSMj4hI"
      },
      "execution_count": null,
      "outputs": []
    },
    {
      "cell_type": "code",
      "source": [
        "pair_grid=sns.PairGrid(tips)\n",
        "pair_grid=pair_grid.map_upper(sns.regplot)\n",
        "pair_grid=pair_grid.map_lower(sns.kdeplot)\n",
        "pair_grid=pair_grid.map_diag(sns.distplot,rug=True)\n",
        "plt.show()"
      ],
      "metadata": {
        "id": "iSXkkVTVj4e4"
      },
      "execution_count": null,
      "outputs": []
    },
    {
      "cell_type": "code",
      "source": [
        "ax=plt.subplots()\n",
        "ax=sns.viloinplot(x='time',y='total_bill',hue='sex',data=tips,split=True)"
      ],
      "metadata": {
        "id": "Atl0FQkTj4cf"
      },
      "execution_count": null,
      "outputs": []
    },
    {
      "cell_type": "code",
      "source": [
        "scatter=sns.lmplot(x='total_bill',y='tip',data=tips,hue='sex',fit_reg=False)"
      ],
      "metadata": {
        "id": "96pKQV20j4a_"
      },
      "execution_count": null,
      "outputs": []
    },
    {
      "cell_type": "code",
      "source": [
        "fig=sns.pairplot(tips,hue='sex')"
      ],
      "metadata": {
        "id": "YJ19tArFj4Y0"
      },
      "execution_count": null,
      "outputs": []
    },
    {
      "cell_type": "code",
      "source": [
        "scatter=sns.lmplot(x='total_bill',y='tip',data=tips,fit_reg=False, hue='sex',\n",
        "                   scatter_kws={'s':tips['size']*10})"
      ],
      "metadata": {
        "id": "4cM7XL6Sj4Wa"
      },
      "execution_count": null,
      "outputs": []
    },
    {
      "cell_type": "code",
      "source": [
        "scatter=sns.lmplot(x='total_bill',y='tip',data=tips,fit_reg=False,hue='sex',\n",
        "                   markers=['o','x'],scatter_kws={'s':tips['size']*10})"
      ],
      "metadata": {
        "id": "VP91CZtSlBHl"
      },
      "execution_count": null,
      "outputs": []
    },
    {
      "cell_type": "code",
      "source": [
        "anscombe_plot=sns.lmplot(x='x',y='y',data=anscombe,fit_reg=False)"
      ],
      "metadata": {
        "id": "-ntB5ChLlBFl"
      },
      "execution_count": null,
      "outputs": []
    },
    {
      "cell_type": "code",
      "source": [
        "anscombe_plot=sns.lmplot(x='x',y='y',data=anscombe,fit_reg=False,\n",
        "                         col='dataset',col_wrap=2)"
      ],
      "metadata": {
        "id": "Om96CZF-lBDI"
      },
      "execution_count": null,
      "outputs": []
    },
    {
      "cell_type": "code",
      "source": [
        "ax=plt.subplots()\n",
        "ax=tips['total_bill'].plot.hist()"
      ],
      "metadata": {
        "id": "EzyZepJclBBc"
      },
      "execution_count": null,
      "outputs": []
    },
    {
      "cell_type": "code",
      "source": [
        "fig,ax=plt.subplots()\n",
        "ax=tips[['total_bill','tip']].plot.hist(alpha=0.5,bins=20,ax=ax)"
      ],
      "metadata": {
        "id": "cDSnZ-j0lA9c"
      },
      "execution_count": null,
      "outputs": []
    },
    {
      "cell_type": "code",
      "source": [
        "ax=plt.subplots()\n",
        "ax=tips['tip'].plot.kde()"
      ],
      "metadata": {
        "id": "UgVroqTtj4Un"
      },
      "execution_count": null,
      "outputs": []
    },
    {
      "cell_type": "code",
      "source": [
        "fig,ax=plt.subplots()\n",
        "ax=tips.plot.scatter(x='total_bill',y='tip',ax=ax)"
      ],
      "metadata": {
        "id": "NdX-aR2Fj4Rd"
      },
      "execution_count": null,
      "outputs": []
    },
    {
      "cell_type": "code",
      "source": [
        "fig,ax=plt.subplots()\n",
        "ax=tips.plot.hexbin(x='total_bill',y='tip',ax=ax)"
      ],
      "metadata": {
        "id": "uSxH7DZuq1D5"
      },
      "execution_count": null,
      "outputs": []
    },
    {
      "cell_type": "code",
      "source": [
        "fig,ax=plt.subplots()\n",
        "ax=tips.plot.hexbin(x='total_bill',y='tip',gridsize=10,ax=ax)"
      ],
      "metadata": {
        "id": "GI4JUwmDq1Bu"
      },
      "execution_count": null,
      "outputs": []
    },
    {
      "cell_type": "code",
      "source": [
        "fig,ax=plt.subplots()\n",
        "ax=tips.plot.box(ax=ax)"
      ],
      "metadata": {
        "id": "g5NO8yUrq0-Z"
      },
      "execution_count": null,
      "outputs": []
    },
    {
      "cell_type": "code",
      "execution_count": null,
      "metadata": {
        "id": "qzEKEpcuZEyO"
      },
      "outputs": [],
      "source": [
        "fig,ax=plt.subplots()\n",
        "ax=sns.violinplot(x='time',y='total_bill',hue='sex',data=tips,split=True)"
      ]
    },
    {
      "cell_type": "code",
      "source": [
        "sns.set_style('whitegrid')\n",
        "fig,ax=plt.subplots()\n",
        "ax=sns.violinplot(x='time',y='total_bill',hue='sex',data=tips,split=True)"
      ],
      "metadata": {
        "id": "m8NemJ0ora4h"
      },
      "execution_count": null,
      "outputs": []
    },
    {
      "cell_type": "code",
      "source": [
        "fig=plt.figure()\n",
        "\n",
        "seaborn_styles=['darkgrid','whitegrid','dark','white','ticks']\n",
        "\n",
        "for idx, style in enumerate(seaborn_styles):\n",
        "  plot_position=idx+1\n",
        "  with sns.axes_style(style):\n",
        "    ax=fig.add_subplot(2,3,plot_position)\n",
        "    violin=sns.violinplot(x='time',y='total_bill',data=tips,ax=ax)\n",
        "    violin.set_title(style)\n",
        "\n",
        "fig.tight_layout()"
      ],
      "metadata": {
        "id": "tl1YxG7erazV"
      },
      "execution_count": null,
      "outputs": []
    }
  ]
}