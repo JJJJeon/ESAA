{
  "cells": [
    {
      "cell_type": "markdown",
      "metadata": {
        "id": "view-in-github",
        "colab_type": "text"
      },
      "source": [
        "<a href=\"https://colab.research.google.com/github/JJJJeon/ESAA/blob/main/2%EC%A3%BC%EC%B0%A8.ipynb\" target=\"_parent\"><img src=\"https://colab.research.google.com/assets/colab-badge.svg\" alt=\"Open In Colab\"/></a>"
      ]
    },
    {
      "cell_type": "markdown",
      "id": "bee3fb88",
      "metadata": {
        "id": "bee3fb88"
      },
      "source": [
        "## 03. 넘파이"
      ]
    },
    {
      "cell_type": "markdown",
      "source": [
        "* 선형대수 기반의 프로그램을 쉽게 만들 수 있도록 지원하는 대표적인 패키지\n",
        "* 빠른 배열 연산 속도 보장\n",
        "* 저수준 언어 기반의 호환 API 제공\n",
        "* 다양한 데이터 핸들링 기능 제공\n"
      ],
      "metadata": {
        "id": "47WBLNtlZhZO"
      },
      "id": "47WBLNtlZhZO"
    },
    {
      "cell_type": "markdown",
      "source": [
        "### 넘파이 ndarray 개요\n",
        "array(): 파이썬의 리스트와 같은 다양한 인자를 입력 받아서 ndarray로 변환하는 기능 수행"
      ],
      "metadata": {
        "id": "kQWDWecXbm0G"
      },
      "id": "kQWDWecXbm0G"
    },
    {
      "cell_type": "code",
      "source": [
        "import numpy as np\n",
        "array1=np.array([1,2,3])\n",
        "print('array1 type:',type(array1))\n",
        "print('array1 array 형태:',array1.shape)\n",
        "\n",
        "array2=np.array([[1,2,3],\n",
        "                [2,3,4]])\n",
        "print('array2 type:',type(array2))\n",
        "print('array2 array 형태:',array2.shape)\n",
        "\n",
        "array3=np.array([[1,2,3]])\n",
        "print('array3 type:',type(array3))\n",
        "print('array3 array 형태:',array3.shape)"
      ],
      "metadata": {
        "colab": {
          "base_uri": "https://localhost:8080/"
        },
        "id": "cps86rmyaQoJ",
        "outputId": "abbd128b-1e81-4756-a107-4f8fcf05876d"
      },
      "id": "cps86rmyaQoJ",
      "execution_count": 1,
      "outputs": [
        {
          "output_type": "stream",
          "name": "stdout",
          "text": [
            "array1 type: <class 'numpy.ndarray'>\n",
            "array1 array 형태: (3,)\n",
            "array2 type: <class 'numpy.ndarray'>\n",
            "array2 array 형태: (2, 3)\n",
            "array3 type: <class 'numpy.ndarray'>\n",
            "array3 array 형태: (1, 3)\n"
          ]
        }
      ]
    },
    {
      "cell_type": "code",
      "source": [
        "print('array1: {:0}차원, array2: {:1}차원, array3: {:2}차원'.format(array1.ndim,array2.ndim,array3.ndim))"
      ],
      "metadata": {
        "colab": {
          "base_uri": "https://localhost:8080/"
        },
        "id": "67RS6d8ScZxY",
        "outputId": "4d74a6af-eded-4e38-e6a1-b3747d8cd49a"
      },
      "id": "67RS6d8ScZxY",
      "execution_count": 2,
      "outputs": [
        {
          "output_type": "stream",
          "name": "stdout",
          "text": [
            "array1: 1차원, array2: 2차원, array3:  2차원\n"
          ]
        }
      ]
    },
    {
      "cell_type": "markdown",
      "source": [
        "### ndarray의 데이터 타입\n",
        "ndarray내의 데이터값: 숫자 값, 문자열 값, 불 값 등 모두 가능\n",
        "\n",
        "ndarray내의 데이터 타입은 같은 데이터 타입만 가능(dtype으로 확인)\n",
        "\n",
        "다른 데이터 유형이 섞여있는 리스트 ndarray로 변경하면 데이터 크기가 더 큰 데이터 타입으로 형 변환 일괄 적용"
      ],
      "metadata": {
        "id": "Jsmiw1yNdmbL"
      },
      "id": "Jsmiw1yNdmbL"
    },
    {
      "cell_type": "code",
      "source": [
        "list1=[1,2,3]\n",
        "print(type(list1))\n",
        "array1=np.array(list1)\n",
        "print(type(array1))\n",
        "print(array1,array1.dtype)"
      ],
      "metadata": {
        "colab": {
          "base_uri": "https://localhost:8080/"
        },
        "id": "rgBCa1tUc6GR",
        "outputId": "f6040577-7b54-4e1a-8778-afd65b9b1c6a"
      },
      "id": "rgBCa1tUc6GR",
      "execution_count": 3,
      "outputs": [
        {
          "output_type": "stream",
          "name": "stdout",
          "text": [
            "<class 'list'>\n",
            "<class 'numpy.ndarray'>\n",
            "[1 2 3] int64\n"
          ]
        }
      ]
    },
    {
      "cell_type": "code",
      "source": [
        "list2=[1,2,'test']\n",
        "array2=np.array(list2)\n",
        "print(array2,array2.dtype)\n",
        "\n",
        "list3=[1,2,3.0]\n",
        "array3=np.array(list3)\n",
        "print(array3,array3.dtype)"
      ],
      "metadata": {
        "colab": {
          "base_uri": "https://localhost:8080/"
        },
        "id": "jG6d6gsjc6cB",
        "outputId": "92fd0c23-c6c1-4e37-d985-5c9c5e04bc7d"
      },
      "id": "jG6d6gsjc6cB",
      "execution_count": 4,
      "outputs": [
        {
          "output_type": "stream",
          "name": "stdout",
          "text": [
            "['1' '2' 'test'] <U21\n",
            "[1. 2. 3.] float64\n"
          ]
        }
      ]
    },
    {
      "cell_type": "markdown",
      "source": [
        "astype(): ndarray내 데이터 값의 타입 변경. 메모리를 더 절약해야 할 때 보통 이용."
      ],
      "metadata": {
        "id": "ZSS65PBxewtZ"
      },
      "id": "ZSS65PBxewtZ"
    },
    {
      "cell_type": "code",
      "source": [
        "array_int=np.array([1,2,3])\n",
        "array_float=array_int.astype('float64')\n",
        "print(array_float, array_float.dtype)\n",
        "\n",
        "array_int1=array_float.astype('int32')\n",
        "print(array_int1,array_int1.dtype)\n",
        "\n",
        "array_float1=np.array([1.1,2.1,3.1])\n",
        "array_int2=array_float1.astype('int32')\n",
        "print(array_int2,array_int2.dtype)"
      ],
      "metadata": {
        "colab": {
          "base_uri": "https://localhost:8080/"
        },
        "id": "LD24YrfHc6wh",
        "outputId": "32cf70ac-b0de-4433-dcc7-6efae0a9d137"
      },
      "id": "LD24YrfHc6wh",
      "execution_count": 5,
      "outputs": [
        {
          "output_type": "stream",
          "name": "stdout",
          "text": [
            "[1. 2. 3.] float64\n",
            "[1 2 3] int32\n",
            "[1 2 3] int32\n"
          ]
        }
      ]
    },
    {
      "cell_type": "markdown",
      "source": [
        "### ndarray를 편리하게 생성하기-arange, zeros, ones\n",
        "특정 크기와 차원을 가진 ndarray를 연속값이나 0또는 1로 초기화해 쉽게 생성해야 할 필요가 있는 경우\n",
        "\n",
        "arange(): 0부터 함수 인자 값-1까지의 값을 순차적으로 ndarray의 데이터값으로 변환"
      ],
      "metadata": {
        "id": "95s96d33su0G"
      },
      "id": "95s96d33su0G"
    },
    {
      "cell_type": "code",
      "source": [
        "sequence_array=np.arange(10)\n",
        "print(sequence_array)\n",
        "print(sequence_array.dtype, sequence_array.shape)"
      ],
      "metadata": {
        "id": "BwNI1m_-c7FE",
        "colab": {
          "base_uri": "https://localhost:8080/"
        },
        "outputId": "5b56f88a-0b30-41a5-ddef-208306695d7e"
      },
      "id": "BwNI1m_-c7FE",
      "execution_count": 6,
      "outputs": [
        {
          "output_type": "stream",
          "name": "stdout",
          "text": [
            "[0 1 2 3 4 5 6 7 8 9]\n",
            "int64 (10,)\n"
          ]
        }
      ]
    },
    {
      "cell_type": "markdown",
      "source": [
        "zeros(): 함수 인자로 튜플 형태의 shape 값을 입력하면 모든 값을 0으로 채운 해당 shape을 가진 ndarray를 반환\n",
        "\n",
        "ones(): 함수 인자로 튜플 형태의 shape 값을 입력하면 모든 값을 1로 채운 해당 shape을 가진 ndarray를 반환\n",
        "\n",
        "(dtype의 default=float64)"
      ],
      "metadata": {
        "id": "Fs8v8Xx2ubFG"
      },
      "id": "Fs8v8Xx2ubFG"
    },
    {
      "cell_type": "code",
      "source": [
        "zero_array=np.zeros((3,2),dtype='int32')\n",
        "print(zero_array)\n",
        "print(zero_array.dtype, zero_array.shape)\n",
        "\n",
        "one_array=np.ones((3,2))\n",
        "print(one_array)\n",
        "print(one_array.dtype, one_array.shape)"
      ],
      "metadata": {
        "id": "wHLXqVjqc8W9",
        "colab": {
          "base_uri": "https://localhost:8080/"
        },
        "outputId": "b8f25118-dae4-4d16-c6be-e74e7b66d760"
      },
      "id": "wHLXqVjqc8W9",
      "execution_count": 7,
      "outputs": [
        {
          "output_type": "stream",
          "name": "stdout",
          "text": [
            "[[0 0]\n",
            " [0 0]\n",
            " [0 0]]\n",
            "int32 (3, 2)\n",
            "[[1. 1.]\n",
            " [1. 1.]\n",
            " [1. 1.]]\n",
            "float64 (3, 2)\n"
          ]
        }
      ]
    },
    {
      "cell_type": "markdown",
      "source": [
        "### ndarray의 차원과 크기를 변경하는 reshape()\n",
        "reshape(): ndarray를 특정 차원 및 크기로 변환"
      ],
      "metadata": {
        "id": "GwQGc2X5vD9k"
      },
      "id": "GwQGc2X5vD9k"
    },
    {
      "cell_type": "code",
      "source": [
        "array1=np.arange(10)\n",
        "print('array1:\\n', array1)\n",
        "\n",
        "array2=array1.reshape(2,5)\n",
        "print('array2:\\n',array2)\n",
        "\n",
        "array3=array1.reshape(5,2)\n",
        "print('array3:\\n', array3)"
      ],
      "metadata": {
        "id": "zyRdBwH_Wxub",
        "colab": {
          "base_uri": "https://localhost:8080/"
        },
        "outputId": "5985d66f-125a-47eb-f098-bec632f2766f"
      },
      "id": "zyRdBwH_Wxub",
      "execution_count": 8,
      "outputs": [
        {
          "output_type": "stream",
          "name": "stdout",
          "text": [
            "array1:\n",
            " [0 1 2 3 4 5 6 7 8 9]\n",
            "array2:\n",
            " [[0 1 2 3 4]\n",
            " [5 6 7 8 9]]\n",
            "array3:\n",
            " [[0 1]\n",
            " [2 3]\n",
            " [4 5]\n",
            " [6 7]\n",
            " [8 9]]\n"
          ]
        }
      ]
    },
    {
      "cell_type": "markdown",
      "source": [
        "지정된 사이즈로 변경이 불가능하면 오류 발생"
      ],
      "metadata": {
        "id": "GE6WKjrfvuHW"
      },
      "id": "GE6WKjrfvuHW"
    },
    {
      "cell_type": "code",
      "source": [
        "array1.reshape(4,3)"
      ],
      "metadata": {
        "id": "eCCNGzHpWzV6",
        "colab": {
          "base_uri": "https://localhost:8080/",
          "height": 172
        },
        "outputId": "e73b8146-5ce5-4f99-f6e4-bf0ff16ffc9b"
      },
      "id": "eCCNGzHpWzV6",
      "execution_count": 9,
      "outputs": [
        {
          "output_type": "error",
          "ename": "ValueError",
          "evalue": "ignored",
          "traceback": [
            "\u001b[0;31m---------------------------------------------------------------------------\u001b[0m",
            "\u001b[0;31mValueError\u001b[0m                                Traceback (most recent call last)",
            "\u001b[0;32m<ipython-input-9-a40469ec5825>\u001b[0m in \u001b[0;36m<module>\u001b[0;34m\u001b[0m\n\u001b[0;32m----> 1\u001b[0;31m \u001b[0marray1\u001b[0m\u001b[0;34m.\u001b[0m\u001b[0mreshape\u001b[0m\u001b[0;34m(\u001b[0m\u001b[0;36m4\u001b[0m\u001b[0;34m,\u001b[0m\u001b[0;36m3\u001b[0m\u001b[0;34m)\u001b[0m\u001b[0;34m\u001b[0m\u001b[0;34m\u001b[0m\u001b[0m\n\u001b[0m",
            "\u001b[0;31mValueError\u001b[0m: cannot reshape array of size 10 into shape (4,3)"
          ]
        }
      ]
    },
    {
      "cell_type": "markdown",
      "source": [
        "-1을 인자로 사용하면 원래 ndarray와 호환되는 새로운 shape로 변환"
      ],
      "metadata": {
        "id": "WzLufrbxwCQW"
      },
      "id": "WzLufrbxwCQW"
    },
    {
      "cell_type": "code",
      "source": [
        "array1=np.arange(10)\n",
        "print(array1)\n",
        "array2=array1.reshape(-1,5)\n",
        "print('array2 shape:',array2.shape)\n",
        "array3=array1.reshape(5,-1)\n",
        "print('array3 shape:',array3.shape)"
      ],
      "metadata": {
        "id": "qxjIlIpaWyNS",
        "colab": {
          "base_uri": "https://localhost:8080/"
        },
        "outputId": "7e801121-d8cb-4f14-bbd2-8f787e27ed06"
      },
      "id": "qxjIlIpaWyNS",
      "execution_count": 10,
      "outputs": [
        {
          "output_type": "stream",
          "name": "stdout",
          "text": [
            "[0 1 2 3 4 5 6 7 8 9]\n",
            "array2 shape: (2, 5)\n",
            "array3 shape: (5, 2)\n"
          ]
        }
      ]
    },
    {
      "cell_type": "markdown",
      "source": [
        "호환될 수 없는 형태는 변환할 수 없음"
      ],
      "metadata": {
        "id": "k0q8hvUTwIrN"
      },
      "id": "k0q8hvUTwIrN"
    },
    {
      "cell_type": "code",
      "source": [
        "array1=np.arange(10)\n",
        "array4=array1.reshape(-1,4)"
      ],
      "metadata": {
        "id": "LzQCnr9WWyq4",
        "colab": {
          "base_uri": "https://localhost:8080/",
          "height": 190
        },
        "outputId": "752787df-75cf-44da-941e-c00f65e99186"
      },
      "id": "LzQCnr9WWyq4",
      "execution_count": 11,
      "outputs": [
        {
          "output_type": "error",
          "ename": "ValueError",
          "evalue": "ignored",
          "traceback": [
            "\u001b[0;31m---------------------------------------------------------------------------\u001b[0m",
            "\u001b[0;31mValueError\u001b[0m                                Traceback (most recent call last)",
            "\u001b[0;32m<ipython-input-11-7f01f0f59baa>\u001b[0m in \u001b[0;36m<module>\u001b[0;34m\u001b[0m\n\u001b[1;32m      1\u001b[0m \u001b[0marray1\u001b[0m\u001b[0;34m=\u001b[0m\u001b[0mnp\u001b[0m\u001b[0;34m.\u001b[0m\u001b[0marange\u001b[0m\u001b[0;34m(\u001b[0m\u001b[0;36m10\u001b[0m\u001b[0;34m)\u001b[0m\u001b[0;34m\u001b[0m\u001b[0;34m\u001b[0m\u001b[0m\n\u001b[0;32m----> 2\u001b[0;31m \u001b[0marray4\u001b[0m\u001b[0;34m=\u001b[0m\u001b[0marray1\u001b[0m\u001b[0;34m.\u001b[0m\u001b[0mreshape\u001b[0m\u001b[0;34m(\u001b[0m\u001b[0;34m-\u001b[0m\u001b[0;36m1\u001b[0m\u001b[0;34m,\u001b[0m\u001b[0;36m4\u001b[0m\u001b[0;34m)\u001b[0m\u001b[0;34m\u001b[0m\u001b[0;34m\u001b[0m\u001b[0m\n\u001b[0m",
            "\u001b[0;31mValueError\u001b[0m: cannot reshape array of size 10 into shape (4)"
          ]
        }
      ]
    },
    {
      "cell_type": "code",
      "source": [
        "array1=np.arange(8)\n",
        "array3d=array1.reshape((2,2,2))\n",
        "print('array3d:\\n',array3d.tolist())\n",
        "\n",
        "array5=array3d.reshape(-1,1)\n",
        "print('array5:\\n',array5.tolist())\n",
        "print('array5 shape:',array5.shape)\n",
        "\n",
        "array6=array1.reshape(-1,1)\n",
        "print('array6:\\n',array6.tolist())\n",
        "print('array6 shape:',array6.shape)"
      ],
      "metadata": {
        "id": "HLJtMrezYqX3",
        "colab": {
          "base_uri": "https://localhost:8080/"
        },
        "outputId": "a4fc2452-b983-4ebf-a795-47a3fa45fed4"
      },
      "id": "HLJtMrezYqX3",
      "execution_count": 12,
      "outputs": [
        {
          "output_type": "stream",
          "name": "stdout",
          "text": [
            "array3d:\n",
            " [[[0, 1], [2, 3]], [[4, 5], [6, 7]]]\n",
            "array5:\n",
            " [[0], [1], [2], [3], [4], [5], [6], [7]]\n",
            "array5 shape: (8, 1)\n",
            "array6:\n",
            " [[0], [1], [2], [3], [4], [5], [6], [7]]\n",
            "array6 shape: (8, 1)\n"
          ]
        }
      ]
    },
    {
      "cell_type": "markdown",
      "source": [
        "### 넘파이의 ndarray의 데이터 세트 선택하기 - 인덱싱(Indexing)\n",
        "* 특정한 데이터만 추출\n",
        "\n",
        "  ndarray 객체에 해당하는 위치의 인덱스 값을 [ ] 안에 입력\n"
      ],
      "metadata": {
        "id": "xTfpnlO6wxSN"
      },
      "id": "xTfpnlO6wxSN"
    },
    {
      "cell_type": "code",
      "source": [
        "array1=np.arange(start=1,stop=10)\n",
        "print('array1:',array1)\n",
        "\n",
        "value=array1[2]\n",
        "print('value:',value)\n",
        "print(type(value))\n",
        "\n",
        "print('맨 뒤의 값:',array1[-1], '맨 뒤에서 두 번째 값:',array1[-2])"
      ],
      "metadata": {
        "id": "s-N4GkSwYq11",
        "colab": {
          "base_uri": "https://localhost:8080/"
        },
        "outputId": "a707cb41-1572-4a2a-8f79-a1a21520ca7a"
      },
      "id": "s-N4GkSwYq11",
      "execution_count": 13,
      "outputs": [
        {
          "output_type": "stream",
          "name": "stdout",
          "text": [
            "array1: [1 2 3 4 5 6 7 8 9]\n",
            "value: 3\n",
            "<class 'numpy.int64'>\n",
            "맨 뒤의 값: 9 맨 뒤에서 두 번째 값: 8\n"
          ]
        }
      ]
    },
    {
      "cell_type": "markdown",
      "source": [
        "단일 인덱스 이용해 ndarray 내의 데이터값 간단히 수정 가능"
      ],
      "metadata": {
        "id": "rMLZNx2K4UIL"
      },
      "id": "rMLZNx2K4UIL"
    },
    {
      "cell_type": "code",
      "source": [
        "array1[0]=9\n",
        "array1[8]=0\n",
        "print('array1:',array1)"
      ],
      "metadata": {
        "id": "ZgNc9wJCaKYo",
        "colab": {
          "base_uri": "https://localhost:8080/"
        },
        "outputId": "67d83653-fcd4-4610-ab2d-897114769b82"
      },
      "id": "ZgNc9wJCaKYo",
      "execution_count": 14,
      "outputs": [
        {
          "output_type": "stream",
          "name": "stdout",
          "text": [
            "array1: [9 2 3 4 5 6 7 8 0]\n"
          ]
        }
      ]
    },
    {
      "cell_type": "code",
      "source": [
        "array1d=np.arange(start=1,stop=10)\n",
        "array2d=array1d.reshape(3,3)\n",
        "print(array2d)\n",
        "\n",
        "print('(row=0, col=0) index 가리키는 값:', array2d[0,0])\n",
        "print('(row=0, col=1) index 가리키는 값:', array2d[0,1])\n",
        "print('(row=1, col=0) index 가리키는 값:', array2d[1,0])\n",
        "print('(row=2, col=2) index 가리키는 값:', array2d[2,2])"
      ],
      "metadata": {
        "id": "Ru0qRTAWaK8X",
        "colab": {
          "base_uri": "https://localhost:8080/"
        },
        "outputId": "c7813cf8-955f-4874-ec32-be6752de6f39"
      },
      "id": "Ru0qRTAWaK8X",
      "execution_count": 15,
      "outputs": [
        {
          "output_type": "stream",
          "name": "stdout",
          "text": [
            "[[1 2 3]\n",
            " [4 5 6]\n",
            " [7 8 9]]\n",
            "(row=0, col=0) index 가리키는 값: 1\n",
            "(row=0, col=1) index 가리키는 값: 2\n",
            "(row=1, col=0) index 가리키는 값: 4\n",
            "(row=2, col=2) index 가리키는 값: 9\n"
          ]
        }
      ]
    },
    {
      "cell_type": "markdown",
      "source": [
        "* 슬라이싱(Slicing)\n",
        "\n",
        "  ':' 사이에 시작 인덱스와 종료 인덱스를 표시하면 시작 인덱스에서 종료 인덱스-1의 위치에 있는 데이터의 ndarray를 반환"
      ],
      "metadata": {
        "id": "JsqpfuOPk5Ia"
      },
      "id": "JsqpfuOPk5Ia"
    },
    {
      "cell_type": "code",
      "source": [
        "array1=np.arange(start=1,stop=10)\n",
        "array3=array1[0:3]\n",
        "print(array3)\n",
        "print(type(array3))"
      ],
      "metadata": {
        "id": "0joRIzXbaLm-",
        "colab": {
          "base_uri": "https://localhost:8080/"
        },
        "outputId": "8419647f-367a-4fc5-d5fc-843421bbf2bd"
      },
      "id": "0joRIzXbaLm-",
      "execution_count": 16,
      "outputs": [
        {
          "output_type": "stream",
          "name": "stdout",
          "text": [
            "[1 2 3]\n",
            "<class 'numpy.ndarray'>\n"
          ]
        }
      ]
    },
    {
      "cell_type": "markdown",
      "source": [
        "':'기호 앞 시작 인덱스 생략하면 자동으로 맨 처음 인덱스인 0으로, ':'기호 뒤 종료 인덱스를 생략하면 자동으로 맨 마지막 인덱스로 간주"
      ],
      "metadata": {
        "id": "xIVFeh-pl8sb"
      },
      "id": "xIVFeh-pl8sb"
    },
    {
      "cell_type": "code",
      "source": [
        "array1=np.arange(start=1,stop=10)\n",
        "array4=array1[:3]\n",
        "print(array4)\n",
        "\n",
        "array5=array1[3:]\n",
        "print(array5)\n",
        "\n",
        "array6=array1[:]\n",
        "print(array6)"
      ],
      "metadata": {
        "id": "AS2-nzFHaLSP",
        "colab": {
          "base_uri": "https://localhost:8080/"
        },
        "outputId": "ab7cc8b0-ea67-4c04-cec7-df68f8473333"
      },
      "id": "AS2-nzFHaLSP",
      "execution_count": 17,
      "outputs": [
        {
          "output_type": "stream",
          "name": "stdout",
          "text": [
            "[1 2 3]\n",
            "[4 5 6 7 8 9]\n",
            "[1 2 3 4 5 6 7 8 9]\n"
          ]
        }
      ]
    },
    {
      "cell_type": "code",
      "source": [
        "array1d=np.arange(start=1,stop=10)\n",
        "array2d=array1d.reshape(3,3)\n",
        "print('array2d:\\n',array2d)\n",
        "\n",
        "print('array2d[0:2,0:2]\\n', array2d[0:2,0:2])\n",
        "print('array2d[1:3,0:3]\\n', array2d[1:3,0:3])\n",
        "print('array2d[1:3,:]\\n', array2d[1:3,:])\n",
        "print('array2d[:,:]\\n', array2d[:,:])\n",
        "print('array2d[:2,1:]\\n', array2d[:2,1:])\n",
        "print('array2d[:2,0]\\n', array2d[:2,0])"
      ],
      "metadata": {
        "id": "tlq5PAwdbql6",
        "colab": {
          "base_uri": "https://localhost:8080/"
        },
        "outputId": "72ff0d7f-22b8-4a2d-a606-13392abbce22"
      },
      "id": "tlq5PAwdbql6",
      "execution_count": 18,
      "outputs": [
        {
          "output_type": "stream",
          "name": "stdout",
          "text": [
            "array2d:\n",
            " [[1 2 3]\n",
            " [4 5 6]\n",
            " [7 8 9]]\n",
            "array2d[0:2,0:2]\n",
            " [[1 2]\n",
            " [4 5]]\n",
            "array2d[1:3,0:3]\n",
            " [[4 5 6]\n",
            " [7 8 9]]\n",
            "array2d[1:3,:]\n",
            " [[4 5 6]\n",
            " [7 8 9]]\n",
            "array2d[:,:]\n",
            " [[1 2 3]\n",
            " [4 5 6]\n",
            " [7 8 9]]\n",
            "array2d[:2,1:]\n",
            " [[2 3]\n",
            " [5 6]]\n",
            "array2d[:2,0]\n",
            " [1 4]\n"
          ]
        }
      ]
    },
    {
      "cell_type": "markdown",
      "source": [
        "2차원 ndarray에서 뒤에 오는 인덱스를 없애면 1차원 ndarray 반환"
      ],
      "metadata": {
        "id": "2dZg2WBVmSEY"
      },
      "id": "2dZg2WBVmSEY"
    },
    {
      "cell_type": "code",
      "source": [
        "print(array2d[0])\n",
        "print(array2d[1])\n",
        "print('array2d[0] shape:', array2d[0].shape, 'array2d[1] shape:', array2d[1].shape)"
      ],
      "metadata": {
        "id": "_JAwBtufbqjJ",
        "colab": {
          "base_uri": "https://localhost:8080/"
        },
        "outputId": "056d0a75-fce0-487b-b47c-453e677e89c6"
      },
      "id": "_JAwBtufbqjJ",
      "execution_count": 19,
      "outputs": [
        {
          "output_type": "stream",
          "name": "stdout",
          "text": [
            "[1 2 3]\n",
            "[4 5 6]\n",
            "array2d[0] shape: (3,) array2d[1] shape: (3,)\n"
          ]
        }
      ]
    },
    {
      "cell_type": "markdown",
      "source": [
        "* 팬시 인덱싱(Fancy Indexing)\n",
        "\n",
        "  리스트나 ndarray로 인덱스 집합을 지정하면 해당 위치의 인덱스에 해당하는 ndarray를 반환"
      ],
      "metadata": {
        "id": "ceiqYmZamXRw"
      },
      "id": "ceiqYmZamXRw"
    },
    {
      "cell_type": "code",
      "source": [
        "array1d=np.arange(start=1,stop=10)\n",
        "array2d=array1d.reshape(3,3)\n",
        "\n",
        "array3=array2d[[0,1],2]\n",
        "print('array2d[[0,1],2]=>',array3.tolist())\n",
        "\n",
        "array4=array2d[[0,1],0:2]\n",
        "print('array2d[[0,1],0:2]=>',array4.tolist())\n",
        "\n",
        "array5=array2d[[0,1]]\n",
        "print('array2d[[0,1]]=>', array5.tolist())"
      ],
      "metadata": {
        "id": "ge-gwCVcbqgJ",
        "colab": {
          "base_uri": "https://localhost:8080/"
        },
        "outputId": "50c30fcc-6862-4f3b-ae45-86937ee4ffc0"
      },
      "id": "ge-gwCVcbqgJ",
      "execution_count": 20,
      "outputs": [
        {
          "output_type": "stream",
          "name": "stdout",
          "text": [
            "array2d[[0,1],2]=> [3, 6]\n",
            "array2d[[0,1],0:2]=> [[1, 2], [4, 5]]\n",
            "array2d[[0,1]]=> [[1, 2, 3], [4, 5, 6]]\n"
          ]
        }
      ]
    },
    {
      "cell_type": "markdown",
      "source": [
        "* 불린 인덱싱(Boolean Indexing)\n",
        "\n",
        "  조건 필터링과 검색 동시에 가능"
      ],
      "metadata": {
        "id": "BLe55-YfnBbo"
      },
      "id": "BLe55-YfnBbo"
    },
    {
      "cell_type": "code",
      "source": [
        "array1d=np.arange(start=1,stop=10)\n",
        "\n",
        "array3=array1d[array1d>5]\n",
        "print('array1d > 5 불린 인덱싱 결과 값:',array3)"
      ],
      "metadata": {
        "id": "ZrdXXztjbqdF",
        "colab": {
          "base_uri": "https://localhost:8080/"
        },
        "outputId": "8cb62643-edb3-4929-b346-4b8fe1f6368f"
      },
      "id": "ZrdXXztjbqdF",
      "execution_count": 21,
      "outputs": [
        {
          "output_type": "stream",
          "name": "stdout",
          "text": [
            "array1d > 5 불린 인덱싱 결과 값: [6 7 8 9]\n"
          ]
        }
      ]
    },
    {
      "cell_type": "code",
      "source": [
        "array1d>5"
      ],
      "metadata": {
        "id": "fGO-onV3bqZB",
        "colab": {
          "base_uri": "https://localhost:8080/"
        },
        "outputId": "d51615f2-21a1-4a2c-dcd4-8e89b4027297"
      },
      "id": "fGO-onV3bqZB",
      "execution_count": 22,
      "outputs": [
        {
          "output_type": "execute_result",
          "data": {
            "text/plain": [
              "array([False, False, False, False, False,  True,  True,  True,  True])"
            ]
          },
          "metadata": {},
          "execution_count": 22
        }
      ]
    },
    {
      "cell_type": "code",
      "source": [
        "boolean_indexes=np.array([False,False,False,False,False,True,True,True,True])\n",
        "array3=array1d[boolean_indexes]\n",
        "print('불린 인덱스로 필터링 결과:',array3)"
      ],
      "metadata": {
        "id": "Kl09SC82bqU3",
        "colab": {
          "base_uri": "https://localhost:8080/"
        },
        "outputId": "936f697d-30fa-406f-a4c8-64c98638ce10"
      },
      "id": "Kl09SC82bqU3",
      "execution_count": 23,
      "outputs": [
        {
          "output_type": "stream",
          "name": "stdout",
          "text": [
            "불린 인덱스로 필터링 결과: [6 7 8 9]\n"
          ]
        }
      ]
    },
    {
      "cell_type": "code",
      "source": [
        "indexes=np.array([5,6,7,8])\n",
        "array4=array1d[indexes]\n",
        "print('일반 인덱스로 필터링 결과:',array4)"
      ],
      "metadata": {
        "id": "AXXbID8sgutT",
        "colab": {
          "base_uri": "https://localhost:8080/"
        },
        "outputId": "50e11acf-b376-4c9c-a22c-f046bfc3f6a9"
      },
      "id": "AXXbID8sgutT",
      "execution_count": 24,
      "outputs": [
        {
          "output_type": "stream",
          "name": "stdout",
          "text": [
            "일반 인덱스로 필터링 결과: [6 7 8 9]\n"
          ]
        }
      ]
    },
    {
      "cell_type": "markdown",
      "source": [
        "### 행렬의 정렬-sort()와 argsort()\n",
        "1. np.sort(): 원 행렬은 그대로 유지한 채 원 행렬의 정렬된 행렬 변환\n",
        "\n",
        "2. ndarray.sort(): 원 행렬 자체를 정렬한 형태로 변환, 반환 값는 None"
      ],
      "metadata": {
        "id": "Oxm88KbjoEGn"
      },
      "id": "Oxm88KbjoEGn"
    },
    {
      "cell_type": "code",
      "source": [
        "org_array=np.array([3,1,9,5])\n",
        "print('원본 행렬:',org_array)\n",
        "\n",
        "sort_array1=np.sort(org_array)\n",
        "print('np.sort( ) 호출 후 반환된 정렬 행렬:',sort_array1)\n",
        "print('np.sort( ) 호출 후 원본 행렬:',org_array)\n",
        "\n",
        "sort_array2=org_array.sort()\n",
        "print('org_array.sort( ) 호출 후 반환된 행렬:',sort_array2)\n",
        "print('org_array.sort( ) 호출 후 원본 행렬:',org_array)"
      ],
      "metadata": {
        "id": "cajawYRGguga",
        "colab": {
          "base_uri": "https://localhost:8080/"
        },
        "outputId": "72ce60e3-9ae3-4482-f320-49334f40e65d"
      },
      "id": "cajawYRGguga",
      "execution_count": 25,
      "outputs": [
        {
          "output_type": "stream",
          "name": "stdout",
          "text": [
            "원본 행렬: [3 1 9 5]\n",
            "np.sort( ) 호출 후 반환된 정렬 행렬: [1 3 5 9]\n",
            "np.sort( ) 호출 후 원본 행렬: [3 1 9 5]\n",
            "org_array.sort( ) 호출 후 반환된 행렬: None\n",
            "org_array.sort( ) 호출 후 원본 행렬: [1 3 5 9]\n"
          ]
        }
      ]
    },
    {
      "cell_type": "markdown",
      "source": [
        "내림차순으로 정렬하기 위해서는 [::-1]"
      ],
      "metadata": {
        "id": "TY2eMySCpOAQ"
      },
      "id": "TY2eMySCpOAQ"
    },
    {
      "cell_type": "code",
      "source": [
        "sort_array1_desc=np.sort(org_array)[::-1]\n",
        "print('내림차순으로 정렬:',sort_array1_desc)"
      ],
      "metadata": {
        "id": "Ssk3iSMIi8lk",
        "colab": {
          "base_uri": "https://localhost:8080/"
        },
        "outputId": "af86b280-5851-4193-9bea-3c2340dfe437"
      },
      "id": "Ssk3iSMIi8lk",
      "execution_count": 26,
      "outputs": [
        {
          "output_type": "stream",
          "name": "stdout",
          "text": [
            "내림차순으로 정렬: [9 5 3 1]\n"
          ]
        }
      ]
    },
    {
      "cell_type": "code",
      "source": [
        "array2d=np.array([[8,12],\n",
        "                  [7,1]])\n",
        "sort_array2d_axis0=np.sort(array2d,axis=0)\n",
        "print('로우 방향으로 정렬:\\n', sort_array2d_axis0)\n",
        "\n",
        "sort_array2d_axis1=np.sort(array2d, axis=1)\n",
        "print('칼럼 방향으로 정렬:\\n', sort_array2d_axis1)"
      ],
      "metadata": {
        "id": "oUX3zRF-i8iq",
        "colab": {
          "base_uri": "https://localhost:8080/"
        },
        "outputId": "31474e23-7a88-404f-d845-40b1e1049e5c"
      },
      "id": "oUX3zRF-i8iq",
      "execution_count": 28,
      "outputs": [
        {
          "output_type": "stream",
          "name": "stdout",
          "text": [
            "로우 방향으로 정렬:\n",
            " [[ 7  1]\n",
            " [ 8 12]]\n",
            "칼럼 방향으로 정렬:\n",
            " [[ 8 12]\n",
            " [ 1  7]]\n"
          ]
        }
      ]
    },
    {
      "cell_type": "markdown",
      "source": [
        "np.argsort(): 정렬 행렬의 원본 행렬 인덱스를 ndarray 형으로 반환"
      ],
      "metadata": {
        "id": "e1YWhsyZpvT3"
      },
      "id": "e1YWhsyZpvT3"
    },
    {
      "cell_type": "code",
      "source": [
        "org_array=np.array([3,1,9,5])\n",
        "sort_indices=np.argsort(org_array)\n",
        "print(type(sort_indices))\n",
        "print('행렬 정렬 시 원본 행렬의 인덱스:',sort_indices)"
      ],
      "metadata": {
        "id": "leKQlW94i8ck",
        "colab": {
          "base_uri": "https://localhost:8080/"
        },
        "outputId": "29aedbdc-43dc-4111-d4b3-a9ecde80e2ae"
      },
      "id": "leKQlW94i8ck",
      "execution_count": 30,
      "outputs": [
        {
          "output_type": "stream",
          "name": "stdout",
          "text": [
            "<class 'numpy.ndarray'>\n",
            "행렬 정렬 시 원본 행렬의 인덱스: [1 0 3 2]\n"
          ]
        }
      ]
    },
    {
      "cell_type": "markdown",
      "source": [
        "np.argsort()[::-1]: 내림차순으로 정렬 시에 원본 행렬의 인덱스"
      ],
      "metadata": {
        "id": "CrugkQwrp_MP"
      },
      "id": "CrugkQwrp_MP"
    },
    {
      "cell_type": "code",
      "source": [
        "org_array=np.array([3,1,9,5])\n",
        "sort_indices_desc=np.argsort(org_array)[::-1]\n",
        "print('행렬 내림차순 정렬 시 원본 행렬의 인덱스:', sort_indices_desc)"
      ],
      "metadata": {
        "colab": {
          "base_uri": "https://localhost:8080/"
        },
        "id": "kLCGcKQNoJCE",
        "outputId": "da82806a-64bf-4f7a-9b66-ca205669b92b"
      },
      "id": "kLCGcKQNoJCE",
      "execution_count": 31,
      "outputs": [
        {
          "output_type": "stream",
          "name": "stdout",
          "text": [
            "행렬 내림차순 정렬 시 원본 행렬의 인덱스: [2 3 0 1]\n"
          ]
        }
      ]
    },
    {
      "cell_type": "code",
      "source": [
        "import numpy as np\n",
        "\n",
        "name_array=np.array(['John','Mike','Sarah','Kate','Samuel'])\n",
        "score_array=np.array([78,95,84,98,88])\n",
        "\n",
        "sort_indices_asc=np.argsort(score_array)\n",
        "print('성적 오름차순 정렬 시 score_array의 인덱스:', sort_indices_asc)\n",
        "print('성적 오름차순으로 name_array의 이름 출력:', name_array[sort_indices_asc])"
      ],
      "metadata": {
        "colab": {
          "base_uri": "https://localhost:8080/"
        },
        "id": "0IEzvnmIoI_t",
        "outputId": "1497ddf9-9523-4100-f7a0-cffc506bac8b"
      },
      "id": "0IEzvnmIoI_t",
      "execution_count": 32,
      "outputs": [
        {
          "output_type": "stream",
          "name": "stdout",
          "text": [
            "성적 오름차순 정렬 시 score_array의 인덱스: [0 2 4 1 3]\n",
            "성적 오름차순으로 name_array의 이름 출력: ['John' 'Sarah' 'Samuel' 'Mike' 'Kate']\n"
          ]
        }
      ]
    },
    {
      "cell_type": "markdown",
      "source": [
        "### 선형대수 연산-행렬 내적과 전치 행렬 구하기\n",
        "np.dot(): 행렬 내적"
      ],
      "metadata": {
        "id": "93DcVJYyqot4"
      },
      "id": "93DcVJYyqot4"
    },
    {
      "cell_type": "code",
      "source": [
        "A=np.array([[1,2,3],\n",
        "            [4,5,6]])\n",
        "B=np.array([[7,8],\n",
        "            [9,10],\n",
        "            [11,12]])\n",
        "dot_product=np.dot(A,B)\n",
        "print('행렬 내적 결과:\\n', dot_product)"
      ],
      "metadata": {
        "id": "aqPTn6dmi8Oq",
        "colab": {
          "base_uri": "https://localhost:8080/"
        },
        "outputId": "b2a60ed9-7f95-4393-adeb-494c86b0e7c4"
      },
      "id": "aqPTn6dmi8Oq",
      "execution_count": 33,
      "outputs": [
        {
          "output_type": "stream",
          "name": "stdout",
          "text": [
            "행렬 내적 결과:\n",
            " [[ 58  64]\n",
            " [139 154]]\n"
          ]
        }
      ]
    },
    {
      "cell_type": "markdown",
      "source": [
        "전치 행렬: 원 행렬에서 행과 열 위치를 교환한 원소로 구성한 행렬, transpose()를 이용해 구함"
      ],
      "metadata": {
        "id": "r3LbZ_ECrEB-"
      },
      "id": "r3LbZ_ECrEB-"
    },
    {
      "cell_type": "code",
      "source": [
        "A=np.array([[1,2],\n",
        "            [3,4]])\n",
        "transpose_mat=np.transpose(A)\n",
        "print('A의 전치 행렬:\\n', transpose_mat)"
      ],
      "metadata": {
        "id": "DAt0yMRaWzHd",
        "colab": {
          "base_uri": "https://localhost:8080/"
        },
        "outputId": "796bd644-073e-4b4d-e584-6d7d49672160"
      },
      "id": "DAt0yMRaWzHd",
      "execution_count": 34,
      "outputs": [
        {
          "output_type": "stream",
          "name": "stdout",
          "text": [
            "A의 전치 행렬:\n",
            " [[1 3]\n",
            " [2 4]]\n"
          ]
        }
      ]
    }
  ],
  "metadata": {
    "kernelspec": {
      "display_name": "Python 3 (ipykernel)",
      "language": "python",
      "name": "python3"
    },
    "language_info": {
      "codemirror_mode": {
        "name": "ipython",
        "version": 3
      },
      "file_extension": ".py",
      "mimetype": "text/x-python",
      "name": "python",
      "nbconvert_exporter": "python",
      "pygments_lexer": "ipython3",
      "version": "3.9.12"
    },
    "colab": {
      "provenance": [],
      "collapsed_sections": [],
      "include_colab_link": true
    }
  },
  "nbformat": 4,
  "nbformat_minor": 5
}
