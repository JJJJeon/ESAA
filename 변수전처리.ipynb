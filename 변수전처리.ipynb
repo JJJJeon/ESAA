{
  "nbformat": 4,
  "nbformat_minor": 0,
  "metadata": {
    "colab": {
      "provenance": [],
      "mount_file_id": "1ZYIq2Z4pnir9ybsPcYly2a2y1-JammS5",
      "authorship_tag": "ABX9TyO0c4Wy2JvlTcsYOeBLbmG2",
      "include_colab_link": true
    },
    "kernelspec": {
      "name": "python3",
      "display_name": "Python 3"
    },
    "language_info": {
      "name": "python"
    }
  },
  "cells": [
    {
      "cell_type": "markdown",
      "metadata": {
        "id": "view-in-github",
        "colab_type": "text"
      },
      "source": [
        "<a href=\"https://colab.research.google.com/github/JJJJeon/ESAA/blob/main/%EB%B3%80%EC%88%98%EC%A0%84%EC%B2%98%EB%A6%AC.ipynb\" target=\"_parent\"><img src=\"https://colab.research.google.com/assets/colab-badge.svg\" alt=\"Open In Colab\"/></a>"
      ]
    },
    {
      "cell_type": "markdown",
      "source": [
        "11. screening_rat"
      ],
      "metadata": {
        "id": "7h-78KXIQ9fY"
      }
    },
    {
      "cell_type": "code",
      "source": [
        "train=pd.get_dummies(train,columns=['screening_rat'])"
      ],
      "metadata": {
        "id": "pv35V9fEQNUy"
      },
      "execution_count": 11,
      "outputs": []
    },
    {
      "cell_type": "markdown",
      "source": [
        "12.box_off_num"
      ],
      "metadata": {
        "id": "Y56XSVQPREeM"
      }
    },
    {
      "cell_type": "code",
      "source": [
        "plt.hist(train['box_off_num'])"
      ],
      "metadata": {
        "colab": {
          "base_uri": "https://localhost:8080/",
          "height": 369
        },
        "id": "ypucPKfDQNSQ",
        "outputId": "3fc555a7-d421-45eb-b245-49d560f71a60"
      },
      "execution_count": 13,
      "outputs": [
        {
          "output_type": "execute_result",
          "data": {
            "text/plain": [
              "(array([514.,  45.,  15.,   9.,   3.,   4.,   4.,   1.,   3.,   2.]),\n",
              " array([1.00000000e+00, 1.42627750e+06, 2.85255400e+06, 4.27883050e+06,\n",
              "        5.70510700e+06, 7.13138350e+06, 8.55766000e+06, 9.98393650e+06,\n",
              "        1.14102130e+07, 1.28364895e+07, 1.42627660e+07]),\n",
              " <a list of 10 Patch objects>)"
            ]
          },
          "metadata": {},
          "execution_count": 13
        },
        {
          "output_type": "display_data",
          "data": {
            "text/plain": [
              "<Figure size 432x288 with 1 Axes>"
            ],
            "image/png": "[encoded data removed]"
          },
          "metadata": {
            "needs_background": "light"
          }
        }
      ]
    },
    {
      "cell_type": "code",
      "source": [
        "import numpy as np\n",
        "train['box_off_num']=np.log1p(train.box_off_num)"
      ],
      "metadata": {
        "id": "dWr-jWzWS4cF"
      },
      "execution_count": 15,
      "outputs": []
    },
    {
      "cell_type": "code",
      "source": [
        "plt.hist(train['box_off_num'])"
      ],
      "metadata": {
        "colab": {
          "base_uri": "https://localhost:8080/",
          "height": 356
        },
        "id": "q_xDpqfiTCl0",
        "outputId": "ecf48868-9aea-4084-8b7b-e4639f363174"
      },
      "execution_count": 16,
      "outputs": [
        {
          "output_type": "execute_result",
          "data": {
            "text/plain": [
              "(array([  3.,   3.,  25., 105., 124.,  79.,  55.,  67.,  98.,  41.]),\n",
              " array([ 0.69314718,  2.27114876,  3.84915034,  5.42715192,  7.00515351,\n",
              "         8.58315509, 10.16115667, 11.73915825, 13.31715983, 14.89516141,\n",
              "        16.47316299]),\n",
              " <a list of 10 Patch objects>)"
            ]
          },
          "metadata": {},
          "execution_count": 16
        },
        {
          "output_type": "display_data",
          "data": {
            "text/plain": [
              "<Figure size 432x288 with 1 Axes>"
            ],
            "image/png": "[encoded data removed]"
          },
          "metadata": {
            "needs_background": "light"
          }
        }
      ]
    }
  ]
}