{
  "nbformat": 4,
  "nbformat_minor": 0,
  "metadata": {
    "colab": {
      "provenance": [],
      "include_colab_link": true
    },
    "kernelspec": {
      "name": "python3",
      "display_name": "Python 3"
    },
    "language_info": {
      "name": "python"
    }
  },
  "cells": [
    {
      "cell_type": "markdown",
      "metadata": {
        "id": "view-in-github",
        "colab_type": "text"
      },
      "source": [
        "<a href=\"https://colab.research.google.com/github/JJJJeon/ESAA/blob/main/Pytorch_5_Intro_to_Neural_Networks_Continuous.ipynb\" target=\"_parent\"><img src=\"https://colab.research.google.com/assets/colab-badge.svg\" alt=\"Open In Colab\"/></a>"
      ]
    },
    {
      "cell_type": "markdown",
      "source": [
        "# Python Session 5: Introduction to Neural Networks"
      ],
      "metadata": {
        "id": "x43wVhW7f1Vp"
      }
    },
    {
      "cell_type": "code",
      "execution_count": 1,
      "metadata": {
        "id": "VCSoDHEdhpQL"
      },
      "outputs": [],
      "source": [
        "import torch\n",
        "import numpy as np\n",
        "import matplotlib.pyplot as plt\n",
        "from torch.utils.data import TensorDataset, DataLoader\n"
      ]
    },
    {
      "cell_type": "code",
      "source": [
        "from sklearn.datasets import load_boston\n",
        "import pandas as pd"
      ],
      "metadata": {
        "id": "qQQ5iilMDhh_"
      },
      "execution_count": 2,
      "outputs": []
    },
    {
      "cell_type": "code",
      "source": [
        "bos = load_boston()\n",
        "bos.keys()"
      ],
      "metadata": {
        "colab": {
          "base_uri": "https://localhost:8080/"
        },
        "id": "jX_s4Dc4Dhe8",
        "outputId": "a9a9be20-d74c-4c9b-cfb6-cae7da892982"
      },
      "execution_count": 3,
      "outputs": [
        {
          "output_type": "stream",
          "name": "stderr",
          "text": [
            "/usr/local/lib/python3.8/dist-packages/sklearn/utils/deprecation.py:87: FutureWarning: Function load_boston is deprecated; `load_boston` is deprecated in 1.0 and will be removed in 1.2.\n",
            "\n",
            "    The Boston housing prices dataset has an ethical problem. You can refer to\n",
            "    the documentation of this function for further details.\n",
            "\n",
            "    The scikit-learn maintainers therefore strongly discourage the use of this\n",
            "    dataset unless the purpose of the code is to study and educate about\n",
            "    ethical issues in data science and machine learning.\n",
            "\n",
            "    In this special case, you can fetch the dataset from the original\n",
            "    source::\n",
            "\n",
            "        import pandas as pd\n",
            "        import numpy as np\n",
            "\n",
            "\n",
            "        data_url = \"http://lib.stat.cmu.edu/datasets/boston\"\n",
            "        raw_df = pd.read_csv(data_url, sep=\"\\s+\", skiprows=22, header=None)\n",
            "        data = np.hstack([raw_df.values[::2, :], raw_df.values[1::2, :2]])\n",
            "        target = raw_df.values[1::2, 2]\n",
            "\n",
            "    Alternative datasets include the California housing dataset (i.e.\n",
            "    :func:`~sklearn.datasets.fetch_california_housing`) and the Ames housing\n",
            "    dataset. You can load the datasets as follows::\n",
            "\n",
            "        from sklearn.datasets import fetch_california_housing\n",
            "        housing = fetch_california_housing()\n",
            "\n",
            "    for the California housing dataset and::\n",
            "\n",
            "        from sklearn.datasets import fetch_openml\n",
            "        housing = fetch_openml(name=\"house_prices\", as_frame=True)\n",
            "\n",
            "    for the Ames housing dataset.\n",
            "    \n",
            "  warnings.warn(msg, category=FutureWarning)\n"
          ]
        },
        {
          "output_type": "execute_result",
          "data": {
            "text/plain": [
              "dict_keys(['data', 'target', 'feature_names', 'DESCR', 'filename', 'data_module'])"
            ]
          },
          "metadata": {},
          "execution_count": 3
        }
      ]
    },
    {
      "cell_type": "code",
      "source": [
        "df = pd.DataFrame(bos.data)\n",
        "df.columns = bos.feature_names\n",
        "df['Price'] = bos.target\n",
        "df.head()"
      ],
      "metadata": {
        "colab": {
          "base_uri": "https://localhost:8080/",
          "height": 206
        },
        "id": "m8eI9A5UDhbJ",
        "outputId": "808e560d-bf06-49f2-d134-91fffba07301"
      },
      "execution_count": 4,
      "outputs": [
        {
          "output_type": "execute_result",
          "data": {
            "text/plain": [
              "      CRIM    ZN  INDUS  CHAS    NOX     RM   AGE     DIS  RAD    TAX  \\\n",
              "0  0.00632  18.0   2.31   0.0  0.538  6.575  65.2  4.0900  1.0  296.0   \n",
              "1  0.02731   0.0   7.07   0.0  0.469  6.421  78.9  4.9671  2.0  242.0   \n",
              "2  0.02729   0.0   7.07   0.0  0.469  7.185  61.1  4.9671  2.0  242.0   \n",
              "3  0.03237   0.0   2.18   0.0  0.458  6.998  45.8  6.0622  3.0  222.0   \n",
              "4  0.06905   0.0   2.18   0.0  0.458  7.147  54.2  6.0622  3.0  222.0   \n",
              "\n",
              "   PTRATIO       B  LSTAT  Price  \n",
              "0     15.3  396.90   4.98   24.0  \n",
              "1     17.8  396.90   9.14   21.6  \n",
              "2     17.8  392.83   4.03   34.7  \n",
              "3     18.7  394.63   2.94   33.4  \n",
              "4     18.7  396.90   5.33   36.2  "
            ],
            "text/html": [
              "\n",
              "  <div id=\"df-bf39f55f-3a72-4d90-adae-7c5fdd07eda7\">\n",
              "    <div class=\"colab-df-container\">\n",
              "      <div>\n",
              "<style scoped>\n",
              "    .dataframe tbody tr th:only-of-type {\n",
              "        vertical-align: middle;\n",
              "    }\n",
              "\n",
              "    .dataframe tbody tr th {\n",
              "        vertical-align: top;\n",
              "    }\n",
              "\n",
              "    .dataframe thead th {\n",
              "        text-align: right;\n",
              "    }\n",
              "</style>\n",
              "<table border=\"1\" class=\"dataframe\">\n",
              "  <thead>\n",
              "    <tr style=\"text-align: right;\">\n",
              "      <th></th>\n",
              "      <th>CRIM</th>\n",
              "      <th>ZN</th>\n",
              "      <th>INDUS</th>\n",
              "      <th>CHAS</th>\n",
              "      <th>NOX</th>\n",
              "      <th>RM</th>\n",
              "      <th>AGE</th>\n",
              "      <th>DIS</th>\n",
              "      <th>RAD</th>\n",
              "      <th>TAX</th>\n",
              "      <th>PTRATIO</th>\n",
              "      <th>B</th>\n",
              "      <th>LSTAT</th>\n",
              "      <th>Price</th>\n",
              "    </tr>\n",
              "  </thead>\n",
              "  <tbody>\n",
              "    <tr>\n",
              "      <th>0</th>\n",
              "      <td>0.00632</td>\n",
              "      <td>18.0</td>\n",
              "      <td>2.31</td>\n",
              "      <td>0.0</td>\n",
              "      <td>0.538</td>\n",
              "      <td>6.575</td>\n",
              "      <td>65.2</td>\n",
              "      <td>4.0900</td>\n",
              "      <td>1.0</td>\n",
              "      <td>296.0</td>\n",
              "      <td>15.3</td>\n",
              "      <td>396.90</td>\n",
              "      <td>4.98</td>\n",
              "      <td>24.0</td>\n",
              "    </tr>\n",
              "    <tr>\n",
              "      <th>1</th>\n",
              "      <td>0.02731</td>\n",
              "      <td>0.0</td>\n",
              "      <td>7.07</td>\n",
              "      <td>0.0</td>\n",
              "      <td>0.469</td>\n",
              "      <td>6.421</td>\n",
              "      <td>78.9</td>\n",
              "      <td>4.9671</td>\n",
              "      <td>2.0</td>\n",
              "      <td>242.0</td>\n",
              "      <td>17.8</td>\n",
              "      <td>396.90</td>\n",
              "      <td>9.14</td>\n",
              "      <td>21.6</td>\n",
              "    </tr>\n",
              "    <tr>\n",
              "      <th>2</th>\n",
              "      <td>0.02729</td>\n",
              "      <td>0.0</td>\n",
              "      <td>7.07</td>\n",
              "      <td>0.0</td>\n",
              "      <td>0.469</td>\n",
              "      <td>7.185</td>\n",
              "      <td>61.1</td>\n",
              "      <td>4.9671</td>\n",
              "      <td>2.0</td>\n",
              "      <td>242.0</td>\n",
              "      <td>17.8</td>\n",
              "      <td>392.83</td>\n",
              "      <td>4.03</td>\n",
              "      <td>34.7</td>\n",
              "    </tr>\n",
              "    <tr>\n",
              "      <th>3</th>\n",
              "      <td>0.03237</td>\n",
              "      <td>0.0</td>\n",
              "      <td>2.18</td>\n",
              "      <td>0.0</td>\n",
              "      <td>0.458</td>\n",
              "      <td>6.998</td>\n",
              "      <td>45.8</td>\n",
              "      <td>6.0622</td>\n",
              "      <td>3.0</td>\n",
              "      <td>222.0</td>\n",
              "      <td>18.7</td>\n",
              "      <td>394.63</td>\n",
              "      <td>2.94</td>\n",
              "      <td>33.4</td>\n",
              "    </tr>\n",
              "    <tr>\n",
              "      <th>4</th>\n",
              "      <td>0.06905</td>\n",
              "      <td>0.0</td>\n",
              "      <td>2.18</td>\n",
              "      <td>0.0</td>\n",
              "      <td>0.458</td>\n",
              "      <td>7.147</td>\n",
              "      <td>54.2</td>\n",
              "      <td>6.0622</td>\n",
              "      <td>3.0</td>\n",
              "      <td>222.0</td>\n",
              "      <td>18.7</td>\n",
              "      <td>396.90</td>\n",
              "      <td>5.33</td>\n",
              "      <td>36.2</td>\n",
              "    </tr>\n",
              "  </tbody>\n",
              "</table>\n",
              "</div>\n",
              "      <button class=\"colab-df-convert\" onclick=\"convertToInteractive('df-bf39f55f-3a72-4d90-adae-7c5fdd07eda7')\"\n",
              "              title=\"Convert this dataframe to an interactive table.\"\n",
              "              style=\"display:none;\">\n",
              "        \n",
              "  <svg xmlns=\"http://www.w3.org/2000/svg\" height=\"24px\"viewBox=\"0 0 24 24\"\n",
              "       width=\"24px\">\n",
              "    <path d=\"M0 0h24v24H0V0z\" fill=\"none\"/>\n",
              "    <path d=\"M18.56 5.44l.94 2.06.94-2.06 2.06-.94-2.06-.94-.94-2.06-.94 2.06-2.06.94zm-11 1L8.5 8.5l.94-2.06 2.06-.94-2.06-.94L8.5 2.5l-.94 2.06-2.06.94zm10 10l.94 2.06.94-2.06 2.06-.94-2.06-.94-.94-2.06-.94 2.06-2.06.94z\"/><path d=\"M17.41 7.96l-1.37-1.37c-.4-.4-.92-.59-1.43-.59-.52 0-1.04.2-1.43.59L10.3 9.45l-7.72 7.72c-.78.78-.78 2.05 0 2.83L4 21.41c.39.39.9.59 1.41.59.51 0 1.02-.2 1.41-.59l7.78-7.78 2.81-2.81c.8-.78.8-2.07 0-2.86zM5.41 20L4 18.59l7.72-7.72 1.47 1.35L5.41 20z\"/>\n",
              "  </svg>\n",
              "      </button>\n",
              "      \n",
              "  <style>\n",
              "    .colab-df-container {\n",
              "      display:flex;\n",
              "      flex-wrap:wrap;\n",
              "      gap: 12px;\n",
              "    }\n",
              "\n",
              "    .colab-df-convert {\n",
              "      background-color: #E8F0FE;\n",
              "      border: none;\n",
              "      border-radius: 50%;\n",
              "      cursor: pointer;\n",
              "      display: none;\n",
              "      fill: #1967D2;\n",
              "      height: 32px;\n",
              "      padding: 0 0 0 0;\n",
              "      width: 32px;\n",
              "    }\n",
              "\n",
              "    .colab-df-convert:hover {\n",
              "      background-color: #E2EBFA;\n",
              "      box-shadow: 0px 1px 2px rgba(60, 64, 67, 0.3), 0px 1px 3px 1px rgba(60, 64, 67, 0.15);\n",
              "      fill: #174EA6;\n",
              "    }\n",
              "\n",
              "    [theme=dark] .colab-df-convert {\n",
              "      background-color: #3B4455;\n",
              "      fill: #D2E3FC;\n",
              "    }\n",
              "\n",
              "    [theme=dark] .colab-df-convert:hover {\n",
              "      background-color: #434B5C;\n",
              "      box-shadow: 0px 1px 3px 1px rgba(0, 0, 0, 0.15);\n",
              "      filter: drop-shadow(0px 1px 2px rgba(0, 0, 0, 0.3));\n",
              "      fill: #FFFFFF;\n",
              "    }\n",
              "  </style>\n",
              "\n",
              "      <script>\n",
              "        const buttonEl =\n",
              "          document.querySelector('#df-bf39f55f-3a72-4d90-adae-7c5fdd07eda7 button.colab-df-convert');\n",
              "        buttonEl.style.display =\n",
              "          google.colab.kernel.accessAllowed ? 'block' : 'none';\n",
              "\n",
              "        async function convertToInteractive(key) {\n",
              "          const element = document.querySelector('#df-bf39f55f-3a72-4d90-adae-7c5fdd07eda7');\n",
              "          const dataTable =\n",
              "            await google.colab.kernel.invokeFunction('convertToInteractive',\n",
              "                                                     [key], {});\n",
              "          if (!dataTable) return;\n",
              "\n",
              "          const docLinkHtml = 'Like what you see? Visit the ' +\n",
              "            '<a target=\"_blank\" href=https://colab.research.google.com/notebooks/data_table.ipynb>data table notebook</a>'\n",
              "            + ' to learn more about interactive tables.';\n",
              "          element.innerHTML = '';\n",
              "          dataTable['output_type'] = 'display_data';\n",
              "          await google.colab.output.renderOutput(dataTable, element);\n",
              "          const docLink = document.createElement('div');\n",
              "          docLink.innerHTML = docLinkHtml;\n",
              "          element.appendChild(docLink);\n",
              "        }\n",
              "      </script>\n",
              "    </div>\n",
              "  </div>\n",
              "  "
            ]
          },
          "metadata": {},
          "execution_count": 4
        }
      ]
    },
    {
      "cell_type": "code",
      "source": [
        "data = df.iloc[:, :-1]\n",
        "data.shape\n",
        "data = (data - data.mean(axis=0))/np.sqrt(data.var(axis=0))\n",
        "#data[\"price\"]=df.Price"
      ],
      "metadata": {
        "id": "DtKpIkDEDhYV"
      },
      "execution_count": 5,
      "outputs": []
    },
    {
      "cell_type": "code",
      "source": [
        "X = torch.tensor(data.to_numpy(), dtype=torch.float32) #to_numpy처럼 데이터 변환 중요함\n",
        "print(X.dtype)\n",
        "Y = torch.tensor(df.Price.to_numpy(), dtype=torch.float32).reshape([-1, 1])\n",
        "print(Y.dtype)\n",
        "print(X.shape)\n",
        "print(Y.shape)"
      ],
      "metadata": {
        "colab": {
          "base_uri": "https://localhost:8080/"
        },
        "id": "Z_JDU5itEXnr",
        "outputId": "e23620c7-9eba-4fef-da02-b331d5803e53"
      },
      "execution_count": 7,
      "outputs": [
        {
          "output_type": "stream",
          "name": "stdout",
          "text": [
            "torch.float32\n",
            "torch.float32\n",
            "torch.Size([506, 13])\n",
            "torch.Size([506, 1])\n"
          ]
        }
      ]
    },
    {
      "cell_type": "code",
      "source": [
        "x_train = torch.tensor(X[:400])\n",
        "y_train = torch.tensor(Y[:400])\n",
        "x_test = torch.tensor(X[400:])\n",
        "y_test = torch.tensor(Y[400:])\n",
        "print(x_test.shape, y_train.shape)"
      ],
      "metadata": {
        "colab": {
          "base_uri": "https://localhost:8080/"
        },
        "id": "yHrbU74P15pc",
        "outputId": "9e274ca1-4d28-4e60-cb70-ea55907ea24e"
      },
      "execution_count": 9,
      "outputs": [
        {
          "output_type": "stream",
          "name": "stdout",
          "text": [
            "torch.Size([106, 13]) torch.Size([400, 1])\n"
          ]
        },
        {
          "output_type": "stream",
          "name": "stderr",
          "text": [
            "<ipython-input-9-ebae6b43261f>:1: UserWarning: To copy construct from a tensor, it is recommended to use sourceTensor.clone().detach() or sourceTensor.clone().detach().requires_grad_(True), rather than torch.tensor(sourceTensor).\n",
            "  x_train = torch.tensor(X[:400])\n",
            "<ipython-input-9-ebae6b43261f>:2: UserWarning: To copy construct from a tensor, it is recommended to use sourceTensor.clone().detach() or sourceTensor.clone().detach().requires_grad_(True), rather than torch.tensor(sourceTensor).\n",
            "  y_train = torch.tensor(Y[:400])\n",
            "<ipython-input-9-ebae6b43261f>:3: UserWarning: To copy construct from a tensor, it is recommended to use sourceTensor.clone().detach() or sourceTensor.clone().detach().requires_grad_(True), rather than torch.tensor(sourceTensor).\n",
            "  x_test = torch.tensor(X[400:])\n",
            "<ipython-input-9-ebae6b43261f>:4: UserWarning: To copy construct from a tensor, it is recommended to use sourceTensor.clone().detach() or sourceTensor.clone().detach().requires_grad_(True), rather than torch.tensor(sourceTensor).\n",
            "  y_test = torch.tensor(Y[400:])\n"
          ]
        }
      ]
    },
    {
      "cell_type": "code",
      "source": [
        "train_data = TensorDataset( y_train, x_train,) # 왜 바꾼건지 모르겠음 걍 안바꿔도 되..는듯\n",
        "trainloader= DataLoader(dataset = train_data, batch_size=32, shuffle=True)\n",
        "\n",
        "test_data = TensorDataset(y_test, x_test)\n",
        "testloader= DataLoader(dataset = test_data, batch_size=len(x_test), shuffle=True)\n"
      ],
      "metadata": {
        "id": "ccTnCvWD14_x"
      },
      "execution_count": 10,
      "outputs": []
    },
    {
      "cell_type": "code",
      "source": [
        "print(x_train.shape)"
      ],
      "metadata": {
        "id": "eVbSISsZgNh7",
        "colab": {
          "base_uri": "https://localhost:8080/"
        },
        "outputId": "17117f49-6d0f-46bb-e15a-66808dca0708"
      },
      "execution_count": 11,
      "outputs": [
        {
          "output_type": "stream",
          "name": "stdout",
          "text": [
            "torch.Size([400, 13])\n"
          ]
        }
      ]
    },
    {
      "cell_type": "markdown",
      "source": [
        "Yhat [n,n] - Y[n,n]"
      ],
      "metadata": {
        "id": "DB1-wdD9bBwr"
      }
    },
    {
      "cell_type": "markdown",
      "source": [
        "## 5.0 Linear regression (Base model)"
      ],
      "metadata": {
        "id": "lqhAxcztG7h3"
      }
    },
    {
      "cell_type": "code",
      "source": [
        "LinMod = torch.nn.Linear(13, 1) #X@W+b, W[13,1], b[1,]\n",
        "loss_ftn = torch.nn.MSELoss()\n",
        "optimizer = torch.optim.SGD(LinMod.parameters(), lr=0.01)\n",
        "history = []\n",
        "\n",
        "epochs=20\n",
        "history=[]\n",
        "\n",
        "for epoch in range(epochs):\n",
        "  running_loss =0\n",
        "  for yy, xx in trainloader: #왜 굳이 순서를 바꿔서 이거까지 바꾸게 하는건지 모르겠음\n",
        "    yhat = LinMod(xx)\n",
        "    loss = loss_ftn(yhat, yy) #loss function 정의\n",
        "    loss.backward()\n",
        "    optimizer.step()\n",
        "    optimizer.zero_grad()\n",
        "    running_loss += loss.item()*len(xx)\n",
        "  history.append(running_loss/len(x_train))\n"
      ],
      "metadata": {
        "id": "xdQgZqtYG5n1"
      },
      "execution_count": 12,
      "outputs": []
    },
    {
      "cell_type": "code",
      "source": [],
      "metadata": {
        "id": "Et6Uf2QXHRxj"
      },
      "execution_count": null,
      "outputs": []
    },
    {
      "cell_type": "code",
      "source": [
        "plt.plot(history)"
      ],
      "metadata": {
        "colab": {
          "base_uri": "https://localhost:8080/",
          "height": 283
        },
        "outputId": "040e4aac-1456-4894-838f-b5fd5cf4bc34",
        "id": "qJyLM7w_HTjr"
      },
      "execution_count": 13,
      "outputs": [
        {
          "output_type": "execute_result",
          "data": {
            "text/plain": [
              "[<matplotlib.lines.Line2D at 0x7f58dc317fd0>]"
            ]
          },
          "metadata": {},
          "execution_count": 13
        },
        {
          "output_type": "display_data",
          "data": {
            "text/plain": [
              "<Figure size 432x288 with 1 Axes>"
            ],
            "image/png": "[encoded data removed]"
          },
          "metadata": {
            "needs_background": "light"
          }
        }
      ]
    },
    {
      "cell_type": "code",
      "source": [
        "y_pred = LinMod(x_test)\n",
        "torch.mean((y_test-y_pred)**2) #mse 구하는 문제 낼 수 있음"
      ],
      "metadata": {
        "colab": {
          "base_uri": "https://localhost:8080/"
        },
        "outputId": "9b9c3373-0427-4bb9-fb58-23f612c8a01d",
        "id": "TFdgjrgUHTjr"
      },
      "execution_count": 14,
      "outputs": [
        {
          "output_type": "execute_result",
          "data": {
            "text/plain": [
              "tensor(41.2313, grad_fn=<MeanBackward0>)"
            ]
          },
          "metadata": {},
          "execution_count": 14
        }
      ]
    },
    {
      "cell_type": "code",
      "source": [
        "y_pred = LinMod(x_train)\n",
        "torch.mean((y_train-y_pred)**2)"
      ],
      "metadata": {
        "colab": {
          "base_uri": "https://localhost:8080/"
        },
        "outputId": "f1042dc4-30cb-46ac-e8ea-9d0b44a420fb",
        "id": "XcMatz69HTjr"
      },
      "execution_count": 15,
      "outputs": [
        {
          "output_type": "execute_result",
          "data": {
            "text/plain": [
              "tensor(25.2704, grad_fn=<MeanBackward0>)"
            ]
          },
          "metadata": {},
          "execution_count": 15
        }
      ]
    },
    {
      "cell_type": "code",
      "source": [
        "y_pred = LinMod(x_test)\n",
        "torch.mean(torch.abs(y_test-y_pred)) #mae"
      ],
      "metadata": {
        "colab": {
          "base_uri": "https://localhost:8080/"
        },
        "id": "BmRmnPhJvkEr",
        "outputId": "2c397ed1-f1d8-4317-91d7-1e1cf8e8c79e"
      },
      "execution_count": 17,
      "outputs": [
        {
          "output_type": "execute_result",
          "data": {
            "text/plain": [
              "tensor(4.8171, grad_fn=<MeanBackward0>)"
            ]
          },
          "metadata": {},
          "execution_count": 17
        }
      ]
    },
    {
      "cell_type": "markdown",
      "source": [
        "## 5.1 Create the neural networks using torch function."
      ],
      "metadata": {
        "id": "k2SlGuShI3-M"
      }
    },
    {
      "cell_type": "code",
      "source": [
        "DN1 = torch.nn.Linear(13, 4)\n",
        "DN2 = torch.nn.ReLU()\n",
        "DN3 = torch.nn.Linear(4, 4)\n",
        "DN4 = torch.nn.ReLU()\n",
        "DN5 = torch.nn.Linear(4, 1)\n",
        "loss_ftn = torch.nn.MSELoss()\n",
        "optimizer = torch.optim.SGD(list(DN1.parameters())+list(DN3.parameters())+list(DN5.parameters()), lr=0.001)\n",
        "history = []"
      ],
      "metadata": {
        "id": "DqJ-uNsjI24I"
      },
      "execution_count": 18,
      "outputs": []
    },
    {
      "cell_type": "code",
      "source": [
        "epochs=50\n",
        "history=[]\n",
        "\n",
        "for epoch in range(epochs):\n",
        "  running_loss =0\n",
        "  for yy, xx in trainloader:\n",
        "    xx = DN1(xx)\n",
        "    xx = DN2(xx)\n",
        "    xx = DN3(xx)\n",
        "    xx = DN4(xx)\n",
        "    yhat = DN5(xx)\n",
        "    loss = loss_ftn(yhat, yy)\n",
        "    loss.backward()\n",
        "    optimizer.step()\n",
        "    optimizer.zero_grad()\n",
        "    running_loss += loss*len(xx)\n",
        "  history.append(running_loss.item()/len(x_train))"
      ],
      "metadata": {
        "id": "zoTSeIA2JRXN"
      },
      "execution_count": 19,
      "outputs": []
    },
    {
      "cell_type": "code",
      "source": [
        "history[-1]"
      ],
      "metadata": {
        "colab": {
          "base_uri": "https://localhost:8080/"
        },
        "id": "wRjtSlqrJdJF",
        "outputId": "5c0f2e04-0e8a-4aa0-fc6c-e4c6503efcf8"
      },
      "execution_count": 20,
      "outputs": [
        {
          "output_type": "execute_result",
          "data": {
            "text/plain": [
              "14.6670068359375"
            ]
          },
          "metadata": {},
          "execution_count": 20
        }
      ]
    },
    {
      "cell_type": "code",
      "source": [
        "plt.plot(history)"
      ],
      "metadata": {
        "colab": {
          "base_uri": "https://localhost:8080/",
          "height": 283
        },
        "outputId": "30a60ee7-0d1e-4ad8-d747-a0b6dc2fb0d2",
        "id": "x_nAP9OCJdOZ"
      },
      "execution_count": 21,
      "outputs": [
        {
          "output_type": "execute_result",
          "data": {
            "text/plain": [
              "[<matplotlib.lines.Line2D at 0x7f58dbc6dc70>]"
            ]
          },
          "metadata": {},
          "execution_count": 21
        },
        {
          "output_type": "display_data",
          "data": {
            "text/plain": [
              "<Figure size 432x288 with 1 Axes>"
            ],
            "image/png": "[encoded data removed]"
          },
          "metadata": {
            "needs_background": "light"
          }
        }
      ]
    },
    {
      "cell_type": "code",
      "source": [
        "xx = DN1(x_train)\n",
        "xx = DN2(xx)\n",
        "xx = DN3(xx)\n",
        "xx = DN4(xx)\n",
        "y_pred = DN5(xx)\n",
        "torch.mean((y_train-y_pred)**2)"
      ],
      "metadata": {
        "colab": {
          "base_uri": "https://localhost:8080/"
        },
        "outputId": "6baa858d-77f8-4be2-9de1-d40c8ea70058",
        "id": "nghPFnRUJdOZ"
      },
      "execution_count": 22,
      "outputs": [
        {
          "output_type": "execute_result",
          "data": {
            "text/plain": [
              "tensor(13.9896, grad_fn=<MeanBackward0>)"
            ]
          },
          "metadata": {},
          "execution_count": 22
        }
      ]
    },
    {
      "cell_type": "code",
      "source": [
        "xx = DN1(x_test)\n",
        "xx = DN2(xx)\n",
        "xx = DN3(xx)\n",
        "xx = DN4(xx)\n",
        "y_pred = DN5(xx)\n",
        "torch.mean((y_test-y_pred)**2)"
      ],
      "metadata": {
        "colab": {
          "base_uri": "https://localhost:8080/"
        },
        "outputId": "8e55232a-6f72-4654-ef53-7188643df3aa",
        "id": "WSJaCHxkJdOa"
      },
      "execution_count": 23,
      "outputs": [
        {
          "output_type": "execute_result",
          "data": {
            "text/plain": [
              "tensor(20.9623, grad_fn=<MeanBackward0>)"
            ]
          },
          "metadata": {},
          "execution_count": 23
        }
      ]
    },
    {
      "cell_type": "markdown",
      "source": [
        "## 5.1. Create the neural networks using `torch.nn.Sequential`.\n",
        "\n",
        "A sequential container. Modules will be added to it in the order they are passed in the constructor. Alternatively, an OrderedDict of modules can be passed in. The forward() method of Sequential accepts any input and forwards it to the first module it contains. It then “chains” outputs to inputs sequentially for each subsequent module, finally returning the output of the last module."
      ],
      "metadata": {
        "id": "99QfPopBgN8r"
      }
    },
    {
      "cell_type": "code",
      "source": [
        "DN = torch.nn.Sequential(\n",
        "    torch.nn.Linear(13, 5), \n",
        "    torch.nn.ReLU(),\n",
        "    torch.nn.Linear(5, 5), \n",
        "    torch.nn.ReLU(),\n",
        "    torch.nn.Linear(5, 1), \n",
        ")\n",
        "\n",
        "loss_ftn = torch.nn.MSELoss()\n",
        "optimizer = torch.optim.SGD(DN.parameters(), lr=0.001)\n",
        "history = []"
      ],
      "metadata": {
        "id": "-2IcU1GEf6R4"
      },
      "execution_count": 24,
      "outputs": []
    },
    {
      "cell_type": "code",
      "source": [
        "epochs=50\n",
        "history=[]\n",
        "\n",
        "for epoch in range(epochs):\n",
        "  running_loss =0\n",
        "  for yy, xx in trainloader:\n",
        "    optimizer.zero_grad()\n",
        "    yhat = DN(xx)\n",
        "    loss = loss_ftn(yhat, yy)\n",
        "    loss.backward()\n",
        "    optimizer.step()\n",
        "    running_loss += loss.item()*len(xx)\n",
        "  history.append(running_loss/len(trainloader.dataset))"
      ],
      "metadata": {
        "id": "C74rsI-zg11Z"
      },
      "execution_count": 25,
      "outputs": []
    },
    {
      "cell_type": "code",
      "source": [
        "plt.plot(history)"
      ],
      "metadata": {
        "id": "q6g-BBRwg7S_",
        "colab": {
          "base_uri": "https://localhost:8080/",
          "height": 283
        },
        "outputId": "e661ca51-d5a7-4272-a53d-5ee7f7ed8f4d"
      },
      "execution_count": 28,
      "outputs": [
        {
          "output_type": "execute_result",
          "data": {
            "text/plain": [
              "[<matplotlib.lines.Line2D at 0x7f58dbb6bd90>]"
            ]
          },
          "metadata": {},
          "execution_count": 28
        },
        {
          "output_type": "display_data",
          "data": {
            "text/plain": [
              "<Figure size 432x288 with 1 Axes>"
            ],
            "image/png": "[encoded data removed]"
          },
          "metadata": {
            "needs_background": "light"
          }
        }
      ]
    },
    {
      "cell_type": "code",
      "source": [
        "y_pred = DN(x_test)\n",
        "torch.mean((y_test-y_pred)**2)"
      ],
      "metadata": {
        "id": "hG_cn6aiCoRA",
        "colab": {
          "base_uri": "https://localhost:8080/"
        },
        "outputId": "37e64355-81ca-4aae-d689-27806f305b5a"
      },
      "execution_count": 29,
      "outputs": [
        {
          "output_type": "execute_result",
          "data": {
            "text/plain": [
              "tensor(21.0433, grad_fn=<MeanBackward0>)"
            ]
          },
          "metadata": {},
          "execution_count": 29
        }
      ]
    },
    {
      "cell_type": "code",
      "source": [
        "y_pred = DN(x_train)\n",
        "torch.mean((y_train-y_pred)**2)"
      ],
      "metadata": {
        "id": "dPujMFUZCoRA",
        "colab": {
          "base_uri": "https://localhost:8080/"
        },
        "outputId": "60028937-4f05-4a58-a576-1351e00b881c"
      },
      "execution_count": 30,
      "outputs": [
        {
          "output_type": "execute_result",
          "data": {
            "text/plain": [
              "tensor(10.5453, grad_fn=<MeanBackward0>)"
            ]
          },
          "metadata": {},
          "execution_count": 30
        }
      ]
    },
    {
      "cell_type": "code",
      "source": [
        "list(DN.named_parameters())"
      ],
      "metadata": {
        "id": "NrgZdH2OhMrI",
        "colab": {
          "base_uri": "https://localhost:8080/"
        },
        "outputId": "bf0ed9a9-4d53-4505-943d-fd46d75e6dad"
      },
      "execution_count": 31,
      "outputs": [
        {
          "output_type": "execute_result",
          "data": {
            "text/plain": [
              "[('0.weight', Parameter containing:\n",
              "  tensor([[-0.2144,  0.0436,  0.3974, -0.0555, -0.3821,  0.1576,  0.2428, -0.7744,\n",
              "            0.2825,  0.1554, -0.0338, -0.0824, -1.2144],\n",
              "          [-0.2467, -0.0902, -0.3945, -0.1389,  0.1018,  0.7408, -0.3341,  0.2546,\n",
              "           -0.4359, -0.7455, -0.3479,  0.2626,  0.4274],\n",
              "          [-0.3002, -0.2989,  0.1608,  0.2851, -0.1404, -0.7076,  0.0145, -0.3163,\n",
              "            0.0287,  0.1880,  0.1996, -0.1074, -0.1931],\n",
              "          [ 0.0685, -0.0367,  0.1258,  0.2627, -0.1083,  0.5709, -0.2116, -0.2687,\n",
              "            0.2175,  0.0519, -0.1126, -0.2261, -0.1848],\n",
              "          [ 0.0864,  0.2427,  0.1556,  0.0285,  0.0355,  0.3062,  0.0605,  0.1612,\n",
              "            0.2119,  0.3136,  0.1539,  0.1334, -0.8804]], requires_grad=True)),\n",
              " ('0.bias', Parameter containing:\n",
              "  tensor([ 0.7801,  1.1423,  0.4408,  0.1107, -0.0784], requires_grad=True)),\n",
              " ('2.weight', Parameter containing:\n",
              "  tensor([[ 0.1424, -0.1078, -0.0767, -0.1953, -0.0159],\n",
              "          [-0.0693, -0.3805, -0.0849,  0.1855,  0.0243],\n",
              "          [-0.3912, -0.3135,  0.1183,  0.2957,  0.2940],\n",
              "          [ 0.8656,  0.6959,  0.0600,  0.1460,  0.5063],\n",
              "          [ 1.4109,  1.5424,  1.0748,  0.6826,  0.7362]], requires_grad=True)),\n",
              " ('2.bias', Parameter containing:\n",
              "  tensor([-0.0206,  0.2376, -0.2651,  0.9196,  1.2231], requires_grad=True)),\n",
              " ('4.weight', Parameter containing:\n",
              "  tensor([[-0.1240, -0.0810,  0.0134,  1.4173,  2.7422]], requires_grad=True)),\n",
              " ('4.bias', Parameter containing:\n",
              "  tensor([0.9032], requires_grad=True))]"
            ]
          },
          "metadata": {},
          "execution_count": 31
        }
      ]
    },
    {
      "cell_type": "code",
      "source": [
        "for name, param in DN.named_parameters():\n",
        "  print(name)"
      ],
      "metadata": {
        "id": "ok4j-HmJh3OE",
        "colab": {
          "base_uri": "https://localhost:8080/"
        },
        "outputId": "644bc0f6-7c98-44d7-ccb9-3a2ea626c493"
      },
      "execution_count": 32,
      "outputs": [
        {
          "output_type": "stream",
          "name": "stdout",
          "text": [
            "0.weight\n",
            "0.bias\n",
            "2.weight\n",
            "2.bias\n",
            "4.weight\n",
            "4.bias\n"
          ]
        }
      ]
    },
    {
      "cell_type": "code",
      "source": [
        "type(DN.named_parameters())"
      ],
      "metadata": {
        "id": "1ZIqza8lh-Tg",
        "colab": {
          "base_uri": "https://localhost:8080/"
        },
        "outputId": "4d407630-cae9-4367-a6c4-be5807610204"
      },
      "execution_count": 33,
      "outputs": [
        {
          "output_type": "execute_result",
          "data": {
            "text/plain": [
              "generator"
            ]
          },
          "metadata": {},
          "execution_count": 33
        }
      ]
    },
    {
      "cell_type": "code",
      "source": [
        "DN.state_dict().keys()"
      ],
      "metadata": {
        "id": "enK9op9dGtIR"
      },
      "execution_count": null,
      "outputs": []
    },
    {
      "cell_type": "code",
      "source": [
        "DN.state_dict()[\"0.weight\"].T.shape #이거 왜 교수님은 tensor(0,) 나옴\n",
        "torch.nn.functional.relu_(torch.tensor(3.0))"
      ],
      "metadata": {
        "id": "8brO9n9BxUkW",
        "colab": {
          "base_uri": "https://localhost:8080/"
        },
        "outputId": "6ad7d081-21a7-4043-e81a-66233d9a9ac4"
      },
      "execution_count": 34,
      "outputs": [
        {
          "output_type": "execute_result",
          "data": {
            "text/plain": [
              "tensor(3.)"
            ]
          },
          "metadata": {},
          "execution_count": 34
        }
      ]
    },
    {
      "cell_type": "markdown",
      "source": [
        "## Exercise: \n",
        "\n",
        "Without using `DN(x_test)`, calculate `y_hat_test`\n",
        "\n",
        "Hint: Use the following command to retrieve the trained weights.\n",
        "\n",
        "``DN.state_dict() ``"
      ],
      "metadata": {
        "id": "KBJtnG57Hej6"
      }
    },
    {
      "cell_type": "code",
      "source": [
        "DN.state_dict().keys()\n",
        "relu=torch.nn.ReLU()\n",
        "relu(torch.tensor(-3.0))"
      ],
      "metadata": {
        "id": "IxFvCD_3Hd7z",
        "colab": {
          "base_uri": "https://localhost:8080/"
        },
        "outputId": "8c58b0c8-3e3e-409c-8168-795a88684c8c"
      },
      "execution_count": 35,
      "outputs": [
        {
          "output_type": "execute_result",
          "data": {
            "text/plain": [
              "tensor(0.)"
            ]
          },
          "metadata": {},
          "execution_count": 35
        }
      ]
    },
    {
      "cell_type": "code",
      "source": [
        "W0=DN.state_dict()[\"0.weight\"].T\n",
        "b0=DN.state_dict()[\"0.bias\"]\n",
        "W2=DN.state_dict()[\"2.weight\"].T\n",
        "b2=DN.state_dict()[\"2.bias\"]\n",
        "W4=DN.state_dict()[\"4.weight\"].T\n",
        "b4=DN.state_dict()[\"4.bias\"]\n",
        "#시험문제 여기까지 주고 test mse 계산하시오 하면 밑에 코드 쓰면 된대\n",
        "\n",
        "xx=relu(x_train @ W0+b0)\n",
        "xx=relu(xx @ W2+b2)\n",
        "yhat_train=xx @ W4+b4\n",
        "\n",
        "torch.mean((yhat_train-y_train)**2)"
      ],
      "metadata": {
        "id": "bijM7xFiH6xG",
        "colab": {
          "base_uri": "https://localhost:8080/"
        },
        "outputId": "582b808e-8c19-4ec9-98d2-d0ba608f4072"
      },
      "execution_count": 36,
      "outputs": [
        {
          "output_type": "execute_result",
          "data": {
            "text/plain": [
              "tensor(10.5453)"
            ]
          },
          "metadata": {},
          "execution_count": 36
        }
      ]
    },
    {
      "cell_type": "markdown",
      "source": [
        "## 5.2. Custom layer"
      ],
      "metadata": {
        "id": "G5geBoREu3-m"
      }
    },
    {
      "cell_type": "code",
      "source": [
        "nparam1=5\n",
        "nparam2=5\n",
        "class my_dn(torch.nn.Module):\n",
        "    def __init__(self):\n",
        "        \"\"\"\n",
        "        In the constructor we instantiate four parameters and assign them as\n",
        "        member parameters.\n",
        "        \"\"\"\n",
        "        super().__init__()\n",
        "        self.weight1 = torch.nn.Parameter(torch.randn(([13, nparam1])))\n",
        "        self.bias1 = torch.nn.Parameter(torch.randn(([nparam1,])))\n",
        "        self.weight2 = torch.nn.Parameter(torch.randn(([nparam1, nparam2])))\n",
        "        self.bias2 = torch.nn.Parameter(torch.randn(([nparam2,])))\n",
        "        self.weight3 = torch.nn.Parameter(torch.randn(([nparam2, 1])))\n",
        "        self.bias3 = torch.nn.Parameter(torch.randn(([1,])))\n",
        "\n",
        "    def forward(self, x):\n",
        "        \"\"\"\n",
        "        In the forward function we accept a Tensor of input data and we must return\n",
        "        a Tensor of output data. We can use Modules defined in the constructor as\n",
        "        well as arbitrary operators on Tensors.\n",
        "        \"\"\"\n",
        "        x = x@self.weight1 + self.bias1\n",
        "        x = self.relu(x) #relu? relu1?\n",
        "        x = x@self.weight2 + self.bias2\n",
        "        x = self.relu(x)\n",
        "        x = x@self.weight3 + self.bias3\n",
        "        return x"
      ],
      "metadata": {
        "id": "HOZVUpTLuclm"
      },
      "execution_count": 40,
      "outputs": []
    },
    {
      "cell_type": "code",
      "source": [
        "DN = my_dn()\n",
        "loss_ftn = torch.nn.MSELoss()\n",
        "optimizer = torch.optim.SGD(DN.parameters(), lr=0.001)\n",
        "history = []"
      ],
      "metadata": {
        "id": "aoh96jz_xxgR"
      },
      "execution_count": 41,
      "outputs": []
    },
    {
      "cell_type": "code",
      "source": [
        "epochs=200\n",
        "history=[]\n",
        "\n",
        "for epoch in range(epochs):\n",
        "  running_loss =0\n",
        "  for yy, xx in trainloader:\n",
        "    optimizer.zero_grad()\n",
        "    yhat = DN(xx)\n",
        "    loss = loss_ftn(yhat, yy)\n",
        "    loss.backward()\n",
        "    optimizer.step()\n",
        "    running_loss += loss.item()*len(xx)\n",
        "  history.append(running_loss/len(trainloader.dataset))"
      ],
      "metadata": {
        "id": "khtXL5_cxxgS",
        "colab": {
          "base_uri": "https://localhost:8080/",
          "height": 400
        },
        "outputId": "1fb675c0-69cf-4de5-954d-27cc679f4462"
      },
      "execution_count": 42,
      "outputs": [
        {
          "output_type": "error",
          "ename": "AttributeError",
          "evalue": "ignored",
          "traceback": [
            "\u001b[0;31m---------------------------------------------------------------------------\u001b[0m",
            "\u001b[0;31mAttributeError\u001b[0m                            Traceback (most recent call last)",
            "\u001b[0;32m<ipython-input-42-58ae901cfacb>\u001b[0m in \u001b[0;36m<module>\u001b[0;34m\u001b[0m\n\u001b[1;32m      6\u001b[0m   \u001b[0;32mfor\u001b[0m \u001b[0myy\u001b[0m\u001b[0;34m,\u001b[0m \u001b[0mxx\u001b[0m \u001b[0;32min\u001b[0m \u001b[0mtrainloader\u001b[0m\u001b[0;34m:\u001b[0m\u001b[0;34m\u001b[0m\u001b[0;34m\u001b[0m\u001b[0m\n\u001b[1;32m      7\u001b[0m     \u001b[0moptimizer\u001b[0m\u001b[0;34m.\u001b[0m\u001b[0mzero_grad\u001b[0m\u001b[0;34m(\u001b[0m\u001b[0;34m)\u001b[0m\u001b[0;34m\u001b[0m\u001b[0;34m\u001b[0m\u001b[0m\n\u001b[0;32m----> 8\u001b[0;31m     \u001b[0myhat\u001b[0m \u001b[0;34m=\u001b[0m \u001b[0mDN\u001b[0m\u001b[0;34m(\u001b[0m\u001b[0mxx\u001b[0m\u001b[0;34m)\u001b[0m\u001b[0;34m\u001b[0m\u001b[0;34m\u001b[0m\u001b[0m\n\u001b[0m\u001b[1;32m      9\u001b[0m     \u001b[0mloss\u001b[0m \u001b[0;34m=\u001b[0m \u001b[0mloss_ftn\u001b[0m\u001b[0;34m(\u001b[0m\u001b[0myhat\u001b[0m\u001b[0;34m,\u001b[0m \u001b[0myy\u001b[0m\u001b[0;34m)\u001b[0m\u001b[0;34m\u001b[0m\u001b[0;34m\u001b[0m\u001b[0m\n\u001b[1;32m     10\u001b[0m     \u001b[0mloss\u001b[0m\u001b[0;34m.\u001b[0m\u001b[0mbackward\u001b[0m\u001b[0;34m(\u001b[0m\u001b[0;34m)\u001b[0m\u001b[0;34m\u001b[0m\u001b[0;34m\u001b[0m\u001b[0m\n",
            "\u001b[0;32m/usr/local/lib/python3.8/dist-packages/torch/nn/modules/module.py\u001b[0m in \u001b[0;36m_call_impl\u001b[0;34m(self, *input, **kwargs)\u001b[0m\n\u001b[1;32m   1188\u001b[0m         if not (self._backward_hooks or self._forward_hooks or self._forward_pre_hooks or _global_backward_hooks\n\u001b[1;32m   1189\u001b[0m                 or _global_forward_hooks or _global_forward_pre_hooks):\n\u001b[0;32m-> 1190\u001b[0;31m             \u001b[0;32mreturn\u001b[0m \u001b[0mforward_call\u001b[0m\u001b[0;34m(\u001b[0m\u001b[0;34m*\u001b[0m\u001b[0minput\u001b[0m\u001b[0;34m,\u001b[0m \u001b[0;34m**\u001b[0m\u001b[0mkwargs\u001b[0m\u001b[0;34m)\u001b[0m\u001b[0;34m\u001b[0m\u001b[0;34m\u001b[0m\u001b[0m\n\u001b[0m\u001b[1;32m   1191\u001b[0m         \u001b[0;31m# Do not call functions when jit is used\u001b[0m\u001b[0;34m\u001b[0m\u001b[0;34m\u001b[0m\u001b[0;34m\u001b[0m\u001b[0m\n\u001b[1;32m   1192\u001b[0m         \u001b[0mfull_backward_hooks\u001b[0m\u001b[0;34m,\u001b[0m \u001b[0mnon_full_backward_hooks\u001b[0m \u001b[0;34m=\u001b[0m \u001b[0;34m[\u001b[0m\u001b[0;34m]\u001b[0m\u001b[0;34m,\u001b[0m \u001b[0;34m[\u001b[0m\u001b[0;34m]\u001b[0m\u001b[0;34m\u001b[0m\u001b[0;34m\u001b[0m\u001b[0m\n",
            "\u001b[0;32m<ipython-input-40-d86caafa4c29>\u001b[0m in \u001b[0;36mforward\u001b[0;34m(self, x)\u001b[0m\n\u001b[1;32m     22\u001b[0m         \"\"\"\n\u001b[1;32m     23\u001b[0m         \u001b[0mx\u001b[0m \u001b[0;34m=\u001b[0m \u001b[0mx\u001b[0m\u001b[0;34m@\u001b[0m\u001b[0mself\u001b[0m\u001b[0;34m.\u001b[0m\u001b[0mweight1\u001b[0m \u001b[0;34m+\u001b[0m \u001b[0mself\u001b[0m\u001b[0;34m.\u001b[0m\u001b[0mbias1\u001b[0m\u001b[0;34m\u001b[0m\u001b[0;34m\u001b[0m\u001b[0m\n\u001b[0;32m---> 24\u001b[0;31m         \u001b[0mx\u001b[0m \u001b[0;34m=\u001b[0m \u001b[0mself\u001b[0m\u001b[0;34m.\u001b[0m\u001b[0mrelu\u001b[0m\u001b[0;34m(\u001b[0m\u001b[0mx\u001b[0m\u001b[0;34m)\u001b[0m \u001b[0;31m#relu? relu1?\u001b[0m\u001b[0;34m\u001b[0m\u001b[0;34m\u001b[0m\u001b[0m\n\u001b[0m\u001b[1;32m     25\u001b[0m         \u001b[0mx\u001b[0m \u001b[0;34m=\u001b[0m \u001b[0mx\u001b[0m\u001b[0;34m@\u001b[0m\u001b[0mself\u001b[0m\u001b[0;34m.\u001b[0m\u001b[0mweight2\u001b[0m \u001b[0;34m+\u001b[0m \u001b[0mself\u001b[0m\u001b[0;34m.\u001b[0m\u001b[0mbias2\u001b[0m\u001b[0;34m\u001b[0m\u001b[0;34m\u001b[0m\u001b[0m\n\u001b[1;32m     26\u001b[0m         \u001b[0mx\u001b[0m \u001b[0;34m=\u001b[0m \u001b[0mself\u001b[0m\u001b[0;34m.\u001b[0m\u001b[0mrelu\u001b[0m\u001b[0;34m(\u001b[0m\u001b[0mx\u001b[0m\u001b[0;34m)\u001b[0m\u001b[0;34m\u001b[0m\u001b[0;34m\u001b[0m\u001b[0m\n",
            "\u001b[0;32m/usr/local/lib/python3.8/dist-packages/torch/nn/modules/module.py\u001b[0m in \u001b[0;36m__getattr__\u001b[0;34m(self, name)\u001b[0m\n\u001b[1;32m   1263\u001b[0m             \u001b[0;32mif\u001b[0m \u001b[0mname\u001b[0m \u001b[0;32min\u001b[0m \u001b[0mmodules\u001b[0m\u001b[0;34m:\u001b[0m\u001b[0;34m\u001b[0m\u001b[0;34m\u001b[0m\u001b[0m\n\u001b[1;32m   1264\u001b[0m                 \u001b[0;32mreturn\u001b[0m \u001b[0mmodules\u001b[0m\u001b[0;34m[\u001b[0m\u001b[0mname\u001b[0m\u001b[0;34m]\u001b[0m\u001b[0;34m\u001b[0m\u001b[0;34m\u001b[0m\u001b[0m\n\u001b[0;32m-> 1265\u001b[0;31m         raise AttributeError(\"'{}' object has no attribute '{}'\".format(\n\u001b[0m\u001b[1;32m   1266\u001b[0m             type(self).__name__, name))\n\u001b[1;32m   1267\u001b[0m \u001b[0;34m\u001b[0m\u001b[0m\n",
            "\u001b[0;31mAttributeError\u001b[0m: 'my_dn' object has no attribute 'relu'"
          ]
        }
      ]
    },
    {
      "cell_type": "code",
      "source": [],
      "metadata": {
        "id": "k6HRii4XKqcX"
      },
      "execution_count": null,
      "outputs": []
    },
    {
      "cell_type": "code",
      "source": [
        "plt.plot(history)"
      ],
      "metadata": {
        "id": "bB-GailMKqfk"
      },
      "execution_count": null,
      "outputs": []
    },
    {
      "cell_type": "code",
      "source": [
        "y_pred = DN(x_test)\n",
        "torch.mean((y_test-y_pred)**2)"
      ],
      "metadata": {
        "id": "khccPWOhKqfk"
      },
      "execution_count": null,
      "outputs": []
    },
    {
      "cell_type": "code",
      "source": [
        "y_pred = DN(x_train)\n",
        "torch.mean((y_train-y_pred)**2)"
      ],
      "metadata": {
        "id": "yzAaRDKCKqfk"
      },
      "execution_count": null,
      "outputs": []
    },
    {
      "cell_type": "markdown",
      "source": [
        "### Exercise:\n",
        "\n",
        " Using predefined layer in the customed module, do the same thing.\n",
        "\n",
        " Hint: you can modify the following class function."
      ],
      "metadata": {
        "id": "59IuQ00t1IVG"
      }
    },
    {
      "cell_type": "code",
      "source": [
        "class my_dn2(torch.nn.Module):\n",
        "    def __init__(self):\n",
        "        super().__init__()\n",
        "        self.linear1 = torch.nn.Linear(13, 5)\n",
        "        self.relu = torch.nn.ReLU()\n",
        "        self.linear2 = torch.nn.Linear(5, 4)\n",
        "        self.linear3 = torch.nn.Linear(4, 1)\n",
        "    def forward(self, x):\n",
        "        x = self.linear1(x)\n",
        "        x = self.relu(x)\n",
        "        x = self.linear2(x)\n",
        "        x = self.relu(x)\n",
        "        x = self.linear3(x)\n",
        "        return x"
      ],
      "metadata": {
        "id": "NHa6Fe3myt95"
      },
      "execution_count": null,
      "outputs": []
    },
    {
      "cell_type": "code",
      "source": [
        "DN=my_dn2()"
      ],
      "metadata": {
        "id": "kotDCBwHva_C"
      },
      "execution_count": null,
      "outputs": []
    },
    {
      "cell_type": "code",
      "source": [
        "loss_ftn=torch.nn.MSELoss()\n",
        "optimizer=torch.optim.SGD(DN.parameters(),lr=0.001)\n",
        "history=[]"
      ],
      "metadata": {
        "id": "gJvvf3HmvByR"
      },
      "execution_count": null,
      "outputs": []
    },
    {
      "cell_type": "code",
      "source": [
        "epochs=50\n",
        "history=[]\n",
        "\n",
        "for epoch in range(epochs):\n",
        "  #이런거 있는 코드 위에서 긁어오면 돼 plot_history까지"
      ],
      "metadata": {
        "id": "QoRny9rivBvU"
      },
      "execution_count": null,
      "outputs": []
    },
    {
      "cell_type": "code",
      "source": [],
      "metadata": {
        "id": "TDMoMUa5vBtV"
      },
      "execution_count": null,
      "outputs": []
    },
    {
      "cell_type": "code",
      "source": [],
      "metadata": {
        "id": "K78keZkRvBrG"
      },
      "execution_count": null,
      "outputs": []
    },
    {
      "cell_type": "code",
      "source": [],
      "metadata": {
        "id": "ucQhabruvBok"
      },
      "execution_count": null,
      "outputs": []
    },
    {
      "cell_type": "markdown",
      "source": [
        "### Example 5.2.1.1: \n",
        "\n",
        "In the trained `DN2` layer, you want to calculate the test MSE. The first step would be to use the following \n",
        "```\n",
        "y_pred = DN2(x_test)\n",
        "```\n",
        "\n",
        "Replace `y_pred = DN2(x_test)` with python code using such as`DN2.linear1` and `DN2.linear2`. Then, calculate the test MSE."
      ],
      "metadata": {
        "id": "4zFRlaMN1oqX"
      }
    },
    {
      "cell_type": "markdown",
      "source": [
        "### Example 5.2.1.2: \n",
        "\n",
        "In `DN2` layer, replace one of linear layer `self.linear2 = torch.nn.Linear(64, 10)` with user defined weight and bias. Then, repeat the same procedure in Example 4.2.1.1 to calculate the test MSE."
      ],
      "metadata": {
        "id": "-SN50LOo1c1h"
      }
    }
  ]
}