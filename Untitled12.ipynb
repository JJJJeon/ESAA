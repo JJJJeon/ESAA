{
  "nbformat": 4,
  "nbformat_minor": 0,
  "metadata": {
    "colab": {
      "provenance": [],
      "collapsed_sections": [],
      "authorship_tag": "ABX9TyP8eQ5zNeejYrJBKwqeb8DS",
      "include_colab_link": true
    },
    "kernelspec": {
      "name": "python3",
      "display_name": "Python 3"
    },
    "language_info": {
      "name": "python"
    }
  },
  "cells": [
    {
      "cell_type": "markdown",
      "metadata": {
        "id": "view-in-github",
        "colab_type": "text"
      },
      "source": [
        "<a href=\"https://colab.research.google.com/github/JJJJeon/ESAA/blob/main/Untitled12.ipynb\" target=\"_parent\"><img src=\"https://colab.research.google.com/assets/colab-badge.svg\" alt=\"Open In Colab\"/></a>"
      ]
    },
    {
      "cell_type": "code",
      "execution_count": 2,
      "metadata": {
        "colab": {
          "base_uri": "https://localhost:8080/",
          "height": 206
        },
        "id": "RQyIH4994ivm",
        "outputId": "9d41fa95-c7b5-41e0-de80-c68a95ea4d1d"
      },
      "outputs": [
        {
          "output_type": "execute_result",
          "data": {
            "text/plain": [
              "       title   distributor genre release_time  time screening_rat director  \\\n",
              "0     개들의 전쟁      롯데엔터테인먼트    액션   2012-11-22    96      청소년 관람불가      조병옥   \n",
              "1       내부자들        (주)쇼박스   느와르   2015-11-19   130      청소년 관람불가      우민호   \n",
              "2  은밀하게 위대하게        (주)쇼박스    액션   2013-06-05   123       15세 관람가      장철수   \n",
              "3   나는 공무원이다        (주)NEW   코미디   2012-07-12   101        전체 관람가      구자홍   \n",
              "4       불량남녀  쇼박스(주)미디어플렉스   코미디   2010-11-04   108       15세 관람가      신근호   \n",
              "\n",
              "   dir_prev_bfnum  dir_prev_num  num_staff  num_actor  box_off_num  \n",
              "0             NaN             0         91          2        23398  \n",
              "1      1161602.50             2        387          3      7072501  \n",
              "2       220775.25             4        343          4      6959083  \n",
              "3        23894.00             2         20          6       217866  \n",
              "4            1.00             1        251          2       483387  "
            ],
            "text/html": [
              "\n",
              "  <div id=\"df-f79171cb-ff21-4638-af3d-ba497ab99d94\">\n",
              "    <div class=\"colab-df-container\">\n",
              "      <div>\n",
              "<style scoped>\n",
              "    .dataframe tbody tr th:only-of-type {\n",
              "        vertical-align: middle;\n",
              "    }\n",
              "\n",
              "    .dataframe tbody tr th {\n",
              "        vertical-align: top;\n",
              "    }\n",
              "\n",
              "    .dataframe thead th {\n",
              "        text-align: right;\n",
              "    }\n",
              "</style>\n",
              "<table border=\"1\" class=\"dataframe\">\n",
              "  <thead>\n",
              "    <tr style=\"text-align: right;\">\n",
              "      <th></th>\n",
              "      <th>title</th>\n",
              "      <th>distributor</th>\n",
              "      <th>genre</th>\n",
              "      <th>release_time</th>\n",
              "      <th>time</th>\n",
              "      <th>screening_rat</th>\n",
              "      <th>director</th>\n",
              "      <th>dir_prev_bfnum</th>\n",
              "      <th>dir_prev_num</th>\n",
              "      <th>num_staff</th>\n",
              "      <th>num_actor</th>\n",
              "      <th>box_off_num</th>\n",
              "    </tr>\n",
              "  </thead>\n",
              "  <tbody>\n",
              "    <tr>\n",
              "      <th>0</th>\n",
              "      <td>개들의 전쟁</td>\n",
              "      <td>롯데엔터테인먼트</td>\n",
              "      <td>액션</td>\n",
              "      <td>2012-11-22</td>\n",
              "      <td>96</td>\n",
              "      <td>청소년 관람불가</td>\n",
              "      <td>조병옥</td>\n",
              "      <td>NaN</td>\n",
              "      <td>0</td>\n",
              "      <td>91</td>\n",
              "      <td>2</td>\n",
              "      <td>23398</td>\n",
              "    </tr>\n",
              "    <tr>\n",
              "      <th>1</th>\n",
              "      <td>내부자들</td>\n",
              "      <td>(주)쇼박스</td>\n",
              "      <td>느와르</td>\n",
              "      <td>2015-11-19</td>\n",
              "      <td>130</td>\n",
              "      <td>청소년 관람불가</td>\n",
              "      <td>우민호</td>\n",
              "      <td>1161602.50</td>\n",
              "      <td>2</td>\n",
              "      <td>387</td>\n",
              "      <td>3</td>\n",
              "      <td>7072501</td>\n",
              "    </tr>\n",
              "    <tr>\n",
              "      <th>2</th>\n",
              "      <td>은밀하게 위대하게</td>\n",
              "      <td>(주)쇼박스</td>\n",
              "      <td>액션</td>\n",
              "      <td>2013-06-05</td>\n",
              "      <td>123</td>\n",
              "      <td>15세 관람가</td>\n",
              "      <td>장철수</td>\n",
              "      <td>220775.25</td>\n",
              "      <td>4</td>\n",
              "      <td>343</td>\n",
              "      <td>4</td>\n",
              "      <td>6959083</td>\n",
              "    </tr>\n",
              "    <tr>\n",
              "      <th>3</th>\n",
              "      <td>나는 공무원이다</td>\n",
              "      <td>(주)NEW</td>\n",
              "      <td>코미디</td>\n",
              "      <td>2012-07-12</td>\n",
              "      <td>101</td>\n",
              "      <td>전체 관람가</td>\n",
              "      <td>구자홍</td>\n",
              "      <td>23894.00</td>\n",
              "      <td>2</td>\n",
              "      <td>20</td>\n",
              "      <td>6</td>\n",
              "      <td>217866</td>\n",
              "    </tr>\n",
              "    <tr>\n",
              "      <th>4</th>\n",
              "      <td>불량남녀</td>\n",
              "      <td>쇼박스(주)미디어플렉스</td>\n",
              "      <td>코미디</td>\n",
              "      <td>2010-11-04</td>\n",
              "      <td>108</td>\n",
              "      <td>15세 관람가</td>\n",
              "      <td>신근호</td>\n",
              "      <td>1.00</td>\n",
              "      <td>1</td>\n",
              "      <td>251</td>\n",
              "      <td>2</td>\n",
              "      <td>483387</td>\n",
              "    </tr>\n",
              "  </tbody>\n",
              "</table>\n",
              "</div>\n",
              "      <button class=\"colab-df-convert\" onclick=\"convertToInteractive('df-f79171cb-ff21-4638-af3d-ba497ab99d94')\"\n",
              "              title=\"Convert this dataframe to an interactive table.\"\n",
              "              style=\"display:none;\">\n",
              "        \n",
              "  <svg xmlns=\"http://www.w3.org/2000/svg\" height=\"24px\"viewBox=\"0 0 24 24\"\n",
              "       width=\"24px\">\n",
              "    <path d=\"M0 0h24v24H0V0z\" fill=\"none\"/>\n",
              "    <path d=\"M18.56 5.44l.94 2.06.94-2.06 2.06-.94-2.06-.94-.94-2.06-.94 2.06-2.06.94zm-11 1L8.5 8.5l.94-2.06 2.06-.94-2.06-.94L8.5 2.5l-.94 2.06-2.06.94zm10 10l.94 2.06.94-2.06 2.06-.94-2.06-.94-.94-2.06-.94 2.06-2.06.94z\"/><path d=\"M17.41 7.96l-1.37-1.37c-.4-.4-.92-.59-1.43-.59-.52 0-1.04.2-1.43.59L10.3 9.45l-7.72 7.72c-.78.78-.78 2.05 0 2.83L4 21.41c.39.39.9.59 1.41.59.51 0 1.02-.2 1.41-.59l7.78-7.78 2.81-2.81c.8-.78.8-2.07 0-2.86zM5.41 20L4 18.59l7.72-7.72 1.47 1.35L5.41 20z\"/>\n",
              "  </svg>\n",
              "      </button>\n",
              "      \n",
              "  <style>\n",
              "    .colab-df-container {\n",
              "      display:flex;\n",
              "      flex-wrap:wrap;\n",
              "      gap: 12px;\n",
              "    }\n",
              "\n",
              "    .colab-df-convert {\n",
              "      background-color: #E8F0FE;\n",
              "      border: none;\n",
              "      border-radius: 50%;\n",
              "      cursor: pointer;\n",
              "      display: none;\n",
              "      fill: #1967D2;\n",
              "      height: 32px;\n",
              "      padding: 0 0 0 0;\n",
              "      width: 32px;\n",
              "    }\n",
              "\n",
              "    .colab-df-convert:hover {\n",
              "      background-color: #E2EBFA;\n",
              "      box-shadow: 0px 1px 2px rgba(60, 64, 67, 0.3), 0px 1px 3px 1px rgba(60, 64, 67, 0.15);\n",
              "      fill: #174EA6;\n",
              "    }\n",
              "\n",
              "    [theme=dark] .colab-df-convert {\n",
              "      background-color: #3B4455;\n",
              "      fill: #D2E3FC;\n",
              "    }\n",
              "\n",
              "    [theme=dark] .colab-df-convert:hover {\n",
              "      background-color: #434B5C;\n",
              "      box-shadow: 0px 1px 3px 1px rgba(0, 0, 0, 0.15);\n",
              "      filter: drop-shadow(0px 1px 2px rgba(0, 0, 0, 0.3));\n",
              "      fill: #FFFFFF;\n",
              "    }\n",
              "  </style>\n",
              "\n",
              "      <script>\n",
              "        const buttonEl =\n",
              "          document.querySelector('#df-f79171cb-ff21-4638-af3d-ba497ab99d94 button.colab-df-convert');\n",
              "        buttonEl.style.display =\n",
              "          google.colab.kernel.accessAllowed ? 'block' : 'none';\n",
              "\n",
              "        async function convertToInteractive(key) {\n",
              "          const element = document.querySelector('#df-f79171cb-ff21-4638-af3d-ba497ab99d94');\n",
              "          const dataTable =\n",
              "            await google.colab.kernel.invokeFunction('convertToInteractive',\n",
              "                                                     [key], {});\n",
              "          if (!dataTable) return;\n",
              "\n",
              "          const docLinkHtml = 'Like what you see? Visit the ' +\n",
              "            '<a target=\"_blank\" href=https://colab.research.google.com/notebooks/data_table.ipynb>data table notebook</a>'\n",
              "            + ' to learn more about interactive tables.';\n",
              "          element.innerHTML = '';\n",
              "          dataTable['output_type'] = 'display_data';\n",
              "          await google.colab.output.renderOutput(dataTable, element);\n",
              "          const docLink = document.createElement('div');\n",
              "          docLink.innerHTML = docLinkHtml;\n",
              "          element.appendChild(docLink);\n",
              "        }\n",
              "      </script>\n",
              "    </div>\n",
              "  </div>\n",
              "  "
            ]
          },
          "metadata": {},
          "execution_count": 2
        }
      ],
      "source": [
        "import seaborn as sns\n",
        "import matplotlib.pyplot as plt\n",
        "import pandas as pd\n",
        "import warnings\n",
        "warnings.filterwarnings(action='ignore')\n",
        "\n",
        "movies=pd.read_csv(\"movies_train.csv\")\n",
        "movies.head()"
      ]
    },
    {
      "cell_type": "markdown",
      "source": [
        "전처리"
      ],
      "metadata": {
        "id": "bLf33jC95j8E"
      }
    },
    {
      "cell_type": "code",
      "source": [
        "movies['screening_rat'].isna().sum()"
      ],
      "metadata": {
        "colab": {
          "base_uri": "https://localhost:8080/"
        },
        "id": "QzPvFE4i41S5",
        "outputId": "5a4c12d8-56a5-475d-d790-e05ad63454b6"
      },
      "execution_count": 14,
      "outputs": [
        {
          "output_type": "execute_result",
          "data": {
            "text/plain": [
              "0"
            ]
          },
          "metadata": {},
          "execution_count": 14
        }
      ]
    },
    {
      "cell_type": "markdown",
      "source": [
        "변수 1개 \n",
        "##screening_rat 상영등급"
      ],
      "metadata": {
        "id": "8U5lvy755lFc"
      }
    },
    {
      "cell_type": "code",
      "source": [
        "movies['screening_rat'].value_counts()"
      ],
      "metadata": {
        "colab": {
          "base_uri": "https://localhost:8080/"
        },
        "id": "P8nE409A413Z",
        "outputId": "531a5df6-c877-4577-83d2-a528f66a4c4f"
      },
      "execution_count": 15,
      "outputs": [
        {
          "output_type": "execute_result",
          "data": {
            "text/plain": [
              "청소년 관람불가    204\n",
              "15세 관람가     202\n",
              "12세 관람가     102\n",
              "전체 관람가       92\n",
              "Name: screening_rat, dtype: int64"
            ]
          },
          "metadata": {},
          "execution_count": 15
        }
      ]
    },
    {
      "cell_type": "code",
      "source": [
        "movies['screening_rat'].value_counts().plot(kind='bar')\n",
        "plt.title('상영등급에 따른 영화 개수')\n",
        "plt.xlabel('상영등급')\n",
        "plt.ylabel('count')\n",
        "#청소년 관람불가, 15세 관람가, 12세 관람가, 전체 관람가 순으로 많다. 청소년 관람불가, 15세 관람가 영화 수는 12세 관람가, 전체 관람가의 2배 정도이다."
      ],
      "metadata": {
        "colab": {
          "base_uri": "https://localhost:8080/",
          "height": 348
        },
        "id": "QnDIlWjR475L",
        "outputId": "893dcd71-2c9f-41ad-9faa-683e21d456fa"
      },
      "execution_count": 13,
      "outputs": [
        {
          "output_type": "execute_result",
          "data": {
            "text/plain": [
              "Text(0, 0.5, 'count')"
            ]
          },
          "metadata": {},
          "execution_count": 13
        },
        {
          "output_type": "display_data",
          "data": {
            "text/plain": [
              "<Figure size 432x288 with 1 Axes>"
            ],
            "image/png": "[encoded data removed]"
          },
          "metadata": {
            "needs_background": "light"
          }
        }
      ]
    },
    {
      "cell_type": "markdown",
      "source": [
        "변수 2개 \n",
        "### 상영등급 별 관객수\n",
        "* 사용한 변수: screening_rat, box_off_num"
      ],
      "metadata": {
        "id": "dD8Lxy2P5zXl"
      }
    },
    {
      "cell_type": "code",
      "source": [
        "ax=plt.subplots()\n",
        "ax=sns.boxplot(x='screening_rat',y='box_off_num',data=movies)\n",
        "plt.title(\"상영등급 별 관객수\")\n",
        "plt.xlabel('상영등급')\n",
        "plt.ylabel('관객수')\n",
        "#전체 관람가와 청소년 관람불가보다 15세, 12세의 관측치 크기가 더 크다."
      ],
      "metadata": {
        "colab": {
          "base_uri": "https://localhost:8080/",
          "height": 313
        },
        "id": "i9a9szV25y6t",
        "outputId": "b0101568-cb7a-4168-a0a3-b6894c83179b"
      },
      "execution_count": 11,
      "outputs": [
        {
          "output_type": "execute_result",
          "data": {
            "text/plain": [
              "Text(0, 0.5, '관객수')"
            ]
          },
          "metadata": {},
          "execution_count": 11
        },
        {
          "output_type": "display_data",
          "data": {
            "text/plain": [
              "<Figure size 432x288 with 1 Axes>"
            ],
            "image/png": "[encoded data removed]"
          },
          "metadata": {
            "needs_background": "light"
          }
        }
      ]
    },
    {
      "cell_type": "code",
      "source": [
        "ax=plt.subplots()\n",
        "ax=sns.boxplot(x='screening_rat',y='box_off_num',data=movies)\n",
        "plt.title(\"상영등급 별 관객수\")\n",
        "plt.xlabel('상영등급')\n",
        "plt.ylabel('관객수')\n",
        "plt.ylim(0,4000000) #ylim 조정해서 작은 값들의 그래프가 더 잘 보이게"
      ],
      "metadata": {
        "colab": {
          "base_uri": "https://localhost:8080/",
          "height": 313
        },
        "id": "LNN4Q4KN7dZr",
        "outputId": "6005dfa7-5936-4b4d-ad6c-31e14924e2bd"
      },
      "execution_count": 12,
      "outputs": [
        {
          "output_type": "execute_result",
          "data": {
            "text/plain": [
              "(0.0, 4000000.0)"
            ]
          },
          "metadata": {},
          "execution_count": 12
        },
        {
          "output_type": "display_data",
          "data": {
            "text/plain": [
              "<Figure size 432x288 with 1 Axes>"
            ],
            "image/png": "[encoded data removed]"
          },
          "metadata": {
            "needs_background": "light"
          }
        }
      ]
    },
    {
      "cell_type": "markdown",
      "source": [
        "변수 3개 \n",
        "### 상영등급 별 인기있는 장르\n",
        "* 사용한 변수: box_off_num, screening_rate, genre"
      ],
      "metadata": {
        "id": "AjKghsD4521X"
      }
    },
    {
      "cell_type": "code",
      "source": [
        "a=movies.groupby(['screening_rat','genre']).sum()\n",
        "a=pd.DataFrame(a.reset_index())\n",
        "a = a.pivot(index='screening_rat', columns='genre', values='box_off_num')\n",
        "a.plot.bar(stacked=True)\n",
        "plt.legend(loc='center left', bbox_to_anchor=(1, 0.5))\n",
        "plt.title('상영등급 별 장르가 차지하는 비율')\n",
        "plt.xlabel('상영등급')\n",
        "plt.ylabel('관객수')\n",
        "#전체관람가에서는 빨간색이 가장 많고, 12세 관람가, 15세 관람가에서는 보라색이 제일 많고, 청소년 관람불가에서는 초록색이 가장 많다."
      ],
      "metadata": {
        "colab": {
          "base_uri": "https://localhost:8080/",
          "height": 348
        },
        "id": "OuY7dRq_au3N",
        "outputId": "3dde424f-697c-4b2b-a48b-c51b7cdf20e9"
      },
      "execution_count": 15,
      "outputs": [
        {
          "output_type": "execute_result",
          "data": {
            "text/plain": [
              "Text(0, 0.5, '관객수')"
            ]
          },
          "metadata": {},
          "execution_count": 15
        },
        {
          "output_type": "display_data",
          "data": {
            "text/plain": [
              "<Figure size 432x288 with 1 Axes>"
            ],
            "image/png": "[encoded data removed]"
          },
          "metadata": {
            "needs_background": "light"
          }
        }
      ]
    }
  ]
}